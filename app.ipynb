{
 "cells": [
  {
   "cell_type": "code",
   "execution_count": 20,
   "metadata": {},
   "outputs": [
    {
     "name": "stdout",
     "output_type": "stream",
     "text": [
      "0\n",
      "1\n",
      "2\n",
      "3\n",
      "Done !\n"
     ]
    }
   ],
   "source": [
    "import fitz\n",
    "\n",
    "pdffile = \"./pdfs/1.pdf\"\n",
    "doc = fitz.open(pdffile)\n",
    "\n",
    "for i in range(1000):\n",
    "    try:\n",
    "        print(i)\n",
    "        page = doc.loadPage(i)\n",
    "        pix = page.getPixmap()\n",
    "        output = \"outputs/outfile\" + str(i) + \".png\"\n",
    "        pix.writePNG(output)\n",
    "    except ValueError:\n",
    "        break\n",
    "print(\"Done !\")"
   ]
  },
  {
   "cell_type": "code",
   "execution_count": 23,
   "metadata": {},
   "outputs": [],
   "source": [
    "import PyPDF2\n",
    "FILE_PATH = './pdfs/TU.pdf'\n",
    "\n",
    "with open(FILE_PATH, mode='rb') as f:\n",
    "    reader = PyPDF2.PdfFileReader(f)\n",
    "    page = reader.getPage(1)\n",
    "    page_contents = page.extractText()\n",
    "    for i in page_contents:\n",
    "        if i != \"\\n\":\n",
    "            print(\"Hi\" + page_contents)\n"
   ]
  },
  {
   "cell_type": "code",
   "execution_count": 21,
   "metadata": {},
   "outputs": [
    {
     "name": "stdout",
     "output_type": "stream",
     "text": [
      "PREFACE\n",
      "\n",
      "Trade Unions have proliferated due to rapid economic development and\n",
      "development in particular. The setting of industrial units involving wide spread use\n",
      "of machinery, changes in working and living environment of workers,\n",
      "concentration of industries in large towns have brought the workers together to\n",
      "maintain and improve their bargaining power and hence their employment\n",
      "conditions. The first organized Trade Unions in India named as the Madras\n",
      "Labour Union was formed as early as 1918. Since then, a large number of Unions\n",
      "came up in almost all the industrial centers of the country. The government of\n",
      "India passed the “Trade Unions Act,1926” to regulate conditions governing the\n",
      "registration of Trade Unions, obligations imposed on a registered Trade Unions\n",
      "and right and liabilities there of. The Rules Framed under the “Trade Unions\n",
      "Act,1926 impose obligation on the registered Trade Unions (Workers &\n",
      "Employers) to submit annual statutory retum in the prescribed format to the\n",
      "Registrar of their respective States/ Union Territories. These State/U.T. Authorities\n",
      "in turn furnish the consolidated data in respect of the entire State/U.T. to the\n",
      "Labour Bureau. The Labour Bureau compiles and disseminates these statistics at\n",
      "All India level.\n",
      "\n",
      " \n",
      "\n",
      "‘The present biennial review presents comprehensive statistics on the\n",
      "working of the Trade Unions Act, 1926 during 2012. It is based on the Annual\n",
      "Returns received from the Registrar of Trade Unions of the respective States/Union\n",
      "Territories.\n",
      "\n",
      " \n",
      "\n",
      " \n",
      "\n",
      "1am thankful to the Registrar of Trade Unions of all the responding State\n",
      "Government/Union Territory without, whose support it would not have been\n",
      "possible to bring out this Report. I also place on record my appreciation for the\n",
      "work done by the team of officers and staff members of Labour Bureau, whose\n",
      "names appear in Annexure IV.\n",
      "\n",
      "Suggestions for further improvement of this publication are welcome.\n",
      "\n",
      "Dalject Singh\n",
      "Director General\n",
      "\n",
      "Chandigarh\n",
      "\n",
      "Dated : 4\" February, 2015\n",
      "\f\n"
     ]
    }
   ],
   "source": [
    "import pytesseract\n",
    "from PIL import Image\n",
    "a = pytesseract.image_to_string(Image.open(\"./outputs/scr1.png\"), lang=\"eng\")\n",
    "print(a)"
   ]
  },
  {
   "cell_type": "code",
   "execution_count": null,
   "metadata": {},
   "outputs": [],
   "source": []
  }
 ],
 "metadata": {
  "interpreter": {
   "hash": "73965710b066ced831752303aa81c0cd112822c6d7ac95483aa2eb1ffbc1c39e"
  },
  "kernelspec": {
   "display_name": "Python 3.6.13 64-bit ('py36': conda)",
   "name": "python3"
  },
  "language_info": {
   "codemirror_mode": {
    "name": "ipython",
    "version": 3
   },
   "file_extension": ".py",
   "mimetype": "text/x-python",
   "name": "python",
   "nbconvert_exporter": "python",
   "pygments_lexer": "ipython3",
   "version": "3.6.13"
  },
  "orig_nbformat": 4
 },
 "nbformat": 4,
 "nbformat_minor": 2
}
