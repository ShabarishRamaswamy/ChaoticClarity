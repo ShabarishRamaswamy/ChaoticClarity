{
  "cells": [
    {
      "cell_type": "code",
      "execution_count": 2,
      "metadata": {
        "colab": {
          "base_uri": "https://localhost:8080/"
        },
        "id": "YGNe_Ruix6Ps",
        "outputId": "f71331d5-1b71-4598-becd-f12ef4d0cb29"
      },
      "outputs": [
        {
          "name": "stdout",
          "output_type": "stream",
          "text": [
            "Collecting fitz\n",
            "  Downloading fitz-0.0.1.dev2-py2.py3-none-any.whl (20 kB)\n",
            "Requirement already satisfied: numpy in /usr/local/lib/python3.7/dist-packages (from fitz) (1.19.5)\n",
            "Collecting nipype\n",
            "  Downloading nipype-1.6.1-py3-none-any.whl (3.2 MB)\n",
            "\u001b[K     |████████████████████████████████| 3.2 MB 5.1 MB/s \n",
            "\u001b[?25hCollecting configobj\n",
            "  Downloading configobj-5.0.6.tar.gz (33 kB)\n",
            "Collecting pyxnat\n",
            "  Downloading pyxnat-1.4.tar.gz (78 kB)\n",
            "\u001b[K     |████████████████████████████████| 78 kB 6.7 MB/s \n",
            "\u001b[?25hRequirement already satisfied: nibabel in /usr/local/lib/python3.7/dist-packages (from fitz) (3.0.2)\n",
            "Requirement already satisfied: scipy in /usr/local/lib/python3.7/dist-packages (from fitz) (1.4.1)\n",
            "Collecting configparser\n",
            "  Downloading configparser-5.0.2-py3-none-any.whl (19 kB)\n",
            "Requirement already satisfied: pandas in /usr/local/lib/python3.7/dist-packages (from fitz) (1.1.5)\n",
            "Requirement already satisfied: httplib2 in /usr/local/lib/python3.7/dist-packages (from fitz) (0.17.4)\n",
            "Requirement already satisfied: six in /usr/local/lib/python3.7/dist-packages (from configobj->fitz) (1.15.0)\n",
            "Collecting traits!=5.0,>=4.6\n",
            "  Downloading traits-6.3.1-cp37-cp37m-manylinux_2_5_x86_64.manylinux1_x86_64.manylinux_2_12_x86_64.manylinux2010_x86_64.whl (5.1 MB)\n",
            "\u001b[K     |████████████████████████████████| 5.1 MB 42.8 MB/s \n",
            "\u001b[?25hRequirement already satisfied: networkx>=2.0 in /usr/local/lib/python3.7/dist-packages (from nipype->fitz) (2.6.3)\n",
            "Requirement already satisfied: click>=6.6.0 in /usr/local/lib/python3.7/dist-packages (from nipype->fitz) (7.1.2)\n",
            "Requirement already satisfied: python-dateutil>=2.2 in /usr/local/lib/python3.7/dist-packages (from nipype->fitz) (2.8.2)\n",
            "Collecting rdflib>=5.0.0\n",
            "  Downloading rdflib-6.0.2-py3-none-any.whl (407 kB)\n",
            "\u001b[K     |████████████████████████████████| 407 kB 64.5 MB/s \n",
            "\u001b[?25hCollecting etelemetry>=0.2.0\n",
            "  Downloading etelemetry-0.2.2-py3-none-any.whl (6.2 kB)\n",
            "Requirement already satisfied: packaging in /usr/local/lib/python3.7/dist-packages (from nipype->fitz) (21.0)\n",
            "Collecting prov>=1.5.2\n",
            "  Downloading prov-2.0.0-py3-none-any.whl (421 kB)\n",
            "\u001b[K     |████████████████████████████████| 421 kB 66.1 MB/s \n",
            "\u001b[?25hRequirement already satisfied: filelock>=3.0.0 in /usr/local/lib/python3.7/dist-packages (from nipype->fitz) (3.3.0)\n",
            "Collecting simplejson>=3.8.0\n",
            "  Downloading simplejson-3.17.5-cp37-cp37m-manylinux_2_5_x86_64.manylinux1_x86_64.manylinux_2_12_x86_64.manylinux2010_x86_64.whl (129 kB)\n",
            "\u001b[K     |████████████████████████████████| 129 kB 56.6 MB/s \n",
            "\u001b[?25hRequirement already satisfied: pydot>=1.2.3 in /usr/local/lib/python3.7/dist-packages (from nipype->fitz) (1.3.0)\n",
            "Collecting ci-info>=0.2\n",
            "  Downloading ci_info-0.2.0-py3-none-any.whl (6.9 kB)\n",
            "Requirement already satisfied: requests in /usr/local/lib/python3.7/dist-packages (from etelemetry>=0.2.0->nipype->fitz) (2.23.0)\n",
            "Requirement already satisfied: lxml>=3.3.5 in /usr/local/lib/python3.7/dist-packages (from prov>=1.5.2->nipype->fitz) (4.2.6)\n",
            "Requirement already satisfied: pyparsing>=2.1.4 in /usr/local/lib/python3.7/dist-packages (from pydot>=1.2.3->nipype->fitz) (2.4.7)\n",
            "Collecting isodate\n",
            "  Downloading isodate-0.6.0-py2.py3-none-any.whl (45 kB)\n",
            "\u001b[K     |████████████████████████████████| 45 kB 3.3 MB/s \n",
            "\u001b[?25hRequirement already satisfied: setuptools in /usr/local/lib/python3.7/dist-packages (from rdflib>=5.0.0->nipype->fitz) (57.4.0)\n",
            "Requirement already satisfied: pytz>=2017.2 in /usr/local/lib/python3.7/dist-packages (from pandas->fitz) (2018.9)\n",
            "Collecting lxml>=3.3.5\n",
            "  Downloading lxml-4.6.3-cp37-cp37m-manylinux2014_x86_64.whl (6.3 MB)\n",
            "\u001b[K     |████████████████████████████████| 6.3 MB 21.6 MB/s \n",
            "\u001b[?25hRequirement already satisfied: pathlib>=1.0 in /usr/local/lib/python3.7/dist-packages (from pyxnat->fitz) (1.0.1)\n",
            "Requirement already satisfied: future>=0.16 in /usr/local/lib/python3.7/dist-packages (from pyxnat->fitz) (0.16.0)\n",
            "Requirement already satisfied: chardet<4,>=3.0.2 in /usr/local/lib/python3.7/dist-packages (from requests->etelemetry>=0.2.0->nipype->fitz) (3.0.4)\n",
            "Requirement already satisfied: idna<3,>=2.5 in /usr/local/lib/python3.7/dist-packages (from requests->etelemetry>=0.2.0->nipype->fitz) (2.10)\n",
            "Requirement already satisfied: certifi>=2017.4.17 in /usr/local/lib/python3.7/dist-packages (from requests->etelemetry>=0.2.0->nipype->fitz) (2021.5.30)\n",
            "Requirement already satisfied: urllib3!=1.25.0,!=1.25.1,<1.26,>=1.21.1 in /usr/local/lib/python3.7/dist-packages (from requests->etelemetry>=0.2.0->nipype->fitz) (1.24.3)\n",
            "Building wheels for collected packages: configobj, pyxnat\n",
            "  Building wheel for configobj (setup.py) ... \u001b[?25l\u001b[?25hdone\n",
            "  Created wheel for configobj: filename=configobj-5.0.6-py3-none-any.whl size=34546 sha256=de2ceee60bf5b24462c4556427df2432fcd73efef8dbe69e1adeb8ec3a774ea1\n",
            "  Stored in directory: /root/.cache/pip/wheels/0d/c4/19/13d74440f2a571841db6b6e0a273694327498884dafb9cf978\n",
            "  Building wheel for pyxnat (setup.py) ... \u001b[?25l\u001b[?25hdone\n",
            "  Created wheel for pyxnat: filename=pyxnat-1.4-py3-none-any.whl size=92687 sha256=47a2c94c412d1f1b6a53a9109d22d300ac2da7621549f0d22934736ed8a1ad70\n",
            "  Stored in directory: /root/.cache/pip/wheels/09/d3/8f/51847ef95ec6448ff7599bf269145f8290fa82f1ddf00ee90c\n",
            "Successfully built configobj pyxnat\n",
            "Installing collected packages: isodate, rdflib, lxml, ci-info, traits, simplejson, prov, etelemetry, pyxnat, nipype, configparser, configobj, fitz\n",
            "  Attempting uninstall: lxml\n",
            "    Found existing installation: lxml 4.2.6\n",
            "    Uninstalling lxml-4.2.6:\n",
            "      Successfully uninstalled lxml-4.2.6\n",
            "Successfully installed ci-info-0.2.0 configobj-5.0.6 configparser-5.0.2 etelemetry-0.2.2 fitz-0.0.1.dev2 isodate-0.6.0 lxml-4.6.3 nipype-1.6.1 prov-2.0.0 pyxnat-1.4 rdflib-6.0.2 simplejson-3.17.5 traits-6.3.1\n",
            "Collecting PyPDF2\n",
            "  Downloading PyPDF2-1.26.0.tar.gz (77 kB)\n",
            "\u001b[K     |████████████████████████████████| 77 kB 3.2 MB/s \n",
            "\u001b[?25hBuilding wheels for collected packages: PyPDF2\n",
            "  Building wheel for PyPDF2 (setup.py) ... \u001b[?25l\u001b[?25hdone\n",
            "  Created wheel for PyPDF2: filename=PyPDF2-1.26.0-py3-none-any.whl size=61101 sha256=2dac314e1471789cfd3e15ec8872f2cf874358d8a8794fbb3fcc8317fbfff570\n",
            "  Stored in directory: /root/.cache/pip/wheels/80/1a/24/648467ade3a77ed20f35cfd2badd32134e96dd25ca811e64b3\n",
            "Successfully built PyPDF2\n",
            "Installing collected packages: PyPDF2\n",
            "Successfully installed PyPDF2-1.26.0\n",
            "Requirement already satisfied: Pillow in /usr/local/lib/python3.7/dist-packages (7.1.2)\n",
            "Collecting pytesseract\n",
            "  Downloading pytesseract-0.3.8.tar.gz (14 kB)\n",
            "Requirement already satisfied: Pillow in /usr/local/lib/python3.7/dist-packages (from pytesseract) (7.1.2)\n",
            "Building wheels for collected packages: pytesseract\n",
            "  Building wheel for pytesseract (setup.py) ... \u001b[?25l\u001b[?25hdone\n",
            "  Created wheel for pytesseract: filename=pytesseract-0.3.8-py2.py3-none-any.whl size=14072 sha256=d111a7209fc403e774eadc0346df204b92e7ce10f5f895587ec5dc06f14bf926\n",
            "  Stored in directory: /root/.cache/pip/wheels/a4/89/b9/3f11250225d0f90e5454fcc30fd1b7208db226850715aa9ace\n",
            "Successfully built pytesseract\n",
            "Installing collected packages: pytesseract\n",
            "Successfully installed pytesseract-0.3.8\n"
          ]
        }
      ],
      "source": [
        "!pip install fitz\n",
        "!pip install PyPDF2\n",
        "!pip install Pillow\n",
        "!pip install pytesseract"
      ]
    },
    {
      "cell_type": "code",
      "execution_count": 3,
      "metadata": {
        "colab": {
          "base_uri": "https://localhost:8080/"
        },
        "id": "uc6id-UuoSUt",
        "outputId": "7f414153-c8f6-440b-a3ef-698a2adc7702"
      },
      "outputs": [
        {
          "name": "stdout",
          "output_type": "stream",
          "text": [
            "Requirement already satisfied: pip in /usr/local/lib/python3.7/dist-packages (21.1.3)\n",
            "Collecting pip\n",
            "  Downloading pip-21.3-py3-none-any.whl (1.7 MB)\n",
            "\u001b[K     |████████████████████████████████| 1.7 MB 5.1 MB/s \n",
            "\u001b[?25hInstalling collected packages: pip\n",
            "  Attempting uninstall: pip\n",
            "    Found existing installation: pip 21.1.3\n",
            "    Uninstalling pip-21.1.3:\n",
            "      Successfully uninstalled pip-21.1.3\n",
            "Successfully installed pip-21.3\n",
            "Collecting PyMuPDF\n",
            "  Downloading PyMuPDF-1.19.0-cp37-cp37m-manylinux_2_12_x86_64.manylinux2010_x86_64.whl (8.7 MB)\n",
            "     |████████████████████████████████| 8.7 MB 2.7 MB/s            \n",
            "\u001b[?25hInstalling collected packages: PyMuPDF\n",
            "Successfully installed PyMuPDF-1.19.0\n",
            "\u001b[33mWARNING: Running pip as the 'root' user can result in broken permissions and conflicting behaviour with the system package manager. It is recommended to use a virtual environment instead: https://pip.pypa.io/warnings/venv\u001b[0m\n"
          ]
        }
      ],
      "source": [
        "!pip install --upgrade pip\n",
        "!pip install -U PyMuPDF"
      ]
    },
    {
      "cell_type": "code",
      "execution_count": 4,
      "metadata": {
        "colab": {
          "base_uri": "https://localhost:8080/",
          "height": 362
        },
        "id": "NflIm_lEyD60",
        "outputId": "fe3ba322-80ad-4d7b-cc18-2fcc2d09dd7f"
      },
      "outputs": [
        {
          "name": "stderr",
          "output_type": "stream",
          "text": [
            "mupdf: cannot open /content/1.pdf: No such file or directory\n"
          ]
        },
        {
          "ename": "RuntimeError",
          "evalue": "ignored",
          "output_type": "error",
          "traceback": [
            "\u001b[0;31m---------------------------------------------------------------------------\u001b[0m",
            "\u001b[0;31mRuntimeError\u001b[0m                              Traceback (most recent call last)",
            "\u001b[0;32m<ipython-input-4-72c80899a497>\u001b[0m in \u001b[0;36m<module>\u001b[0;34m()\u001b[0m\n\u001b[1;32m      2\u001b[0m \u001b[0;34m\u001b[0m\u001b[0m\n\u001b[1;32m      3\u001b[0m \u001b[0mpdffile\u001b[0m \u001b[0;34m=\u001b[0m \u001b[0;34m\"/content/1.pdf\"\u001b[0m\u001b[0;34m\u001b[0m\u001b[0;34m\u001b[0m\u001b[0m\n\u001b[0;32m----> 4\u001b[0;31m \u001b[0mdoc\u001b[0m \u001b[0;34m=\u001b[0m \u001b[0mfitz\u001b[0m\u001b[0;34m.\u001b[0m\u001b[0mopen\u001b[0m\u001b[0;34m(\u001b[0m\u001b[0mpdffile\u001b[0m\u001b[0;34m)\u001b[0m\u001b[0;34m\u001b[0m\u001b[0;34m\u001b[0m\u001b[0m\n\u001b[0m\u001b[1;32m      5\u001b[0m \u001b[0;34m\u001b[0m\u001b[0m\n\u001b[1;32m      6\u001b[0m \u001b[0;32mfor\u001b[0m \u001b[0mi\u001b[0m \u001b[0;32min\u001b[0m \u001b[0mrange\u001b[0m\u001b[0;34m(\u001b[0m\u001b[0;36m1000\u001b[0m\u001b[0;34m)\u001b[0m\u001b[0;34m:\u001b[0m\u001b[0;34m\u001b[0m\u001b[0;34m\u001b[0m\u001b[0m\n",
            "\u001b[0;32m/usr/local/lib/python3.7/dist-packages/fitz/fitz.py\u001b[0m in \u001b[0;36m__init__\u001b[0;34m(self, filename, stream, filetype, rect, width, height, fontsize)\u001b[0m\n\u001b[1;32m   3806\u001b[0m             \u001b[0mself\u001b[0m\u001b[0;34m,\u001b[0m\u001b[0;34m\u001b[0m\u001b[0;34m\u001b[0m\u001b[0m\n\u001b[1;32m   3807\u001b[0m             _fitz.new_Document(\n\u001b[0;32m-> 3808\u001b[0;31m                 \u001b[0mfilename\u001b[0m\u001b[0;34m,\u001b[0m \u001b[0mstream\u001b[0m\u001b[0;34m,\u001b[0m \u001b[0mfiletype\u001b[0m\u001b[0;34m,\u001b[0m \u001b[0mrect\u001b[0m\u001b[0;34m,\u001b[0m \u001b[0mwidth\u001b[0m\u001b[0;34m,\u001b[0m \u001b[0mheight\u001b[0m\u001b[0;34m,\u001b[0m \u001b[0mfontsize\u001b[0m\u001b[0;34m\u001b[0m\u001b[0;34m\u001b[0m\u001b[0m\n\u001b[0m\u001b[1;32m   3809\u001b[0m             ),\n\u001b[1;32m   3810\u001b[0m         )\n",
            "\u001b[0;31mRuntimeError\u001b[0m: cannot open /content/1.pdf: No such file or directory"
          ]
        }
      ],
      "source": [
        "import fitz\n",
        "\n",
        "pdffile = \"/content/1.pdf\"\n",
        "doc = fitz.open(pdffile)\n",
        "\n",
        "for i in range(1000):\n",
        "    try:\n",
        "        print(i)\n",
        "        page = doc.loadPage(i)\n",
        "        pix = page.getPixmap()\n",
        "        output = \"/content/outfile\" + str(i) + \".png\"\n",
        "        pix.writePNG(output)\n",
        "    except ValueError:\n",
        "        break\n",
        "print(\"Done !\")"
      ]
    },
    {
      "cell_type": "code",
      "execution_count": null,
      "metadata": {
        "id": "RI5vXFQMyX4r"
      },
      "outputs": [],
      "source": [
        "import PyPDF2\n",
        "FILE_PATH = '/content/TU.pdf'\n",
        "\n",
        "with open(FILE_PATH, mode='rb') as f:\n",
        "    reader = PyPDF2.PdfFileReader(f)\n",
        "    page = reader.getPage(10)\n",
        "    print(page.extractText())"
      ]
    },
    {
      "cell_type": "code",
      "execution_count": 5,
      "metadata": {
        "colab": {
          "base_uri": "https://localhost:8080/",
          "height": 1000
        },
        "id": "HvnH6LxX18-z",
        "outputId": "2cdcf5e5-71ba-42c0-e478-3c43013b78a4"
      },
      "outputs": [
        {
          "name": "stdout",
          "output_type": "stream",
          "text": [
            "Requirement already satisfied: spacy in /usr/local/lib/python3.7/dist-packages (2.2.4)\n",
            "Requirement already satisfied: setuptools in /usr/local/lib/python3.7/dist-packages (from spacy) (57.4.0)\n",
            "Requirement already satisfied: blis<0.5.0,>=0.4.0 in /usr/local/lib/python3.7/dist-packages (from spacy) (0.4.1)\n",
            "Requirement already satisfied: murmurhash<1.1.0,>=0.28.0 in /usr/local/lib/python3.7/dist-packages (from spacy) (1.0.5)\n",
            "Requirement already satisfied: requests<3.0.0,>=2.13.0 in /usr/local/lib/python3.7/dist-packages (from spacy) (2.23.0)\n",
            "Requirement already satisfied: preshed<3.1.0,>=3.0.2 in /usr/local/lib/python3.7/dist-packages (from spacy) (3.0.5)\n",
            "Requirement already satisfied: thinc==7.4.0 in /usr/local/lib/python3.7/dist-packages (from spacy) (7.4.0)\n",
            "Requirement already satisfied: plac<1.2.0,>=0.9.6 in /usr/local/lib/python3.7/dist-packages (from spacy) (1.1.3)\n",
            "Requirement already satisfied: srsly<1.1.0,>=1.0.2 in /usr/local/lib/python3.7/dist-packages (from spacy) (1.0.5)\n",
            "Requirement already satisfied: numpy>=1.15.0 in /usr/local/lib/python3.7/dist-packages (from spacy) (1.19.5)\n",
            "Requirement already satisfied: cymem<2.1.0,>=2.0.2 in /usr/local/lib/python3.7/dist-packages (from spacy) (2.0.5)\n",
            "Requirement already satisfied: tqdm<5.0.0,>=4.38.0 in /usr/local/lib/python3.7/dist-packages (from spacy) (4.62.3)\n",
            "Requirement already satisfied: catalogue<1.1.0,>=0.0.7 in /usr/local/lib/python3.7/dist-packages (from spacy) (1.0.0)\n",
            "Requirement already satisfied: wasabi<1.1.0,>=0.4.0 in /usr/local/lib/python3.7/dist-packages (from spacy) (0.8.2)\n",
            "Requirement already satisfied: importlib-metadata>=0.20 in /usr/local/lib/python3.7/dist-packages (from catalogue<1.1.0,>=0.0.7->spacy) (4.8.1)\n",
            "Requirement already satisfied: urllib3!=1.25.0,!=1.25.1,<1.26,>=1.21.1 in /usr/local/lib/python3.7/dist-packages (from requests<3.0.0,>=2.13.0->spacy) (1.24.3)\n",
            "Requirement already satisfied: chardet<4,>=3.0.2 in /usr/local/lib/python3.7/dist-packages (from requests<3.0.0,>=2.13.0->spacy) (3.0.4)\n",
            "Requirement already satisfied: idna<3,>=2.5 in /usr/local/lib/python3.7/dist-packages (from requests<3.0.0,>=2.13.0->spacy) (2.10)\n",
            "Requirement already satisfied: certifi>=2017.4.17 in /usr/local/lib/python3.7/dist-packages (from requests<3.0.0,>=2.13.0->spacy) (2021.5.30)\n",
            "Requirement already satisfied: zipp>=0.5 in /usr/local/lib/python3.7/dist-packages (from importlib-metadata>=0.20->catalogue<1.1.0,>=0.0.7->spacy) (3.6.0)\n",
            "Requirement already satisfied: typing-extensions>=3.6.4 in /usr/local/lib/python3.7/dist-packages (from importlib-metadata>=0.20->catalogue<1.1.0,>=0.0.7->spacy) (3.7.4.3)\n",
            "\u001b[33mWARNING: Running pip as the 'root' user can result in broken permissions and conflicting behaviour with the system package manager. It is recommended to use a virtual environment instead: https://pip.pypa.io/warnings/venv\u001b[0m\n",
            "Collecting blackstone\n",
            "  Downloading blackstone-0.1.15-py3-none-any.whl (108 kB)\n",
            "     |████████████████████████████████| 108 kB 5.1 MB/s            \n",
            "\u001b[?25hRequirement already satisfied: pandas in /usr/local/lib/python3.7/dist-packages (from blackstone) (1.1.5)\n",
            "Collecting conllu\n",
            "  Downloading conllu-4.4.1-py2.py3-none-any.whl (15 kB)\n",
            "Collecting spacy==2.1.8\n",
            "  Downloading spacy-2.1.8-cp37-cp37m-manylinux1_x86_64.whl (30.8 MB)\n",
            "     |████████████████████████████████| 30.8 MB 61 kB/s              \n",
            "\u001b[?25hRequirement already satisfied: numpy in /usr/local/lib/python3.7/dist-packages (from blackstone) (1.19.5)\n",
            "Requirement already satisfied: requests in /usr/local/lib/python3.7/dist-packages (from blackstone) (2.23.0)\n",
            "Collecting plac<1.0.0,>=0.9.6\n",
            "  Downloading plac-0.9.6-py2.py3-none-any.whl (20 kB)\n",
            "Collecting thinc<7.1.0,>=7.0.8\n",
            "  Downloading thinc-7.0.8-cp37-cp37m-manylinux1_x86_64.whl (2.1 MB)\n",
            "     |████████████████████████████████| 2.1 MB 48.0 MB/s            \n",
            "\u001b[?25hRequirement already satisfied: murmurhash<1.1.0,>=0.28.0 in /usr/local/lib/python3.7/dist-packages (from spacy==2.1.8->blackstone) (1.0.5)\n",
            "Requirement already satisfied: cymem<2.1.0,>=2.0.2 in /usr/local/lib/python3.7/dist-packages (from spacy==2.1.8->blackstone) (2.0.5)\n",
            "Collecting preshed<2.1.0,>=2.0.1\n",
            "  Downloading preshed-2.0.1-cp37-cp37m-manylinux1_x86_64.whl (82 kB)\n",
            "     |████████████████████████████████| 82 kB 347 kB/s             \n",
            "\u001b[?25hRequirement already satisfied: srsly<1.1.0,>=0.0.6 in /usr/local/lib/python3.7/dist-packages (from spacy==2.1.8->blackstone) (1.0.5)\n",
            "Requirement already satisfied: wasabi<1.1.0,>=0.2.0 in /usr/local/lib/python3.7/dist-packages (from spacy==2.1.8->blackstone) (0.8.2)\n",
            "Collecting blis<0.3.0,>=0.2.2\n",
            "  Downloading blis-0.2.4-cp37-cp37m-manylinux1_x86_64.whl (3.2 MB)\n",
            "     |████████████████████████████████| 3.2 MB 47.8 MB/s            \n",
            "\u001b[?25hRequirement already satisfied: idna<3,>=2.5 in /usr/local/lib/python3.7/dist-packages (from requests->blackstone) (2.10)\n",
            "Requirement already satisfied: urllib3!=1.25.0,!=1.25.1,<1.26,>=1.21.1 in /usr/local/lib/python3.7/dist-packages (from requests->blackstone) (1.24.3)\n",
            "Requirement already satisfied: chardet<4,>=3.0.2 in /usr/local/lib/python3.7/dist-packages (from requests->blackstone) (3.0.4)\n",
            "Requirement already satisfied: certifi>=2017.4.17 in /usr/local/lib/python3.7/dist-packages (from requests->blackstone) (2021.5.30)\n",
            "Requirement already satisfied: python-dateutil>=2.7.3 in /usr/local/lib/python3.7/dist-packages (from pandas->blackstone) (2.8.2)\n",
            "Requirement already satisfied: pytz>=2017.2 in /usr/local/lib/python3.7/dist-packages (from pandas->blackstone) (2018.9)\n",
            "Requirement already satisfied: six>=1.5 in /usr/local/lib/python3.7/dist-packages (from python-dateutil>=2.7.3->pandas->blackstone) (1.15.0)\n",
            "Requirement already satisfied: tqdm<5.0.0,>=4.10.0 in /usr/local/lib/python3.7/dist-packages (from thinc<7.1.0,>=7.0.8->spacy==2.1.8->blackstone) (4.62.3)\n",
            "Installing collected packages: preshed, plac, blis, thinc, spacy, conllu, blackstone\n",
            "  Attempting uninstall: preshed\n",
            "    Found existing installation: preshed 3.0.5\n",
            "    Uninstalling preshed-3.0.5:\n",
            "      Successfully uninstalled preshed-3.0.5\n",
            "  Attempting uninstall: plac\n",
            "    Found existing installation: plac 1.1.3\n",
            "    Uninstalling plac-1.1.3:\n",
            "      Successfully uninstalled plac-1.1.3\n",
            "  Attempting uninstall: blis\n",
            "    Found existing installation: blis 0.4.1\n",
            "    Uninstalling blis-0.4.1:\n",
            "      Successfully uninstalled blis-0.4.1\n",
            "  Attempting uninstall: thinc\n",
            "    Found existing installation: thinc 7.4.0\n",
            "    Uninstalling thinc-7.4.0:\n",
            "      Successfully uninstalled thinc-7.4.0\n",
            "  Attempting uninstall: spacy\n",
            "    Found existing installation: spacy 2.2.4\n",
            "    Uninstalling spacy-2.2.4:\n",
            "      Successfully uninstalled spacy-2.2.4\n",
            "\u001b[31mERROR: pip's dependency resolver does not currently take into account all the packages that are installed. This behaviour is the source of the following dependency conflicts.\n",
            "en-core-web-sm 2.2.5 requires spacy>=2.2.2, but you have spacy 2.1.8 which is incompatible.\u001b[0m\n",
            "Successfully installed blackstone-0.1.15 blis-0.2.4 conllu-4.4.1 plac-0.9.6 preshed-2.0.1 spacy-2.1.8 thinc-7.0.8\n",
            "\u001b[33mWARNING: Running pip as the 'root' user can result in broken permissions and conflicting behaviour with the system package manager. It is recommended to use a virtual environment instead: https://pip.pypa.io/warnings/venv\u001b[0m\n",
            "Collecting https://blackstone-model.s3-eu-west-1.amazonaws.com/en_blackstone_proto-0.0.1.tar.gz\n",
            "  Downloading https://blackstone-model.s3-eu-west-1.amazonaws.com/en_blackstone_proto-0.0.1.tar.gz (243.3 MB)\n",
            "     |████████████████████████████████| 243.3 MB 40 kB/s              \n",
            "\u001b[?25h  Preparing metadata (setup.py) ... \u001b[?25l\u001b[?25hdone\n",
            "Requirement already satisfied: spacy>=2.1.6 in /usr/local/lib/python3.7/dist-packages (from en-blackstone-proto==0.0.1) (2.1.8)\n",
            "Requirement already satisfied: requests<3.0.0,>=2.13.0 in /usr/local/lib/python3.7/dist-packages (from spacy>=2.1.6->en-blackstone-proto==0.0.1) (2.23.0)\n",
            "Requirement already satisfied: preshed<2.1.0,>=2.0.1 in /usr/local/lib/python3.7/dist-packages (from spacy>=2.1.6->en-blackstone-proto==0.0.1) (2.0.1)\n",
            "Requirement already satisfied: numpy>=1.15.0 in /usr/local/lib/python3.7/dist-packages (from spacy>=2.1.6->en-blackstone-proto==0.0.1) (1.19.5)\n",
            "Requirement already satisfied: cymem<2.1.0,>=2.0.2 in /usr/local/lib/python3.7/dist-packages (from spacy>=2.1.6->en-blackstone-proto==0.0.1) (2.0.5)\n",
            "Requirement already satisfied: blis<0.3.0,>=0.2.2 in /usr/local/lib/python3.7/dist-packages (from spacy>=2.1.6->en-blackstone-proto==0.0.1) (0.2.4)\n",
            "Requirement already satisfied: plac<1.0.0,>=0.9.6 in /usr/local/lib/python3.7/dist-packages (from spacy>=2.1.6->en-blackstone-proto==0.0.1) (0.9.6)\n",
            "Requirement already satisfied: wasabi<1.1.0,>=0.2.0 in /usr/local/lib/python3.7/dist-packages (from spacy>=2.1.6->en-blackstone-proto==0.0.1) (0.8.2)\n",
            "Requirement already satisfied: murmurhash<1.1.0,>=0.28.0 in /usr/local/lib/python3.7/dist-packages (from spacy>=2.1.6->en-blackstone-proto==0.0.1) (1.0.5)\n",
            "Requirement already satisfied: thinc<7.1.0,>=7.0.8 in /usr/local/lib/python3.7/dist-packages (from spacy>=2.1.6->en-blackstone-proto==0.0.1) (7.0.8)\n",
            "Requirement already satisfied: srsly<1.1.0,>=0.0.6 in /usr/local/lib/python3.7/dist-packages (from spacy>=2.1.6->en-blackstone-proto==0.0.1) (1.0.5)\n",
            "Requirement already satisfied: chardet<4,>=3.0.2 in /usr/local/lib/python3.7/dist-packages (from requests<3.0.0,>=2.13.0->spacy>=2.1.6->en-blackstone-proto==0.0.1) (3.0.4)\n",
            "Requirement already satisfied: idna<3,>=2.5 in /usr/local/lib/python3.7/dist-packages (from requests<3.0.0,>=2.13.0->spacy>=2.1.6->en-blackstone-proto==0.0.1) (2.10)\n",
            "Requirement already satisfied: urllib3!=1.25.0,!=1.25.1,<1.26,>=1.21.1 in /usr/local/lib/python3.7/dist-packages (from requests<3.0.0,>=2.13.0->spacy>=2.1.6->en-blackstone-proto==0.0.1) (1.24.3)\n",
            "Requirement already satisfied: certifi>=2017.4.17 in /usr/local/lib/python3.7/dist-packages (from requests<3.0.0,>=2.13.0->spacy>=2.1.6->en-blackstone-proto==0.0.1) (2021.5.30)\n",
            "Requirement already satisfied: tqdm<5.0.0,>=4.10.0 in /usr/local/lib/python3.7/dist-packages (from thinc<7.1.0,>=7.0.8->spacy>=2.1.6->en-blackstone-proto==0.0.1) (4.62.3)\n",
            "Building wheels for collected packages: en-blackstone-proto\n",
            "  Building wheel for en-blackstone-proto (setup.py) ... \u001b[?25l\u001b[?25hdone\n",
            "  Created wheel for en-blackstone-proto: filename=en_blackstone_proto-0.0.1-py3-none-any.whl size=243759403 sha256=b06709f11386890e5185e4984946b2a7da7aad642ea1d9efa55ce8c0d3d8744b\n",
            "  Stored in directory: /root/.cache/pip/wheels/d0/42/74/a20fefd54024d07e8ebd2dfb6f3435c70669295db2841a928e\n",
            "Successfully built en-blackstone-proto\n",
            "Installing collected packages: en-blackstone-proto\n",
            "Successfully installed en-blackstone-proto-0.0.1\n",
            "\u001b[33mWARNING: Running pip as the 'root' user can result in broken permissions and conflicting behaviour with the system package manager. It is recommended to use a virtual environment instead: https://pip.pypa.io/warnings/venv\u001b[0m\n",
            "Collecting lexnlp\n",
            "  Downloading lexnlp-2.1.0-py3-none-any.whl (9.9 MB)\n",
            "     |████████████████████████████████| 9.9 MB 4.3 MB/s            \n",
            "\u001b[?25hCollecting datefinder-lexpredict==0.6.2.1\n",
            "  Downloading datefinder_lexpredict-0.6.2.1-py2.py3-none-any.whl (8.0 kB)\n",
            "Collecting joblib==0.14.0\n",
            "  Downloading joblib-0.14.0-py2.py3-none-any.whl (294 kB)\n",
            "     |████████████████████████████████| 294 kB 63.6 MB/s            \n",
            "\u001b[?25hCollecting requests==2.24.0\n",
            "  Downloading requests-2.24.0-py2.py3-none-any.whl (61 kB)\n",
            "     |████████████████████████████████| 61 kB 329 kB/s             \n",
            "\u001b[?25hCollecting reporters-db==2.0.3\n",
            "  Downloading reporters_db-2.0.3-py2.py3-none-any.whl (72 kB)\n",
            "     |████████████████████████████████| 72 kB 1.4 MB/s             \n",
            "\u001b[?25hCollecting scipy==1.5.1\n",
            "  Downloading scipy-1.5.1-cp37-cp37m-manylinux1_x86_64.whl (25.9 MB)\n",
            "     |████████████████████████████████| 25.9 MB 1.4 MB/s             \n",
            "\u001b[?25hCollecting dateparser==0.7.2\n",
            "  Downloading dateparser-0.7.2-py2.py3-none-any.whl (352 kB)\n",
            "     |████████████████████████████████| 352 kB 49.2 MB/s            \n",
            "\u001b[?25hCollecting gensim==3.8.3\n",
            "  Downloading gensim-3.8.3-cp37-cp37m-manylinux1_x86_64.whl (24.2 MB)\n",
            "     |████████████████████████████████| 24.2 MB 1.5 MB/s             \n",
            "\u001b[?25hCollecting zahlwort2num==0.2.1\n",
            "  Downloading zahlwort2num-0.2.1-py3-none-any.whl (7.6 kB)\n",
            "Collecting us==2.0.2\n",
            "  Downloading us-2.0.2.tar.gz (14 kB)\n",
            "  Preparing metadata (setup.py) ... \u001b[?25l\u001b[?25hdone\n",
            "Collecting numpy==1.19.1\n",
            "  Downloading numpy-1.19.1-cp37-cp37m-manylinux2010_x86_64.whl (14.5 MB)\n",
            "     |████████████████████████████████| 14.5 MB 5.4 kB/s             \n",
            "\u001b[?25hCollecting pandas==1.1.3\n",
            "  Downloading pandas-1.1.3-cp37-cp37m-manylinux1_x86_64.whl (9.5 MB)\n",
            "     |████████████████████████████████| 9.5 MB 55.9 MB/s            \n",
            "\u001b[?25hCollecting nltk==3.5\n",
            "  Downloading nltk-3.5.zip (1.4 MB)\n",
            "     |████████████████████████████████| 1.4 MB 79.1 MB/s            \n",
            "\u001b[?25h  Preparing metadata (setup.py) ... \u001b[?25l\u001b[?25hdone\n",
            "Collecting num2words==0.5.10\n",
            "  Downloading num2words-0.5.10-py3-none-any.whl (101 kB)\n",
            "     |████████████████████████████████| 101 kB 10.2 MB/s           \n",
            "\u001b[?25hCollecting pycountry==20.7.3\n",
            "  Downloading pycountry-20.7.3.tar.gz (10.1 MB)\n",
            "     |████████████████████████████████| 10.1 MB 49.8 MB/s            \n",
            "\u001b[?25h  Preparing metadata (setup.py) ... \u001b[?25l\u001b[?25hdone\n",
            "Collecting regex==2020.11.13\n",
            "  Downloading regex-2020.11.13-cp37-cp37m-manylinux2014_x86_64.whl (719 kB)\n",
            "     |████████████████████████████████| 719 kB 67.7 MB/s            \n",
            "\u001b[?25hCollecting Unidecode==1.1.1\n",
            "  Downloading Unidecode-1.1.1-py2.py3-none-any.whl (238 kB)\n",
            "     |████████████████████████████████| 238 kB 71.2 MB/s            \n",
            "\u001b[?25hCollecting scikit-learn==0.23.1\n",
            "  Downloading scikit_learn-0.23.1-cp37-cp37m-manylinux1_x86_64.whl (6.8 MB)\n",
            "     |████████████████████████████████| 6.8 MB 70.9 MB/s            \n",
            "\u001b[?25hRequirement already satisfied: python-dateutil>=2.4.2 in /usr/local/lib/python3.7/dist-packages (from datefinder-lexpredict==0.6.2.1->lexnlp) (2.8.2)\n",
            "Requirement already satisfied: pytz in /usr/local/lib/python3.7/dist-packages (from datefinder-lexpredict==0.6.2.1->lexnlp) (2018.9)\n",
            "INFO: pip is looking at multiple versions of <Python from Requires-Python> to determine which version is compatible with other requirements. This could take a while.\n",
            "INFO: pip is looking at multiple versions of lexnlp to determine which version is compatible with other requirements. This could take a while.\n",
            "Collecting lexnlp\n",
            "  Downloading lexnlp-2.0.0-py3-none-any.whl (10.0 MB)\n",
            "     |████████████████████████████████| 10.0 MB 18.4 MB/s            \n",
            "\u001b[?25h  Downloading lexnlp-1.8.0-py3-none-any.whl (9.8 MB)\n",
            "     |████████████████████████████████| 9.8 MB 14.1 MB/s            \n",
            "\u001b[?25hCollecting pandas==0.24.2\n",
            "  Downloading pandas-0.24.2-cp37-cp37m-manylinux1_x86_64.whl (10.1 MB)\n",
            "     |████████████████████████████████| 10.1 MB 70.4 MB/s            \n",
            "\u001b[?25hCollecting regex==2020.7.14\n",
            "  Downloading regex-2020.7.14-cp37-cp37m-manylinux2010_x86_64.whl (660 kB)\n",
            "     |████████████████████████████████| 660 kB 74.8 MB/s            \n",
            "\u001b[?25hRequirement already satisfied: tzlocal in /usr/local/lib/python3.7/dist-packages (from dateparser==0.7.2->lexnlp) (1.5.1)\n",
            "Requirement already satisfied: smart-open>=1.8.1 in /usr/local/lib/python3.7/dist-packages (from gensim==3.8.3->lexnlp) (5.2.1)\n",
            "Requirement already satisfied: six>=1.5.0 in /usr/local/lib/python3.7/dist-packages (from gensim==3.8.3->lexnlp) (1.15.0)\n",
            "Requirement already satisfied: click in /usr/local/lib/python3.7/dist-packages (from nltk==3.5->lexnlp) (7.1.2)\n",
            "Requirement already satisfied: tqdm in /usr/local/lib/python3.7/dist-packages (from nltk==3.5->lexnlp) (4.62.3)\n",
            "Requirement already satisfied: docopt>=0.6.2 in /usr/local/lib/python3.7/dist-packages (from num2words==0.5.10->lexnlp) (0.6.2)\n",
            "Requirement already satisfied: certifi>=2017.4.17 in /usr/local/lib/python3.7/dist-packages (from requests==2.24.0->lexnlp) (2021.5.30)\n",
            "Requirement already satisfied: urllib3!=1.25.0,!=1.25.1,<1.26,>=1.21.1 in /usr/local/lib/python3.7/dist-packages (from requests==2.24.0->lexnlp) (1.24.3)\n",
            "Requirement already satisfied: chardet<4,>=3.0.2 in /usr/local/lib/python3.7/dist-packages (from requests==2.24.0->lexnlp) (3.0.4)\n",
            "Requirement already satisfied: idna<3,>=2.5 in /usr/local/lib/python3.7/dist-packages (from requests==2.24.0->lexnlp) (2.10)\n",
            "Collecting threadpoolctl>=2.0.0\n",
            "  Downloading threadpoolctl-3.0.0-py3-none-any.whl (14 kB)\n",
            "Collecting jellyfish==0.6.1\n",
            "  Downloading jellyfish-0.6.1.tar.gz (132 kB)\n",
            "     |████████████████████████████████| 132 kB 78.4 MB/s            \n",
            "\u001b[?25h  Preparing metadata (setup.py) ... \u001b[?25l\u001b[?25hdone\n",
            "Building wheels for collected packages: nltk, pycountry, us, jellyfish\n",
            "  Building wheel for nltk (setup.py) ... \u001b[?25l\u001b[?25hdone\n",
            "  Created wheel for nltk: filename=nltk-3.5-py3-none-any.whl size=1434690 sha256=dc59d295305daa570601b69a112883b599cdcdd8d1fc0a4daf8103b06579d9bd\n",
            "  Stored in directory: /root/.cache/pip/wheels/45/6c/46/a1865e7ba706b3817f5d1b2ff7ce8996aabdd0d03d47ba0266\n",
            "  Building wheel for pycountry (setup.py) ... \u001b[?25l\u001b[?25hdone\n",
            "  Created wheel for pycountry: filename=pycountry-20.7.3-py2.py3-none-any.whl size=10746883 sha256=3ed5765a701d069f06962bef05fabbb1e70fbb23d4c02726721268f89ff2b961\n",
            "  Stored in directory: /root/.cache/pip/wheels/57/e8/3f/120ccc1ff7541c108bc5d656e2a14c39da0d824653b62284c6\n",
            "  Building wheel for us (setup.py) ... \u001b[?25l\u001b[?25hdone\n",
            "  Created wheel for us: filename=us-2.0.2-py3-none-any.whl size=11942 sha256=d9be590d07f30c7a265e0210da3056ed0a09d9fe88116c5911b3761d201484ed\n",
            "  Stored in directory: /root/.cache/pip/wheels/ca/6b/11/cda9ea2438f721330a35c9a2c8e34b4aedcd34c89af48a4d00\n",
            "  Building wheel for jellyfish (setup.py) ... \u001b[?25l\u001b[?25hdone\n",
            "  Created wheel for jellyfish: filename=jellyfish-0.6.1-cp37-cp37m-linux_x86_64.whl size=72168 sha256=7bede0cb1380b335ba08a7f3606f291776c5dd8f5fe77644abefc61da7fef0fb\n",
            "  Stored in directory: /root/.cache/pip/wheels/a1/99/51/7de469e37cd1b3c763c24394e1ebf1baa2d79e094bf346cf80\n",
            "Successfully built nltk pycountry us jellyfish\n",
            "Installing collected packages: numpy, threadpoolctl, scipy, regex, joblib, jellyfish, us, Unidecode, scikit-learn, requests, reporters-db, pycountry, pandas, num2words, nltk, gensim, dateparser, datefinder-lexpredict, lexnlp\n",
            "  Attempting uninstall: numpy\n",
            "    Found existing installation: numpy 1.19.5\n",
            "    Uninstalling numpy-1.19.5:\n",
            "      Successfully uninstalled numpy-1.19.5\n",
            "  Attempting uninstall: scipy\n",
            "    Found existing installation: scipy 1.4.1\n",
            "    Uninstalling scipy-1.4.1:\n",
            "      Successfully uninstalled scipy-1.4.1\n",
            "  Attempting uninstall: regex\n",
            "    Found existing installation: regex 2019.12.20\n",
            "    Uninstalling regex-2019.12.20:\n",
            "      Successfully uninstalled regex-2019.12.20\n",
            "  Attempting uninstall: joblib\n",
            "    Found existing installation: joblib 1.0.1\n",
            "    Uninstalling joblib-1.0.1:\n",
            "      Successfully uninstalled joblib-1.0.1\n",
            "  Attempting uninstall: scikit-learn\n",
            "    Found existing installation: scikit-learn 0.22.2.post1\n",
            "    Uninstalling scikit-learn-0.22.2.post1:\n",
            "      Successfully uninstalled scikit-learn-0.22.2.post1\n",
            "  Attempting uninstall: requests\n",
            "    Found existing installation: requests 2.23.0\n",
            "    Uninstalling requests-2.23.0:\n",
            "      Successfully uninstalled requests-2.23.0\n",
            "  Attempting uninstall: pandas\n",
            "    Found existing installation: pandas 1.1.5\n",
            "    Uninstalling pandas-1.1.5:\n",
            "      Successfully uninstalled pandas-1.1.5\n",
            "  Attempting uninstall: nltk\n",
            "    Found existing installation: nltk 3.2.5\n",
            "    Uninstalling nltk-3.2.5:\n",
            "      Successfully uninstalled nltk-3.2.5\n",
            "  Attempting uninstall: gensim\n",
            "    Found existing installation: gensim 3.6.0\n",
            "    Uninstalling gensim-3.6.0:\n",
            "      Successfully uninstalled gensim-3.6.0\n",
            "\u001b[31mERROR: pip's dependency resolver does not currently take into account all the packages that are installed. This behaviour is the source of the following dependency conflicts.\n",
            "xarray 0.18.2 requires pandas>=1.0, but you have pandas 0.24.2 which is incompatible.\n",
            "tensorflow 2.6.0 requires numpy~=1.19.2, but you have numpy 1.19.1 which is incompatible.\n",
            "plotnine 0.6.0 requires pandas>=0.25.0, but you have pandas 0.24.2 which is incompatible.\n",
            "mizani 0.6.0 requires pandas>=0.25.0, but you have pandas 0.24.2 which is incompatible.\n",
            "google-colab 1.0.0 requires pandas~=1.1.0; python_version >= \"3.0\", but you have pandas 0.24.2 which is incompatible.\n",
            "google-colab 1.0.0 requires requests~=2.23.0, but you have requests 2.24.0 which is incompatible.\n",
            "fbprophet 0.7.1 requires pandas>=1.0.4, but you have pandas 0.24.2 which is incompatible.\n",
            "en-core-web-sm 2.2.5 requires spacy>=2.2.2, but you have spacy 2.1.8 which is incompatible.\n",
            "datascience 0.10.6 requires folium==0.2.1, but you have folium 0.8.3 which is incompatible.\n",
            "albumentations 0.1.12 requires imgaug<0.2.7,>=0.2.5, but you have imgaug 0.2.9 which is incompatible.\u001b[0m\n",
            "Successfully installed Unidecode-1.1.1 datefinder-lexpredict-0.6.2.1 dateparser-0.7.2 gensim-3.8.3 jellyfish-0.6.1 joblib-0.14.0 lexnlp-1.8.0 nltk-3.5 num2words-0.5.10 numpy-1.19.1 pandas-0.24.2 pycountry-20.7.3 regex-2020.7.14 reporters-db-2.0.3 requests-2.24.0 scikit-learn-0.23.1 scipy-1.5.1 threadpoolctl-3.0.0 us-2.0.2\n",
            "\u001b[33mWARNING: Running pip as the 'root' user can result in broken permissions and conflicting behaviour with the system package manager. It is recommended to use a virtual environment instead: https://pip.pypa.io/warnings/venv\u001b[0m\n"
          ]
        },
        {
          "data": {
            "application/vnd.colab-display-data+json": {
              "pip_warning": {
                "packages": [
                  "numpy",
                  "pandas"
                ]
              }
            }
          },
          "metadata": {},
          "output_type": "display_data"
        }
      ],
      "source": [
        "!pip install spacy\n",
        "!pip install blackstone\n",
        "!pip install https://blackstone-model.s3-eu-west-1.amazonaws.com/en_blackstone_proto-0.0.1.tar.gz\n",
        "!pip install lexnlp"
      ]
    },
    {
      "cell_type": "code",
      "execution_count": 6,
      "metadata": {
        "colab": {
          "base_uri": "https://localhost:8080/",
          "height": 856
        },
        "id": "B7Ybq_Jw4DpZ",
        "outputId": "028aa7b3-036a-4c90-c51a-48ab8b7ff133"
      },
      "outputs": [
        {
          "name": "stdout",
          "output_type": "stream",
          "text": [
            "Requirement already satisfied: pandas in /usr/local/lib/python3.7/dist-packages (0.24.2)\n",
            "Collecting pandas\n",
            "  Downloading pandas-1.3.4-cp37-cp37m-manylinux_2_17_x86_64.manylinux2014_x86_64.whl (11.3 MB)\n",
            "     |████████████████████████████████| 11.3 MB 5.1 MB/s            \n",
            "\u001b[?25hRequirement already satisfied: numpy>=1.17.3 in /usr/local/lib/python3.7/dist-packages (from pandas) (1.19.1)\n",
            "Requirement already satisfied: python-dateutil>=2.7.3 in /usr/local/lib/python3.7/dist-packages (from pandas) (2.8.2)\n",
            "Requirement already satisfied: pytz>=2017.3 in /usr/local/lib/python3.7/dist-packages (from pandas) (2018.9)\n",
            "Requirement already satisfied: six>=1.5 in /usr/local/lib/python3.7/dist-packages (from python-dateutil>=2.7.3->pandas) (1.15.0)\n",
            "Installing collected packages: pandas\n",
            "  Attempting uninstall: pandas\n",
            "    Found existing installation: pandas 0.24.2\n",
            "    Uninstalling pandas-0.24.2:\n",
            "      Successfully uninstalled pandas-0.24.2\n",
            "\u001b[31mERROR: pip's dependency resolver does not currently take into account all the packages that are installed. This behaviour is the source of the following dependency conflicts.\n",
            "lexnlp 1.8.0 requires pandas==0.24.2, but you have pandas 1.3.4 which is incompatible.\n",
            "google-colab 1.0.0 requires pandas~=1.1.0; python_version >= \"3.0\", but you have pandas 1.3.4 which is incompatible.\n",
            "google-colab 1.0.0 requires requests~=2.23.0, but you have requests 2.24.0 which is incompatible.\u001b[0m\n",
            "Successfully installed pandas-1.3.4\n",
            "\u001b[33mWARNING: Running pip as the 'root' user can result in broken permissions and conflicting behaviour with the system package manager. It is recommended to use a virtual environment instead: https://pip.pypa.io/warnings/venv\u001b[0m\n"
          ]
        },
        {
          "data": {
            "application/vnd.colab-display-data+json": {
              "pip_warning": {
                "packages": [
                  "pandas"
                ]
              }
            }
          },
          "metadata": {},
          "output_type": "display_data"
        },
        {
          "name": "stdout",
          "output_type": "stream",
          "text": [
            "Requirement already satisfied: numpy in /usr/local/lib/python3.7/dist-packages (1.19.1)\n",
            "Collecting numpy\n",
            "  Downloading numpy-1.21.2-cp37-cp37m-manylinux_2_12_x86_64.manylinux2010_x86_64.whl (15.7 MB)\n",
            "     |████████████████████████████████| 15.7 MB 196 kB/s            \n",
            "\u001b[?25hInstalling collected packages: numpy\n",
            "  Attempting uninstall: numpy\n",
            "    Found existing installation: numpy 1.19.1\n",
            "    Uninstalling numpy-1.19.1:\n",
            "      Successfully uninstalled numpy-1.19.1\n",
            "\u001b[31mERROR: pip's dependency resolver does not currently take into account all the packages that are installed. This behaviour is the source of the following dependency conflicts.\n",
            "tensorflow 2.6.0 requires numpy~=1.19.2, but you have numpy 1.21.2 which is incompatible.\n",
            "lexnlp 1.8.0 requires numpy==1.19.1, but you have numpy 1.21.2 which is incompatible.\n",
            "lexnlp 1.8.0 requires pandas==0.24.2, but you have pandas 1.3.4 which is incompatible.\n",
            "google-colab 1.0.0 requires pandas~=1.1.0; python_version >= \"3.0\", but you have pandas 1.3.4 which is incompatible.\n",
            "google-colab 1.0.0 requires requests~=2.23.0, but you have requests 2.24.0 which is incompatible.\n",
            "en-core-web-sm 2.2.5 requires spacy>=2.2.2, but you have spacy 2.1.8 which is incompatible.\n",
            "datascience 0.10.6 requires folium==0.2.1, but you have folium 0.8.3 which is incompatible.\n",
            "albumentations 0.1.12 requires imgaug<0.2.7,>=0.2.5, but you have imgaug 0.2.9 which is incompatible.\u001b[0m\n",
            "Successfully installed numpy-1.21.2\n",
            "\u001b[33mWARNING: Running pip as the 'root' user can result in broken permissions and conflicting behaviour with the system package manager. It is recommended to use a virtual environment instead: https://pip.pypa.io/warnings/venv\u001b[0m\n"
          ]
        },
        {
          "data": {
            "application/vnd.colab-display-data+json": {
              "pip_warning": {
                "packages": [
                  "numpy"
                ]
              }
            }
          },
          "metadata": {},
          "output_type": "display_data"
        }
      ],
      "source": [
        "!pip install --upgrade pandas\n",
        "!pip install --upgrade numpy"
      ]
    },
    {
      "cell_type": "code",
      "execution_count": 7,
      "metadata": {
        "colab": {
          "base_uri": "https://localhost:8080/"
        },
        "id": "pnc6Q0myzvo-",
        "outputId": "0eb22bf6-3be6-4172-c378-60ac9612d06a"
      },
      "outputs": [
        {
          "name": "stdout",
          "output_type": "stream",
          "text": [
            "Reading package lists... Done\n",
            "Building dependency tree       \n",
            "Reading state information... Done\n",
            "The following additional packages will be installed:\n",
            "  tesseract-ocr-eng tesseract-ocr-osd\n",
            "The following NEW packages will be installed:\n",
            "  tesseract-ocr tesseract-ocr-eng tesseract-ocr-osd\n",
            "0 upgraded, 3 newly installed, 0 to remove and 37 not upgraded.\n",
            "Need to get 4,795 kB of archives.\n",
            "After this operation, 15.8 MB of additional disk space will be used.\n",
            "Get:1 http://archive.ubuntu.com/ubuntu bionic/universe amd64 tesseract-ocr-eng all 4.00~git24-0e00fe6-1.2 [1,588 kB]\n",
            "Get:2 http://archive.ubuntu.com/ubuntu bionic/universe amd64 tesseract-ocr-osd all 4.00~git24-0e00fe6-1.2 [2,989 kB]\n",
            "Get:3 http://archive.ubuntu.com/ubuntu bionic/universe amd64 tesseract-ocr amd64 4.00~git2288-10f4998a-2 [218 kB]\n",
            "Fetched 4,795 kB in 1s (4,113 kB/s)\n",
            "Selecting previously unselected package tesseract-ocr-eng.\n",
            "(Reading database ... 155047 files and directories currently installed.)\n",
            "Preparing to unpack .../tesseract-ocr-eng_4.00~git24-0e00fe6-1.2_all.deb ...\n",
            "Unpacking tesseract-ocr-eng (4.00~git24-0e00fe6-1.2) ...\n",
            "Selecting previously unselected package tesseract-ocr-osd.\n",
            "Preparing to unpack .../tesseract-ocr-osd_4.00~git24-0e00fe6-1.2_all.deb ...\n",
            "Unpacking tesseract-ocr-osd (4.00~git24-0e00fe6-1.2) ...\n",
            "Selecting previously unselected package tesseract-ocr.\n",
            "Preparing to unpack .../tesseract-ocr_4.00~git2288-10f4998a-2_amd64.deb ...\n",
            "Unpacking tesseract-ocr (4.00~git2288-10f4998a-2) ...\n",
            "Setting up tesseract-ocr-osd (4.00~git24-0e00fe6-1.2) ...\n",
            "Setting up tesseract-ocr-eng (4.00~git24-0e00fe6-1.2) ...\n",
            "Setting up tesseract-ocr (4.00~git2288-10f4998a-2) ...\n",
            "Processing triggers for man-db (2.8.3-2ubuntu0.1) ...\n",
            "Reading package lists... Done\n",
            "Building dependency tree       \n",
            "Reading state information... Done\n",
            "The following additional packages will be installed:\n",
            "  libleptonica-dev\n",
            "The following NEW packages will be installed:\n",
            "  libleptonica-dev libtesseract-dev\n",
            "0 upgraded, 2 newly installed, 0 to remove and 37 not upgraded.\n",
            "Need to get 2,755 kB of archives.\n",
            "After this operation, 13.8 MB of additional disk space will be used.\n",
            "Get:1 http://archive.ubuntu.com/ubuntu bionic/universe amd64 libleptonica-dev amd64 1.75.3-3 [1,308 kB]\n",
            "Get:2 http://archive.ubuntu.com/ubuntu bionic/universe amd64 libtesseract-dev amd64 4.00~git2288-10f4998a-2 [1,447 kB]\n",
            "Fetched 2,755 kB in 1s (2,789 kB/s)\n",
            "Selecting previously unselected package libleptonica-dev.\n",
            "(Reading database ... 155094 files and directories currently installed.)\n",
            "Preparing to unpack .../libleptonica-dev_1.75.3-3_amd64.deb ...\n",
            "Unpacking libleptonica-dev (1.75.3-3) ...\n",
            "Selecting previously unselected package libtesseract-dev.\n",
            "Preparing to unpack .../libtesseract-dev_4.00~git2288-10f4998a-2_amd64.deb ...\n",
            "Unpacking libtesseract-dev (4.00~git2288-10f4998a-2) ...\n",
            "Setting up libleptonica-dev (1.75.3-3) ...\n",
            "Setting up libtesseract-dev (4.00~git2288-10f4998a-2) ...\n",
            "Requirement already satisfied: pytesseract in /usr/local/lib/python3.7/dist-packages (0.3.8)\n",
            "Requirement already satisfied: Pillow in /usr/local/lib/python3.7/dist-packages (from pytesseract) (7.1.2)\n",
            "\u001b[33mWARNING: Running pip as the 'root' user can result in broken permissions and conflicting behaviour with the system package manager. It is recommended to use a virtual environment instead: https://pip.pypa.io/warnings/venv\u001b[0m\n"
          ]
        }
      ],
      "source": [
        "! apt install tesseract-ocr\n",
        "! apt install libtesseract-dev\n",
        "!pip install pytesseract"
      ]
    },
    {
      "cell_type": "code",
      "execution_count": 1,
      "metadata": {
        "colab": {
          "base_uri": "https://localhost:8080/"
        },
        "id": "pEefsqjBzNPR",
        "outputId": "6468fa59-da6e-498a-d2a7-c62fd133387e"
      },
      "outputs": [
        {
          "name": "stdout",
          "output_type": "stream",
          "text": [
            "PREFACE\n",
            "\n",
            "Trade Unions have proliferated due to rapid economic development and\n",
            "development in particular. The setting of industrial units involving wide spread use\n",
            "of machinery, changes in working and living environment of workers,\n",
            "concentration of industries in large towns have brought the workers together to\n",
            "maintain and improve their bargaining power and hence their employment\n",
            "conditions. The first organized Trade Unions in India named as the Madras\n",
            "Labour Union was formed as early as 1918. Since then, a large number of Unions\n",
            "came up in almost all the industrial centers of the country. The government of\n",
            "India passed the “Trade Unions Act,1926” to regulate conditions governing the\n",
            "registration of Trade Unions, obligations imposed on a registered Trade Unions\n",
            "and right and liabilities there of. The Rules Framed under the “Trade Unions\n",
            "Act,1926 impose obligation on the registered Trade Unions (Workers &\n",
            "Employers) to submit annual statutory retum in the prescribed format to the\n",
            "Registrar of their respective States/ Union Territories. These State/U.T. Authorities\n",
            "in turn furnish the consolidated data in respect of the entire State/U.T. to the\n",
            "Labour Bureau. The Labour Bureau compiles and disseminates these statistics at\n",
            "All India level.\n",
            "\n",
            " \n",
            "\n",
            "‘The present biennial review presents comprehensive statistics on the\n",
            "working of the Trade Unions Act, 1926 during 2012. It is based on the Annual\n",
            "Returns received from the Registrar of Trade Unions of the respective States/Union\n",
            "Territories.\n",
            "\n",
            " \n",
            "\n",
            " \n",
            "\n",
            "1am thankful to the Registrar of Trade Unions of all the responding State\n",
            "Government/Union Territory without, whose support it would not have been\n",
            "possible to bring out this Report. I also place on record my appreciation for the\n",
            "work done by the team of officers and staff members of Labour Bureau, whose\n",
            "names appear in Annexure IV.\n",
            "\n",
            "Suggestions for further improvement of this publication are welcome.\n",
            "\n",
            "Dalject Singh\n",
            "Director General\n",
            "\n",
            "Chandigarh\n",
            "\n",
            "Dated : 4\" February, 2015\n",
            "\f\n"
          ]
        }
      ],
      "source": [
        "import pytesseract\n",
        "from PIL import Image\n",
        "a = pytesseract.image_to_string(Image.open(\"/content/scr1.png\"), lang=\"eng\")\n",
        "print(a)"
      ]
    },
    {
      "cell_type": "code",
      "execution_count": 2,
      "metadata": {
        "colab": {
          "base_uri": "https://localhost:8080/"
        },
        "id": "7daZI8MGzW0l",
        "outputId": "7f38fd18-1400-407d-c04f-1b0157395eff"
      },
      "outputs": [
        {
          "name": "stderr",
          "output_type": "stream",
          "text": [
            "[nltk_data] Downloading package stopwords to /root/nltk_data...\n",
            "[nltk_data]   Package stopwords is already up-to-date!\n",
            "[nltk_data] Downloading package punkt to /root/nltk_data...\n",
            "[nltk_data]   Package punkt is already up-to-date!\n"
          ]
        },
        {
          "data": {
            "text/plain": [
              "True"
            ]
          },
          "execution_count": 2,
          "metadata": {},
          "output_type": "execute_result"
        }
      ],
      "source": [
        "import re\n",
        "import nltk\n",
        "import numpy as np\n",
        "import pandas as pd\n",
        "from nltk.corpus import stopwords\n",
        "from nltk.cluster.util import cosine_distance\n",
        "from nltk.tokenize import sent_tokenize\n",
        "import networkx as nx\n",
        "nltk.download('stopwords')    \n",
        "nltk.download('punkt')"
      ]
    },
    {
      "cell_type": "code",
      "execution_count": 3,
      "metadata": {
        "id": "_pQZTh1S0O-S"
      },
      "outputs": [],
      "source": [
        "def cleaner(text):        \n",
        "  sentences =[]        \n",
        "  sentences = sent_tokenize(text)    \n",
        "  for s in range(len(sentences)):\n",
        "    ss = sentences[s]\n",
        "    ss = re.sub(r'/.+?/', '', ss)\n",
        "    ss = re.sub(\"[\\(\\[].*?[\\)\\]]\", \"\", ss)\n",
        "    sentences[s] = ss                      \n",
        "  #print(\"\\n\".join(map(str,sentences)))\n",
        "  #print(\"\\n\\n\\n\")\n",
        "  return sentences\n",
        "\n",
        "\n",
        "def sim_matrix(sentences,stop_words):\n",
        "  similarity_matrix = np.zeros((len(sentences),len(sentences)))\n",
        "  for idx1 in range(len(sentences)):\n",
        "    for idx2 in range(len(sentences)):\n",
        "      if idx1!=idx2:\n",
        "        similarity_matrix[idx1][idx2] = cosfunction(sentences[idx1],sentences[idx2],stop_words)\n",
        "  return similarity_matrix\n",
        "\n",
        "\n",
        "def cosfunction(s1,s2,stopwords=None):    \n",
        "  if stopwords is None:        \n",
        "    stopwords = []        \n",
        "  s1 = [w.lower() for w in s1]    \n",
        "  s2 = [w.lower() for w in s2]\n",
        "        \n",
        "  all_words = list(set(s1 + s2))   \n",
        "     \n",
        "  vector1 = [0] * len(all_words)    \n",
        "  vector2 = [0] * len(all_words)        \n",
        "  for w in s1:        \n",
        "    if not w in stopwords:\n",
        "      vector1[all_words.index(w)]+=1                                                             \n",
        "  for w in s2:        \n",
        "    if not w in stopwords:            \n",
        "      vector2[all_words.index(w)]+=1 \n",
        "               \n",
        "  return 1-cosine_distance(vector1,vector2)\n",
        "\n",
        "def generate_summary(text,top_n):\n",
        "  stop_words = stopwords.words('english')    \n",
        "  summary = []\n",
        "  sentences = cleaner(text)\n",
        "  cos_matrix = sim_matrix(sentences,stop_words)\n",
        "  cos_graph = nx.from_numpy_array(cos_matrix)\n",
        "  scores = nx.pagerank(cos_graph)\n",
        "  ranks = sorted(((scores[i],s) for i,s in enumerate(sentences)),reverse=True)\n",
        "  \n",
        "  for i in range(top_n):\n",
        "    summary.append(ranks[i][1])\n",
        "  return \" \".join(summary),len(sentences)"
      ]
    },
    {
      "cell_type": "code",
      "execution_count": 4,
      "metadata": {
        "colab": {
          "base_uri": "https://localhost:8080/",
          "height": 135
        },
        "id": "t79VCW0u0znN",
        "outputId": "7fd060a2-98fc-4d6f-f02f-b1d49c723d41"
      },
      "outputs": [
        {
          "data": {
            "application/vnd.google.colaboratory.intrinsic+json": {
              "type": "string"
            },
            "text/plain": [
              "'PREFACE  Trade Unions have proliferated due to rapid economic development and development in particular. The setting of industrial units involving wide spread use of machinery, changes in working and living environment of workers, concentration of industries in large towns have brought the workers together to maintain and improve their bargaining power and hence their employment conditions. The first organized Trade Unions in India named as the Madras Labour Union was formed as early as 1918. Since then, a large number of Unions came up in almost all the industrial centers of the country. The government of India passed the “Trade Unions Act,1926” to regulate conditions governing the registration of Trade Unions, obligations imposed on a registered Trade Unions and right and liabilities there of. The Rules Framed under the “Trade Unions Act,1926 impose obligation on the registered Trade Unions (Workers & Employers) to submit annual statutory retum in the prescribed format to the Registrar of their respective States/ Union Territories. These State/U.T. Authorities in turn furnish the consolidated data in respect of the entire State/U.T. to the Labour Bureau. The Labour Bureau compiles and disseminates these statistics at All India level.     ‘The present biennial review presents comprehensive statistics on the working of the Trade Unions Act, 1926 during 2012. It is based on the Annual Returns received from the Registrar of Trade Unions of the respective States/Union Territories.        1am thankful to the Registrar of Trade Unions of all the responding State Government/Union Territory without, whose support it would not have been possible to bring out this Report. I also place on record my appreciation for the work done by the team of officers and staff members of Labour Bureau, whose names appear in Annexure IV.  Suggestions for further improvement of this publication are welcome.  Dalject Singh Director General  Chandigarh  Dated : 4\" February, 2015 \\x0c'"
            ]
          },
          "execution_count": 4,
          "metadata": {},
          "output_type": "execute_result"
        }
      ],
      "source": [
        "a = a.replace('\\n', \" \")\n",
        "a"
      ]
    },
    {
      "cell_type": "code",
      "execution_count": 5,
      "metadata": {
        "colab": {
          "base_uri": "https://localhost:8080/",
          "height": 102
        },
        "id": "7CWvMDrn0Vgu",
        "outputId": "669fa874-5732-48ae-e6d6-3d828c8c1490"
      },
      "outputs": [
        {
          "data": {
            "application/vnd.google.colaboratory.intrinsic+json": {
              "type": "string"
            },
            "text/plain": [
              "'The Rules Framed under the “Trade Unions Act,1926 impose obligation on the registered Trade Unions  to submit annual statutory retum in the prescribed format to the Registrar of their respective States/ Union Territories. Authorities in turn furnish the consolidated data in respect of the entire State/U.T. 1am thankful to the Registrar of Trade Unions of all the responding State Government/Union Territory without, whose support it would not have been possible to bring out this Report. It is based on the Annual Returns received from the Registrar of Trade Unions of the respective States/Union Territories.'"
            ]
          },
          "execution_count": 5,
          "metadata": {},
          "output_type": "execute_result"
        }
      ],
      "source": [
        "g = generate_summary(a,4)[0].strip('\\n')\n",
        "with open(\"/content/summary.txt\", \"w\") as text_file:\n",
        "    text_file.write(\"Summary: %s\" % g)\n",
        "g"
      ]
    },
    {
      "cell_type": "code",
      "execution_count": 6,
      "metadata": {
        "colab": {
          "base_uri": "https://localhost:8080/"
        },
        "id": "-qcI34CI-wyt",
        "outputId": "24324c93-ac05-40da-e81a-a804d9c531d6"
      },
      "outputs": [
        {
          "data": {
            "text/plain": [
              "['PREFACE  Trade Unions have proliferated due to rapid economic development and development in particular',\n",
              " ' The setting of industrial units involving wide spread use of machinery, changes in working and living environment of workers, concentration of industries in large towns have brought the workers together to maintain and improve their bargaining power and hence their employment conditions',\n",
              " ' The first organized Trade Unions in India named as the Madras Labour Union was formed as early as 1918',\n",
              " ' Since then, a large number of Unions came up in almost all the industrial centers of the country',\n",
              " ' The government of India passed the “Trade Unions Act,1926” to regulate conditions governing the registration of Trade Unions, obligations imposed on a registered Trade Unions and right and liabilities there of',\n",
              " ' The Rules Framed under the “Trade Unions Act,1926 impose obligation on the registered Trade Unions (Workers & Employers) to submit annual statutory retum in the prescribed format to the Registrar of their respective States/ Union Territories',\n",
              " ' These State/U',\n",
              " 'T',\n",
              " ' Authorities in turn furnish the consolidated data in respect of the entire State/U',\n",
              " 'T',\n",
              " ' to the Labour Bureau',\n",
              " ' The Labour Bureau compiles and disseminates these statistics at All India level',\n",
              " '     ‘The present biennial review presents comprehensive statistics on the working of the Trade Unions Act, 1926 during 2012',\n",
              " ' It is based on the Annual Returns received from the Registrar of Trade Unions of the respective States/Union Territories',\n",
              " '        1am thankful to the Registrar of Trade Unions of all the responding State Government/Union Territory without, whose support it would not have been possible to bring out this Report',\n",
              " ' I also place on record my appreciation for the work done by the team of officers and staff members of Labour Bureau, whose names appear in Annexure IV',\n",
              " '  Suggestions for further improvement of this publication are welcome',\n",
              " '  Dalject Singh Director General  Chandigarh  Dated : 4\" February, 2015 \\x0c']"
            ]
          },
          "execution_count": 6,
          "metadata": {},
          "output_type": "execute_result"
        }
      ],
      "source": [
        "bb = a.split('.')\n",
        "bb"
      ]
    },
    {
      "cell_type": "code",
      "execution_count": 7,
      "metadata": {
        "colab": {
          "base_uri": "https://localhost:8080/"
        },
        "id": "k7OyDqP30XFi",
        "outputId": "37925e5b-2f61-4c8d-c03c-fd2b83a7cd2f"
      },
      "outputs": [
        {
          "name": "stdout",
          "output_type": "stream",
          "text": [
            "Rules Framed\n",
            "Trade Unions Act\n",
            "Dalject Singh Director General\n"
          ]
        }
      ],
      "source": [
        "import spacy\n",
        "\n",
        "# Load the model\n",
        "nlp = spacy.load(\"en_blackstone_proto\")\n",
        "from spacy import displacy\n",
        "from blackstone.displacy_palette import ner_displacy_options\n",
        "with open(\"/content/terms.txt\", \"w\") as text_file:\n",
        "    text_file.write(\"Important terms: \\n\")\n",
        "for i in bb:\n",
        "    doc = nlp(i)\n",
        "# Call displacy and pass `ner_displacy_options` into the option parameter`\n",
        "    if doc.ents != ():\n",
        "       print(doc.ents[0])\n",
        "       with open(\"/content/terms.txt\", \"a\") as text_file:\n",
        "         text_file.write(\"%s \\n\" %doc.ents[0])\n",
        "    else:\n",
        "       pass"
      ]
    },
    {
      "cell_type": "code",
      "execution_count": 8,
      "metadata": {
        "colab": {
          "base_uri": "https://localhost:8080/"
        },
        "id": "VxGUkhauTE3h",
        "outputId": "4210f8c4-10e5-4490-b98b-f1b78fe1f51e"
      },
      "outputs": [
        {
          "name": "stderr",
          "output_type": "stream",
          "text": [
            "[nltk_data] Downloading package averaged_perceptron_tagger to\n",
            "[nltk_data]     /root/nltk_data...\n",
            "[nltk_data]   Unzipping taggers/averaged_perceptron_tagger.zip.\n",
            "[nltk_data] Downloading package wordnet to /root/nltk_data...\n",
            "[nltk_data]   Unzipping corpora/wordnet.zip.\n"
          ]
        },
        {
          "data": {
            "text/plain": [
              "True"
            ]
          },
          "execution_count": 8,
          "metadata": {},
          "output_type": "execute_result"
        }
      ],
      "source": [
        "nltk.download('averaged_perceptron_tagger')\n",
        "nltk.download('wordnet')"
      ]
    },
    {
      "cell_type": "code",
      "execution_count": 9,
      "metadata": {
        "colab": {
          "base_uri": "https://localhost:8080/"
        },
        "id": "-lGxFbiE2Uuj",
        "outputId": "0f6b309e-7be5-4945-db27-70db24ba4059"
      },
      "outputs": [
        {
          "name": "stderr",
          "output_type": "stream",
          "text": [
            "/usr/local/lib/python3.7/dist-packages/lexnlp/extract/common/universal_court_parser.py:128: FutureWarning: The error_bad_lines argument has been deprecated and will be removed in a future version.\n",
            "\n",
            "\n",
            "  self.load_courts(ptrs.dataframe_paths)\n"
          ]
        },
        {
          "name": "stdout",
          "output_type": "stream",
          "text": [
            "[Decimal('1.0'), Decimal('1918.0')]\n",
            "[{'location_start': 37, 'location_end': 54, 'act_name': 'Trade Unions Act', 'section': '', 'year': '', 'ambiguous': False, 'value': 'Trade Unions Act,'}]\n",
            "[{'location_start': 29, 'location_end': 46, 'act_name': 'Trade Unions Act', 'section': '', 'year': '', 'ambiguous': False, 'value': 'Trade Unions Act,'}]\n",
            "[{'location_start': 90, 'location_end': 108, 'act_name': 'Trade Unions Act', 'section': '', 'year': '', 'ambiguous': False, 'value': 'Trade Unions Act, '}]\n",
            "Warning: parsing empty text\n",
            "Warning: parsing empty text\n",
            "Warning: parsing empty text\n",
            "Warning: parsing empty text\n",
            "[Decimal('4.0'), Decimal('2015.0')]\n",
            "Warning: parsing empty text\n",
            "Warning: parsing empty text\n"
          ]
        }
      ],
      "source": [
        "from lexnlp.extract.en.acts import get_acts as aa\n",
        "from lexnlp.extract.en.amounts import get_amounts as ab\n",
        "from lexnlp.extract.en.citations import get_citations as ac\n",
        "from lexnlp.extract.en.conditions import get_conditions as ae\n",
        "from lexnlp.extract.en.constraints import get_constraints as af\n",
        "from lexnlp.extract.en.copyright import get_copyright as ag\n",
        "from lexnlp.extract.en.courts import get_courts as ah\n",
        "from lexnlp.extract.en.dates import get_dates as ai\n",
        "from lexnlp.extract.en.definitions import get_definitions as aj\n",
        "from lexnlp.extract.en.distances import get_distances as ak\n",
        "from lexnlp.extract.en.durations import get_durations as al\n",
        "from lexnlp.extract.en.geoentities import get_geoentities as am\n",
        "from lexnlp.extract.en.money import get_money as an\n",
        "from lexnlp.extract.en.percents import get_percents as ao\n",
        "from lexnlp.extract.en.ratios import get_ratios as aq\n",
        "from lexnlp.extract.en.regulations import get_regulations as ar\n",
        "from lexnlp.extract.en.trademarks import get_trademarks as au\n",
        "\n",
        "with open(\"/content/insg.txt\", \"w\") as text_file:\n",
        "    text_file.write(\"INSIGHTS: \\n\")\n",
        "\n",
        "for i in bb:\n",
        "    if list(aa(i)) != []:\n",
        "      print(list(aa(i)))\n",
        "      with open(\"/content/insg.txt\", \"a\") as text_file:\n",
        "        text_file.write(\"%s\\n\"%str(list(aa(i))))\n",
        "    \n",
        "      with open(\"/content/insg.txt\", \"a\") as text_file: \n",
        "        text_file.write(\"\\n\\n\")\n",
        "    elif list(ab(i)) != []:\n",
        "      print(list(ab(i)))\n",
        "      with open(\"/content/insg.txt\", \"a\") as text_file:\n",
        "        text_file.write(\"%s\\n\"%str(list(ab(i))))\n",
        "    \n",
        "      with open(\"/content/insg.txt\", \"a\") as text_file: \n",
        "        text_file.write(\"\\n\\n\")\n",
        "    elif list(ac(i)) != []:\n",
        "      print(list(ac(i)))\n",
        "      with open(\"/content/insg.txt\", \"a\") as text_file:\n",
        "        text_file.write(\"%s\\n\"%str(list(ac(i))))\n",
        "    \n",
        "      with open(\"/content/insg.txt\", \"a\") as text_file: \n",
        "        text_file.write(\"\\n\\n\")\n",
        "    elif list(ae(i)) != []:\n",
        "      print(list(ae(i)))\n",
        "      with open(\"/content/insg.txt\", \"a\") as text_file:\n",
        "        text_file.write(\"%s\\n\"%str(list(ae(i))))\n",
        "    \n",
        "      with open(\"/content/insg.txt\", \"a\") as text_file: \n",
        "        text_file.write(\"\\n\\n\")\n",
        "    elif list(af(i)) != []:\n",
        "      print(list(af(i)))\n",
        "      with open(\"/content/insg.txt\", \"a\") as text_file:\n",
        "        text_file.write(\"%s\\n\"%str(list(af(i))))\n",
        "    \n",
        "      with open(\"/content/insg.txt\", \"a\") as text_file: \n",
        "        text_file.write(\"\\n\\n\")\n",
        "    elif list(ag(i)) != []:\n",
        "      print(list(ag(i)))\n",
        "      with open(\"/content/insg.txt\", \"a\") as text_file:\n",
        "        text_file.write(\"%s\\n\"%str(list(ag(i))))\n",
        "    \n",
        "      with open(\"/content/insg.txt\", \"a\") as text_file: \n",
        "        text_file.write(\"\\n\\n\")\n",
        "   \n",
        "    elif list(ai(i)) != []:\n",
        "      print(list(ai(i)))\n",
        "      with open(\"/content/insg.txt\", \"a\") as text_file:\n",
        "        text_file.write(\"%s\\n\"%str(list(ai(i))))\n",
        "    \n",
        "      with open(\"/content/insg.txt\", \"a\") as text_file: \n",
        "        text_file.write(\"\\n\\n\")\n",
        "    elif list(aj(i)) != []:\n",
        "      print(list(aj(i)))\n",
        "      with open(\"/content/insg.txt\", \"a\") as text_file:\n",
        "        text_file.write(\"%s\\n\"%str(list(aj(i))))\n",
        "    \n",
        "      with open(\"/content/insg.txt\", \"a\") as text_file: \n",
        "        text_file.write(\"\\n\\n\")\n",
        "    elif list(ak(i)) != []:\n",
        "      print(list(ak(i)))\n",
        "      with open(\"/content/insg.txt\", \"a\") as text_file:\n",
        "        text_file.write(\"%s\\n\"%str(list(ak(i))))\n",
        "    \n",
        "      with open(\"/content/insg.txt\", \"a\") as text_file: \n",
        "        text_file.write(\"\\n\\n\")\n",
        "    elif list(al(i)) != []:\n",
        "      print(list(al(i)))\n",
        "      with open(\"/content/insg.txt\", \"a\") as text_file:\n",
        "        text_file.write(\"%s\\n\"%str(list(al(i))))\n",
        "    \n",
        "      with open(\"/content/insg.txt\", \"a\") as text_file: \n",
        "        text_file.write(\"\\n\\n\")\n",
        "    \n",
        "    elif list(an(i)) != []:\n",
        "      print(list(an(i)))\n",
        "      with open(\"/content/insg.txt\", \"a\") as text_file:\n",
        "        text_file.write(\"%s\\n\"%str(list(an(i))))\n",
        "    \n",
        "      with open(\"/content/insg.txt\", \"a\") as text_file: \n",
        "        text_file.write(\"\\n\\n\")\n",
        "    elif list(ao(i)) != []:\n",
        "      print(list(ao(i)))\n",
        "      with open(\"/content/insg.txt\", \"a\") as text_file:\n",
        "        text_file.write(\"%s\\n\"%str(list(ao(i))))\n",
        "    \n",
        "      with open(\"/content/insg.txt\", \"a\") as text_file: \n",
        "        text_file.write(\"\\n\\n\")\n",
        "    elif list(aq(i)) != []:\n",
        "      print(list(aq(i)))\n",
        "      with open(\"/content/insg.txt\", \"a\") as text_file:\n",
        "        text_file.write(\"%s\\n\"%str(list(aq(i))))\n",
        "    \n",
        "      with open(\"/content/insg.txt\", \"a\") as text_file: \n",
        "        text_file.write(\"\\n\\n\")\n",
        "    elif list(ar(i)) != []:\n",
        "      print(list(ar(i)))\n",
        "      with open(\"/content/insg.txt\", \"a\") as text_file:\n",
        "        text_file.write(\"%s\\n\"%str(list(ar(i))))\n",
        "    \n",
        "      with open(\"/content/insg.txt\", \"a\") as text_file: \n",
        "        text_file.write(\"\\n\\n\")\n",
        "    elif list(au(i)) != []:\n",
        "      print(list(au(i)))\n",
        "      with open(\"/content/insg.txt\", \"a\") as text_file:\n",
        "        text_file.write(\"%s\\n\"%str(list(au(i))))\n",
        "    \n",
        "      with open(\"/content/insg.txt\", \"a\") as text_file: \n",
        "        text_file.write(\"\\n\\n\")"
      ]
    },
    {
      "cell_type": "code",
      "execution_count": 10,
      "metadata": {
        "colab": {
          "base_uri": "https://localhost:8080/",
          "height": 135
        },
        "id": "EOplVLcy6onD",
        "outputId": "988f3329-5114-41ba-c0bc-a562b2072aad"
      },
      "outputs": [
        {
          "data": {
            "application/vnd.google.colaboratory.intrinsic+json": {
              "type": "string"
            },
            "text/plain": [
              "'PREFACE  Trade Unions have proliferated due to rapid economic development and development in particular The setting of industrial units involving wide spread use of machinery changes in working and living environment of workers concentration of industries in large towns have brought the workers together to maintain and improve their bargaining power and hence their employment conditions The first organized Trade Unions in India named as the Madras Labour Union was formed as early as 1918 Since then a large number of Unions came up in almost all the industrial centers of the country The government of India passed the Trade Unions Act1926 to regulate conditions governing the registration of Trade Unions obligations imposed on a registered Trade Unions and right and liabilities there of The Rules Framed under the Trade Unions Act1926 impose obligation on the registered Trade Unions Workers  Employers to submit annual statutory retum in the prescribed format to the Registrar of their respective States Union Territories These StateUT Authorities in turn furnish the consolidated data in respect of the entire StateUT to the Labour Bureau The Labour Bureau compiles and disseminates these statistics at All India level     The present biennial review presents comprehensive statistics on the working of the Trade Unions Act 1926 during 2012 It is based on the Annual Returns received from the Registrar of Trade Unions of the respective StatesUnion Territories        1am thankful to the Registrar of Trade Unions of all the responding State GovernmentUnion Territory without whose support it would not have been possible to bring out this Report I also place on record my appreciation for the work done by the team of officers and staff members of Labour Bureau whose names appear in Annexure IV  Suggestions for further improvement of this publication are welcome  Dalject Singh Director General  Chandigarh  Dated  4 February 2015 '"
            ]
          },
          "execution_count": 10,
          "metadata": {},
          "output_type": "execute_result"
        }
      ],
      "source": [
        "test = a\n",
        "test = ''.join(filter( lambda x: x in '0123456789abcdefghijklmnopqrstuvwxyzABCDEFGHIJKLMNOPQRSTUVWXYZ ', test ))\n",
        "test\n"
      ]
    },
    {
      "cell_type": "code",
      "execution_count": 11,
      "metadata": {
        "colab": {
          "base_uri": "https://localhost:8080/"
        },
        "id": "GMqEmfzNrPd4",
        "outputId": "d9df0c5e-3366-42ab-cadb-e415f0006cb1"
      },
      "outputs": [
        {
          "name": "stderr",
          "output_type": "stream",
          "text": [
            "[nltk_data] Downloading package stopwords to /root/nltk_data...\n",
            "[nltk_data]   Package stopwords is already up-to-date!\n"
          ]
        }
      ],
      "source": [
        "from nltk.corpus import stopwords\n",
        "nltk.download('stopwords')\n",
        "from nltk.tokenize import word_tokenize\n",
        "\n",
        "text_tokens = word_tokenize(test)\n",
        "\n",
        "tokens_without_sw = [word for word in text_tokens if not word in stopwords.words()]\n",
        "\n",
        "#test = \" \".join(map(str,tokens_without_sw))\n",
        "test = tokens_without_sw"
      ]
    },
    {
      "cell_type": "code",
      "execution_count": 12,
      "metadata": {
        "colab": {
          "base_uri": "https://localhost:8080/"
        },
        "id": "OjsOawEEreq0",
        "outputId": "21c21262-6ba3-4e51-fc57-7633ded137fd"
      },
      "outputs": [
        {
          "data": {
            "text/plain": [
              "[('PREFACE', 'NNP'),\n",
              " ('Trade', 'NNP'),\n",
              " ('Unions', 'NNP'),\n",
              " ('proliferated', 'VBD'),\n",
              " ('due', 'JJ'),\n",
              " ('rapid', 'JJ'),\n",
              " ('economic', 'JJ'),\n",
              " ('development', 'NN'),\n",
              " ('development', 'NN'),\n",
              " ('particular', 'IN'),\n",
              " ('The', 'DT'),\n",
              " ('setting', 'VBG'),\n",
              " ('industrial', 'JJ'),\n",
              " ('units', 'NNS'),\n",
              " ('involving', 'VBG'),\n",
              " ('wide', 'JJ'),\n",
              " ('spread', 'NN'),\n",
              " ('use', 'NN'),\n",
              " ('machinery', 'NN'),\n",
              " ('changes', 'NNS'),\n",
              " ('working', 'VBG'),\n",
              " ('living', 'NN'),\n",
              " ('environment', 'NN'),\n",
              " ('workers', 'NNS'),\n",
              " ('concentration', 'NN'),\n",
              " ('industries', 'NNS'),\n",
              " ('large', 'JJ'),\n",
              " ('towns', 'NNS'),\n",
              " ('brought', 'VBD'),\n",
              " ('workers', 'NNS'),\n",
              " ('together', 'RB'),\n",
              " ('maintain', 'VBP'),\n",
              " ('improve', 'VB'),\n",
              " ('bargaining', 'VBG'),\n",
              " ('power', 'NN'),\n",
              " ('hence', 'NN'),\n",
              " ('employment', 'NN'),\n",
              " ('conditions', 'NNS'),\n",
              " ('The', 'DT'),\n",
              " ('first', 'JJ'),\n",
              " ('organized', 'VBN'),\n",
              " ('Trade', 'NNP'),\n",
              " ('Unions', 'NNP'),\n",
              " ('India', 'NNP'),\n",
              " ('named', 'VBD'),\n",
              " ('Madras', 'NNP'),\n",
              " ('Labour', 'NNP'),\n",
              " ('Union', 'NNP'),\n",
              " ('formed', 'VBD'),\n",
              " ('early', 'JJ'),\n",
              " ('1918', 'CD'),\n",
              " ('Since', 'IN'),\n",
              " ('large', 'JJ'),\n",
              " ('number', 'NN'),\n",
              " ('Unions', 'NNS'),\n",
              " ('came', 'VBD'),\n",
              " ('almost', 'RB'),\n",
              " ('industrial', 'JJ'),\n",
              " ('centers', 'NNS'),\n",
              " ('country', 'NN'),\n",
              " ('The', 'DT'),\n",
              " ('government', 'NN'),\n",
              " ('India', 'NNP'),\n",
              " ('passed', 'VBD'),\n",
              " ('Trade', 'NNP'),\n",
              " ('Unions', 'NNP'),\n",
              " ('Act1926', 'NNP'),\n",
              " ('regulate', 'VB'),\n",
              " ('conditions', 'NNS'),\n",
              " ('governing', 'VBG'),\n",
              " ('registration', 'NN'),\n",
              " ('Trade', 'NNP'),\n",
              " ('Unions', 'NNP'),\n",
              " ('obligations', 'NNS'),\n",
              " ('imposed', 'VBN'),\n",
              " ('registered', 'JJ'),\n",
              " ('Trade', 'NNP'),\n",
              " ('Unions', 'NNP'),\n",
              " ('right', 'NN'),\n",
              " ('liabilities', 'VBZ'),\n",
              " ('The', 'DT'),\n",
              " ('Rules', 'NNP'),\n",
              " ('Framed', 'NNP'),\n",
              " ('Trade', 'NNP'),\n",
              " ('Unions', 'NNP'),\n",
              " ('Act1926', 'NNP'),\n",
              " ('impose', 'JJ'),\n",
              " ('obligation', 'NN'),\n",
              " ('registered', 'VBD'),\n",
              " ('Trade', 'NNP'),\n",
              " ('Unions', 'NNP'),\n",
              " ('Workers', 'NNP'),\n",
              " ('Employers', 'NNP'),\n",
              " ('submit', 'VBP'),\n",
              " ('annual', 'JJ'),\n",
              " ('statutory', 'JJ'),\n",
              " ('retum', 'NN'),\n",
              " ('prescribed', 'VBD'),\n",
              " ('format', 'JJ'),\n",
              " ('Registrar', 'NNP'),\n",
              " ('respective', 'NN'),\n",
              " ('States', 'NNPS'),\n",
              " ('Union', 'NNP'),\n",
              " ('Territories', 'NNP'),\n",
              " ('These', 'DT'),\n",
              " ('StateUT', 'NNP'),\n",
              " ('Authorities', 'NNPS'),\n",
              " ('turn', 'VBP'),\n",
              " ('furnish', 'JJ'),\n",
              " ('consolidated', 'VBN'),\n",
              " ('data', 'NNS'),\n",
              " ('respect', 'NN'),\n",
              " ('entire', 'JJ'),\n",
              " ('StateUT', 'NNP'),\n",
              " ('Labour', 'NNP'),\n",
              " ('Bureau', 'NNP'),\n",
              " ('The', 'DT'),\n",
              " ('Labour', 'NNP'),\n",
              " ('Bureau', 'NNP'),\n",
              " ('compiles', 'VBZ'),\n",
              " ('disseminates', 'NNS'),\n",
              " ('statistics', 'NNS'),\n",
              " ('All', 'DT'),\n",
              " ('India', 'NNP'),\n",
              " ('level', 'VBD'),\n",
              " ('The', 'DT'),\n",
              " ('present', 'JJ'),\n",
              " ('biennial', 'JJ'),\n",
              " ('review', 'NN'),\n",
              " ('presents', 'NNS'),\n",
              " ('comprehensive', 'JJ'),\n",
              " ('statistics', 'NNS'),\n",
              " ('working', 'VBG'),\n",
              " ('Trade', 'NNP'),\n",
              " ('Unions', 'NNP'),\n",
              " ('Act', 'NNP'),\n",
              " ('1926', 'CD'),\n",
              " ('2012', 'CD'),\n",
              " ('It', 'PRP'),\n",
              " ('based', 'VBN'),\n",
              " ('Annual', 'NNP'),\n",
              " ('Returns', 'NNP'),\n",
              " ('received', 'VBD'),\n",
              " ('Registrar', 'NNP'),\n",
              " ('Trade', 'NNP'),\n",
              " ('Unions', 'NNP'),\n",
              " ('respective', 'JJ'),\n",
              " ('StatesUnion', 'NNP'),\n",
              " ('Territories', 'NNP'),\n",
              " ('1am', 'CD'),\n",
              " ('thankful', 'JJ'),\n",
              " ('Registrar', 'NNP'),\n",
              " ('Trade', 'NNP'),\n",
              " ('Unions', 'NNP'),\n",
              " ('responding', 'VBG'),\n",
              " ('State', 'NNP'),\n",
              " ('GovernmentUnion', 'NNP'),\n",
              " ('Territory', 'NNP'),\n",
              " ('without', 'IN'),\n",
              " ('whose', 'WP$'),\n",
              " ('support', 'NN'),\n",
              " ('would', 'MD'),\n",
              " ('possible', 'JJ'),\n",
              " ('bring', 'VB'),\n",
              " ('Report', 'NNP'),\n",
              " ('I', 'PRP'),\n",
              " ('place', 'VBP'),\n",
              " ('record', 'JJ'),\n",
              " ('appreciation', 'NN'),\n",
              " ('work', 'NN'),\n",
              " ('done', 'VBN'),\n",
              " ('team', 'NN'),\n",
              " ('officers', 'NNS'),\n",
              " ('staff', 'NN'),\n",
              " ('members', 'NNS'),\n",
              " ('Labour', 'NNP'),\n",
              " ('Bureau', 'NNP'),\n",
              " ('whose', 'WP$'),\n",
              " ('names', 'NNS'),\n",
              " ('appear', 'VBP'),\n",
              " ('Annexure', 'NNP'),\n",
              " ('IV', 'NNP'),\n",
              " ('Suggestions', 'NNP'),\n",
              " ('improvement', 'NN'),\n",
              " ('publication', 'NN'),\n",
              " ('welcome', 'JJ'),\n",
              " ('Dalject', 'NNP'),\n",
              " ('Singh', 'NNP'),\n",
              " ('Director', 'NNP'),\n",
              " ('General', 'NNP'),\n",
              " ('Chandigarh', 'NNP'),\n",
              " ('Dated', 'VBD'),\n",
              " ('4', 'CD'),\n",
              " ('February', 'NNP'),\n",
              " ('2015', 'CD')]"
            ]
          },
          "execution_count": 12,
          "metadata": {},
          "output_type": "execute_result"
        }
      ],
      "source": [
        "tt = [i for i in test if i != '']\n",
        "tagged = nltk.pos_tag(tt)\n",
        "tagged"
      ]
    },
    {
      "cell_type": "code",
      "execution_count": 13,
      "metadata": {
        "colab": {
          "base_uri": "https://localhost:8080/"
        },
        "id": "-4hEyPl3s8_6",
        "outputId": "77efd285-8cb9-4673-a5d4-9e89a1def791"
      },
      "outputs": [
        {
          "data": {
            "text/plain": [
              "['Unions',\n",
              " 'Trade',\n",
              " 'Labour',\n",
              " 'Registrar',\n",
              " 'India',\n",
              " 'Bureau',\n",
              " 'Territories',\n",
              " 'statistics',\n",
              " 'workers',\n",
              " 'Act1926',\n",
              " 'StateUT',\n",
              " 'conditions',\n",
              " 'Union',\n",
              " 'appear',\n",
              " '4',\n",
              " 'Madras',\n",
              " 'industries',\n",
              " 'done',\n",
              " 'General',\n",
              " 'regulate']"
            ]
          },
          "execution_count": 13,
          "metadata": {},
          "output_type": "execute_result"
        }
      ],
      "source": [
        "from collections import Counter\n",
        "\n",
        "f = []\n",
        "for i in tagged:\n",
        "  if i[1] == 'NN' or i[1] == 'VBD' or i[1] == 'VBG' or i[1] == 'DT' or i[1] == 'JJ' or i[1] == 'RB' or i[1] == 'PRP' or i[1] == 'IN' or i[1]==\"WP$\" or i[1]==\"VBZ\":\n",
        "    continue\n",
        "  else:\n",
        "    f.append(i[0])\n",
        "unique_words = set(f)\n",
        "fcount = {}\n",
        "for words in unique_words :\n",
        "        fcount[words] = f.count(words)\n",
        "\n",
        "c=Counter(fcount)\n",
        "y = c.most_common()\n",
        "yy = [i[0] for i in y[:20]]\n",
        "yy"
      ]
    },
    {
      "cell_type": "code",
      "execution_count": 14,
      "metadata": {
        "colab": {
          "base_uri": "https://localhost:8080/"
        },
        "id": "QzvjXGB4xEn1",
        "outputId": "745b0474-c459-40cf-f016-8d2d40727429"
      },
      "outputs": [
        {
          "name": "stdout",
          "output_type": "stream",
          "text": [
            "Requirement already satisfied: wordcloud in /usr/local/lib/python3.7/dist-packages (1.5.0)\n",
            "Requirement already satisfied: pillow in /usr/local/lib/python3.7/dist-packages (from wordcloud) (7.1.2)\n",
            "Requirement already satisfied: numpy>=1.6.1 in /usr/local/lib/python3.7/dist-packages (from wordcloud) (1.21.2)\n",
            "\u001b[33mWARNING: Running pip as the 'root' user can result in broken permissions and conflicting behaviour with the system package manager. It is recommended to use a virtual environment instead: https://pip.pypa.io/warnings/venv\u001b[0m\n"
          ]
        }
      ],
      "source": [
        "!pip install wordcloud"
      ]
    },
    {
      "cell_type": "code",
      "execution_count": 15,
      "metadata": {
        "id": "CWRoBoNuxVVa"
      },
      "outputs": [],
      "source": [
        "from google.colab import files"
      ]
    },
    {
      "cell_type": "code",
      "execution_count": 16,
      "metadata": {
        "colab": {
          "base_uri": "https://localhost:8080/",
          "height": 215
        },
        "id": "N4FlTYj-wHG6",
        "outputId": "fabdc84f-6003-4cb4-e7ff-395e451b670d"
      },
      "outputs": [
        {
          "data": {
            "image/png": "[encoded data removed]",
            "text/plain": [
              "<Figure size 432x288 with 1 Axes>"
            ]
          },
          "metadata": {
            "needs_background": "light"
          },
          "output_type": "display_data"
        },
        {
          "data": {
            "text/plain": [
              "<Figure size 432x288 with 0 Axes>"
            ]
          },
          "metadata": {},
          "output_type": "display_data"
        }
      ],
      "source": [
        "import matplotlib.pyplot as plt\n",
        "from wordcloud import WordCloud\n",
        "word_cloud = WordCloud(collocations = False, background_color = 'black', colormap='RdYlGn').generate(\" \".join(map(str,yy)))\n",
        "plt.imshow(word_cloud, interpolation='bilinear')\n",
        "plt.axis(\"off\")\n",
        "plt.show()\n",
        "plt.savefig('cloud.png')\n"
      ]
    },
    {
      "cell_type": "code",
      "execution_count": 17,
      "metadata": {
        "colab": {
          "base_uri": "https://localhost:8080/"
        },
        "id": "cEqZhLQQxDLe",
        "outputId": "f3eadc31-ab28-4a23-a706-d834159e62c5"
      },
      "outputs": [
        {
          "name": "stdout",
          "output_type": "stream",
          "text": [
            "Requirement already satisfied: beautifulsoup4 in /usr/local/lib/python3.7/dist-packages (4.6.3)\n",
            "\u001b[33mWARNING: Running pip as the 'root' user can result in broken permissions and conflicting behaviour with the system package manager. It is recommended to use a virtual environment instead: https://pip.pypa.io/warnings/venv\u001b[0m\n",
            "Requirement already satisfied: google in /usr/local/lib/python3.7/dist-packages (2.0.3)\n",
            "Requirement already satisfied: beautifulsoup4 in /usr/local/lib/python3.7/dist-packages (from google) (4.6.3)\n",
            "\u001b[33mWARNING: Running pip as the 'root' user can result in broken permissions and conflicting behaviour with the system package manager. It is recommended to use a virtual environment instead: https://pip.pypa.io/warnings/venv\u001b[0m\n"
          ]
        }
      ],
      "source": [
        "!pip install beautifulsoup4\n",
        "!pip install google"
      ]
    },
    {
      "cell_type": "code",
      "execution_count": 19,
      "metadata": {
        "colab": {
          "base_uri": "https://localhost:8080/"
        },
        "id": "4Uwnz4HgzJE9",
        "outputId": "50d20ebb-f4e1-4b4e-973f-eacf96b74997"
      },
      "outputs": [
        {
          "name": "stdout",
          "output_type": "stream",
          "text": [
            "Query - results for:  Unions Trade Labour Registrar India\n",
            "http://labourbureau.gov.in/TU%202k2%20Chapter%201.htm\n",
            "https://www.ilo.org/dyn/natlex/docs/WEBTEXT/32075/64876/E26IND01.htm\n",
            "https://www.nishithdesai.com/fileadmin/user_upload/pdfs/Trade_Unions_Act_and_State_Laws_Provide_Legal_Protections_to_Trade_Unions_in_India.pdf\n",
            "http://mospi.nic.in/sites/default/files/Statistical_year_book_india_chapters/Trade_Union.pdf\n",
            "http://mospi.nic.in/sites/default/files/Statistical_year_book_india_chapters/Trade%20Unions.pdf\n",
            "https://en.wikipedia.org/wiki/Trade_unions_in_India\n",
            "https://thewire.in/labour/with-new-industrial-relations-code-what-does-the-future-look-like-for-indias-trade-unions\n",
            "https://labour.delhi.gov.in/content/application-registration-trade-union-form\n",
            "https://indiankanoon.org/doc/1980557/\n",
            "https://www.jstor.org/stable/27768099\n"
          ]
        }
      ],
      "source": [
        "try:\n",
        "    from googlesearch import search\n",
        "except ImportError:\n",
        "    print(\"No module named 'google' found\")\n",
        "with open(\"/content/links.txt\", \"w\") as text_file:\n",
        "        text_file.write(\"LINKS:\\n\")\n",
        "# to search\n",
        "query = \" \".join(map(str,yy[:5]))\n",
        "print(\"Query - results for: \", query)\n",
        "for j in search(query, tld=\"co.in\", num=10, stop=10, pause=2):\n",
        "    print(j)\n",
        "    with open(\"/content/links.txt\", \"a\") as text_file:\n",
        "        text_file.write(\"%s\\n\"%str(j))"
      ]
    },
    {
      "cell_type": "code",
      "execution_count": null,
      "metadata": {
        "id": "b5-A-uCOzkPR"
      },
      "outputs": [],
      "source": []
    }
  ],
  "metadata": {
    "colab": {
      "collapsed_sections": [],
      "name": "ChaoticClarity_ML.ipynb",
      "provenance": []
    },
    "interpreter": {
      "hash": "73965710b066ced831752303aa81c0cd112822c6d7ac95483aa2eb1ffbc1c39e"
    },
    "kernelspec": {
      "display_name": "Python 3.6.13 64-bit ('py36': conda)",
      "name": "python3"
    },
    "language_info": {
      "name": "python",
      "version": "3.6.13"
    }
  },
  "nbformat": 4,
  "nbformat_minor": 0
}
