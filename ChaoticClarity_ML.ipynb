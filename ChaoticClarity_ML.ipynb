{
  "nbformat": 4,
  "nbformat_minor": 0,
  "metadata": {
    "colab": {
      "name": "ChaoticClarity_ML.ipynb",
      "provenance": [],
      "collapsed_sections": []
    },
    "kernelspec": {
      "name": "python3",
      "display_name": "Python 3"
    },
    "language_info": {
      "name": "python"
    }
  },
  "cells": [
    {
      "cell_type": "code",
      "metadata": {
        "colab": {
          "base_uri": "https://localhost:8080/"
        },
        "id": "zXQk_fYOyff4",
        "outputId": "4a6ef9d9-c82d-43f7-d328-d3f822f1ac5c"
      },
      "source": [
        "!pip install --upgrade pip\n",
        "!pip install -U PyMuPDF"
      ],
      "execution_count": 4,
      "outputs": [
        {
          "output_type": "stream",
          "name": "stdout",
          "text": [
            "Requirement already satisfied: pip in /usr/local/lib/python3.7/dist-packages (21.1.3)\n",
            "Collecting pip\n",
            "  Downloading pip-21.3-py3-none-any.whl (1.7 MB)\n",
            "\u001b[K     |████████████████████████████████| 1.7 MB 2.7 MB/s \n",
            "\u001b[?25hInstalling collected packages: pip\n",
            "  Attempting uninstall: pip\n",
            "    Found existing installation: pip 21.1.3\n",
            "    Uninstalling pip-21.1.3:\n",
            "      Successfully uninstalled pip-21.1.3\n",
            "Successfully installed pip-21.3\n",
            "Collecting PyMuPDF\n",
            "  Downloading PyMuPDF-1.18.19-cp37-cp37m-manylinux_2_12_x86_64.manylinux2010_x86_64.whl (6.4 MB)\n",
            "     |████████████████████████████████| 6.4 MB 4.3 MB/s            \n",
            "\u001b[?25hInstalling collected packages: PyMuPDF\n",
            "Successfully installed PyMuPDF-1.18.19\n",
            "\u001b[33mWARNING: Running pip as the 'root' user can result in broken permissions and conflicting behaviour with the system package manager. It is recommended to use a virtual environment instead: https://pip.pypa.io/warnings/venv\u001b[0m\n"
          ]
        }
      ]
    },
    {
      "cell_type": "code",
      "metadata": {
        "colab": {
          "base_uri": "https://localhost:8080/"
        },
        "id": "YGNe_Ruix6Ps",
        "outputId": "b3fff0ca-79b0-421d-deb0-c66120eea512"
      },
      "source": [
        "!pip install fitz\n",
        "!pip install PyPDF2\n",
        "!pip install Pillow\n",
        "!pip install pytesseract"
      ],
      "execution_count": 1,
      "outputs": [
        {
          "output_type": "stream",
          "name": "stdout",
          "text": [
            "Collecting fitz\n",
            "  Downloading fitz-0.0.1.dev2-py2.py3-none-any.whl (20 kB)\n",
            "Collecting configobj\n",
            "  Downloading configobj-5.0.6.tar.gz (33 kB)\n",
            "Collecting pyxnat\n",
            "  Downloading pyxnat-1.4.tar.gz (78 kB)\n",
            "\u001b[K     |████████████████████████████████| 78 kB 3.3 MB/s \n",
            "\u001b[?25hRequirement already satisfied: httplib2 in /usr/local/lib/python3.7/dist-packages (from fitz) (0.17.4)\n",
            "Collecting nipype\n",
            "  Downloading nipype-1.6.1-py3-none-any.whl (3.2 MB)\n",
            "\u001b[K     |████████████████████████████████| 3.2 MB 19.4 MB/s \n",
            "\u001b[?25hRequirement already satisfied: pandas in /usr/local/lib/python3.7/dist-packages (from fitz) (1.1.5)\n",
            "Requirement already satisfied: numpy in /usr/local/lib/python3.7/dist-packages (from fitz) (1.19.5)\n",
            "Collecting configparser\n",
            "  Downloading configparser-5.0.2-py3-none-any.whl (19 kB)\n",
            "Requirement already satisfied: nibabel in /usr/local/lib/python3.7/dist-packages (from fitz) (3.0.2)\n",
            "Requirement already satisfied: scipy in /usr/local/lib/python3.7/dist-packages (from fitz) (1.4.1)\n",
            "Requirement already satisfied: six in /usr/local/lib/python3.7/dist-packages (from configobj->fitz) (1.15.0)\n",
            "Collecting prov>=1.5.2\n",
            "  Downloading prov-2.0.0-py3-none-any.whl (421 kB)\n",
            "\u001b[K     |████████████████████████████████| 421 kB 53.7 MB/s \n",
            "\u001b[?25hRequirement already satisfied: pydot>=1.2.3 in /usr/local/lib/python3.7/dist-packages (from nipype->fitz) (1.3.0)\n",
            "Collecting etelemetry>=0.2.0\n",
            "  Downloading etelemetry-0.2.2-py3-none-any.whl (6.2 kB)\n",
            "Collecting rdflib>=5.0.0\n",
            "  Downloading rdflib-6.0.2-py3-none-any.whl (407 kB)\n",
            "\u001b[K     |████████████████████████████████| 407 kB 30.7 MB/s \n",
            "\u001b[?25hCollecting traits!=5.0,>=4.6\n",
            "  Downloading traits-6.3.1-cp37-cp37m-manylinux_2_5_x86_64.manylinux1_x86_64.manylinux_2_12_x86_64.manylinux2010_x86_64.whl (5.1 MB)\n",
            "\u001b[K     |████████████████████████████████| 5.1 MB 20.8 MB/s \n",
            "\u001b[?25hRequirement already satisfied: networkx>=2.0 in /usr/local/lib/python3.7/dist-packages (from nipype->fitz) (2.6.3)\n",
            "Requirement already satisfied: packaging in /usr/local/lib/python3.7/dist-packages (from nipype->fitz) (21.0)\n",
            "Requirement already satisfied: filelock>=3.0.0 in /usr/local/lib/python3.7/dist-packages (from nipype->fitz) (3.3.0)\n",
            "Collecting simplejson>=3.8.0\n",
            "  Downloading simplejson-3.17.5-cp37-cp37m-manylinux_2_5_x86_64.manylinux1_x86_64.manylinux_2_12_x86_64.manylinux2010_x86_64.whl (129 kB)\n",
            "\u001b[K     |████████████████████████████████| 129 kB 55.5 MB/s \n",
            "\u001b[?25hRequirement already satisfied: click>=6.6.0 in /usr/local/lib/python3.7/dist-packages (from nipype->fitz) (7.1.2)\n",
            "Requirement already satisfied: python-dateutil>=2.2 in /usr/local/lib/python3.7/dist-packages (from nipype->fitz) (2.8.2)\n",
            "Requirement already satisfied: requests in /usr/local/lib/python3.7/dist-packages (from etelemetry>=0.2.0->nipype->fitz) (2.23.0)\n",
            "Collecting ci-info>=0.2\n",
            "  Downloading ci_info-0.2.0-py3-none-any.whl (6.9 kB)\n",
            "Requirement already satisfied: lxml>=3.3.5 in /usr/local/lib/python3.7/dist-packages (from prov>=1.5.2->nipype->fitz) (4.2.6)\n",
            "Requirement already satisfied: pyparsing>=2.1.4 in /usr/local/lib/python3.7/dist-packages (from pydot>=1.2.3->nipype->fitz) (2.4.7)\n",
            "Requirement already satisfied: setuptools in /usr/local/lib/python3.7/dist-packages (from rdflib>=5.0.0->nipype->fitz) (57.4.0)\n",
            "Collecting isodate\n",
            "  Downloading isodate-0.6.0-py2.py3-none-any.whl (45 kB)\n",
            "\u001b[K     |████████████████████████████████| 45 kB 3.6 MB/s \n",
            "\u001b[?25hRequirement already satisfied: pytz>=2017.2 in /usr/local/lib/python3.7/dist-packages (from pandas->fitz) (2018.9)\n",
            "Collecting lxml>=3.3.5\n",
            "  Downloading lxml-4.6.3-cp37-cp37m-manylinux2014_x86_64.whl (6.3 MB)\n",
            "\u001b[K     |████████████████████████████████| 6.3 MB 43.7 MB/s \n",
            "\u001b[?25hRequirement already satisfied: pathlib>=1.0 in /usr/local/lib/python3.7/dist-packages (from pyxnat->fitz) (1.0.1)\n",
            "Requirement already satisfied: future>=0.16 in /usr/local/lib/python3.7/dist-packages (from pyxnat->fitz) (0.16.0)\n",
            "Requirement already satisfied: idna<3,>=2.5 in /usr/local/lib/python3.7/dist-packages (from requests->etelemetry>=0.2.0->nipype->fitz) (2.10)\n",
            "Requirement already satisfied: certifi>=2017.4.17 in /usr/local/lib/python3.7/dist-packages (from requests->etelemetry>=0.2.0->nipype->fitz) (2021.5.30)\n",
            "Requirement already satisfied: chardet<4,>=3.0.2 in /usr/local/lib/python3.7/dist-packages (from requests->etelemetry>=0.2.0->nipype->fitz) (3.0.4)\n",
            "Requirement already satisfied: urllib3!=1.25.0,!=1.25.1,<1.26,>=1.21.1 in /usr/local/lib/python3.7/dist-packages (from requests->etelemetry>=0.2.0->nipype->fitz) (1.24.3)\n",
            "Building wheels for collected packages: configobj, pyxnat\n",
            "  Building wheel for configobj (setup.py) ... \u001b[?25l\u001b[?25hdone\n",
            "  Created wheel for configobj: filename=configobj-5.0.6-py3-none-any.whl size=34546 sha256=6c3f2e094396374edc42ce8d2e63ecac053bca81467bd6060eedcf6eda1989d4\n",
            "  Stored in directory: /root/.cache/pip/wheels/0d/c4/19/13d74440f2a571841db6b6e0a273694327498884dafb9cf978\n",
            "  Building wheel for pyxnat (setup.py) ... \u001b[?25l\u001b[?25hdone\n",
            "  Created wheel for pyxnat: filename=pyxnat-1.4-py3-none-any.whl size=92687 sha256=4328a4eda7b8c23210dad29af2c835c553794bba19204868bce1c3cd505b90f0\n",
            "  Stored in directory: /root/.cache/pip/wheels/09/d3/8f/51847ef95ec6448ff7599bf269145f8290fa82f1ddf00ee90c\n",
            "Successfully built configobj pyxnat\n",
            "Installing collected packages: isodate, rdflib, lxml, ci-info, traits, simplejson, prov, etelemetry, pyxnat, nipype, configparser, configobj, fitz\n",
            "  Attempting uninstall: lxml\n",
            "    Found existing installation: lxml 4.2.6\n",
            "    Uninstalling lxml-4.2.6:\n",
            "      Successfully uninstalled lxml-4.2.6\n",
            "Successfully installed ci-info-0.2.0 configobj-5.0.6 configparser-5.0.2 etelemetry-0.2.2 fitz-0.0.1.dev2 isodate-0.6.0 lxml-4.6.3 nipype-1.6.1 prov-2.0.0 pyxnat-1.4 rdflib-6.0.2 simplejson-3.17.5 traits-6.3.1\n",
            "Collecting PyPDF2\n",
            "  Downloading PyPDF2-1.26.0.tar.gz (77 kB)\n",
            "\u001b[K     |████████████████████████████████| 77 kB 2.9 MB/s \n",
            "\u001b[?25hBuilding wheels for collected packages: PyPDF2\n",
            "  Building wheel for PyPDF2 (setup.py) ... \u001b[?25l\u001b[?25hdone\n",
            "  Created wheel for PyPDF2: filename=PyPDF2-1.26.0-py3-none-any.whl size=61101 sha256=0ff2e0d7a4d47208f7c806780183a39b8b7cdbbd1931e414b8fe4a71d14b9b90\n",
            "  Stored in directory: /root/.cache/pip/wheels/80/1a/24/648467ade3a77ed20f35cfd2badd32134e96dd25ca811e64b3\n",
            "Successfully built PyPDF2\n",
            "Installing collected packages: PyPDF2\n",
            "Successfully installed PyPDF2-1.26.0\n",
            "Requirement already satisfied: Pillow in /usr/local/lib/python3.7/dist-packages (7.1.2)\n",
            "Collecting pytesseract\n",
            "  Downloading pytesseract-0.3.8.tar.gz (14 kB)\n",
            "Requirement already satisfied: Pillow in /usr/local/lib/python3.7/dist-packages (from pytesseract) (7.1.2)\n",
            "Building wheels for collected packages: pytesseract\n",
            "  Building wheel for pytesseract (setup.py) ... \u001b[?25l\u001b[?25hdone\n",
            "  Created wheel for pytesseract: filename=pytesseract-0.3.8-py2.py3-none-any.whl size=14072 sha256=6b3264d0addf9d60823040e5ac214e1aebb5a45b2464a609bcaed49f3e08cbd8\n",
            "  Stored in directory: /root/.cache/pip/wheels/a4/89/b9/3f11250225d0f90e5454fcc30fd1b7208db226850715aa9ace\n",
            "Successfully built pytesseract\n",
            "Installing collected packages: pytesseract\n",
            "Successfully installed pytesseract-0.3.8\n"
          ]
        }
      ]
    },
    {
      "cell_type": "code",
      "metadata": {
        "colab": {
          "base_uri": "https://localhost:8080/"
        },
        "id": "NflIm_lEyD60",
        "outputId": "fce5f723-f80d-4481-91c1-cf7742f79a3a"
      },
      "source": [
        "import fitz\n",
        "\n",
        "pdffile = \"/pdfs/1.pdf\"\n",
        "doc = fitz.open(pdffile)\n",
        "\n",
        "for i in range(1000):\n",
        "    try:\n",
        "        print(i)\n",
        "        page = doc.loadPage(i)\n",
        "        pix = page.getPixmap()\n",
        "        output = \"/outputs/outfile\" + str(i) + \".png\"\n",
        "        pix.writePNG(output)\n",
        "    except ValueError:\n",
        "        break\n",
        "print(\"Done !\")"
      ],
      "execution_count": 1,
      "outputs": [
        {
          "output_type": "stream",
          "name": "stdout",
          "text": [
            "0\n",
            "1\n",
            "2\n",
            "3\n",
            "Done !\n"
          ]
        }
      ]
    },
    {
      "cell_type": "code",
      "metadata": {
        "colab": {
          "base_uri": "https://localhost:8080/"
        },
        "id": "RI5vXFQMyX4r",
        "outputId": "e6076c42-560c-4f01-b26c-42b86f9b5154"
      },
      "source": [
        "import PyPDF2\n",
        "FILE_PATH = '/pdfs/TU.pdf'\n",
        "\n",
        "with open(FILE_PATH, mode='rb') as f:\n",
        "    reader = PyPDF2.PdfFileReader(f)\n",
        "    page = reader.getPage(10)\n",
        "    print(page.extractText())"
      ],
      "execution_count": 2,
      "outputs": [
        {
          "output_type": "stream",
          "name": "stdout",
          "text": [
            "\n",
            "\n",
            "\n",
            "\n",
            "\n",
            "\n",
            "\n",
            "\n",
            "\n",
            "\n",
            "\n",
            "\n",
            "\n",
            "\n",
            "\n",
            "\n",
            "\n",
            "\n",
            "\n",
            "\n",
            "\n",
            "\n",
            "\n",
            "\n",
            "\n",
            "\n",
            "\n",
            "\n",
            "\n",
            "\n",
            "\n",
            "\n",
            "\n",
            "\n",
            "\n",
            "\n",
            "\n",
            "\n",
            "\n",
            "\n",
            "\n",
            "\n",
            "\n",
            "\n",
            "\n",
            "\n",
            "\n",
            "\n",
            "\n",
            "\n",
            "\n",
            "\n",
            "\n",
            "\n",
            "\n",
            "\n",
            "\n",
            "\n",
            "\n",
            "\n",
            "\n",
            "\n",
            "\n",
            "\n",
            "\n",
            "\n",
            "\n",
            "\n",
            "\n",
            "\n",
            "\n",
            "\n",
            "\n",
            "\n",
            "\n",
            "\n",
            "\n",
            "\n",
            "\n",
            "\n",
            "\n",
            "\n",
            "\n",
            "\n",
            "\n",
            "\n",
            "\n",
            "\n",
            "\n",
            "\n",
            "\n",
            "\n",
            "\n",
            "\n",
            "\n",
            "\n",
            "\n",
            "\n",
            "\n",
            "\n",
            "\n",
            "\n",
            "\n",
            "\n",
            "\n",
            "\n",
            "\n",
            "\n",
            "\n",
            "\n",
            "\n",
            "\n",
            "\n",
            "\n",
            "\n",
            "\n",
            "\n",
            "\n",
            "\n",
            "\n",
            "\n",
            "\n",
            "\n",
            "\n",
            "\n",
            "\n",
            "\n",
            "\n",
            "\n",
            "\n",
            "\n",
            "\n"
          ]
        }
      ]
    },
    {
      "cell_type": "code",
      "metadata": {
        "colab": {
          "base_uri": "https://localhost:8080/",
          "height": 1000
        },
        "id": "HvnH6LxX18-z",
        "outputId": "dcfcf69a-3725-4f45-ea3d-334d43e4bb2c"
      },
      "source": [
        "!pip install spacy\n",
        "!pip install blackstone\n",
        "!pip install https://blackstone-model.s3-eu-west-1.amazonaws.com/en_blackstone_proto-0.0.1.tar.gz\n",
        "!pip install lexnlp"
      ],
      "execution_count": 40,
      "outputs": [
        {
          "output_type": "stream",
          "name": "stdout",
          "text": [
            "Requirement already satisfied: spacy in /usr/local/lib/python3.7/dist-packages (2.2.4)\n",
            "Requirement already satisfied: thinc==7.4.0 in /usr/local/lib/python3.7/dist-packages (from spacy) (7.4.0)\n",
            "Requirement already satisfied: murmurhash<1.1.0,>=0.28.0 in /usr/local/lib/python3.7/dist-packages (from spacy) (1.0.5)\n",
            "Requirement already satisfied: requests<3.0.0,>=2.13.0 in /usr/local/lib/python3.7/dist-packages (from spacy) (2.23.0)\n",
            "Requirement already satisfied: srsly<1.1.0,>=1.0.2 in /usr/local/lib/python3.7/dist-packages (from spacy) (1.0.5)\n",
            "Requirement already satisfied: blis<0.5.0,>=0.4.0 in /usr/local/lib/python3.7/dist-packages (from spacy) (0.4.1)\n",
            "Requirement already satisfied: cymem<2.1.0,>=2.0.2 in /usr/local/lib/python3.7/dist-packages (from spacy) (2.0.5)\n",
            "Requirement already satisfied: plac<1.2.0,>=0.9.6 in /usr/local/lib/python3.7/dist-packages (from spacy) (1.1.3)\n",
            "Requirement already satisfied: preshed<3.1.0,>=3.0.2 in /usr/local/lib/python3.7/dist-packages (from spacy) (3.0.5)\n",
            "Requirement already satisfied: tqdm<5.0.0,>=4.38.0 in /usr/local/lib/python3.7/dist-packages (from spacy) (4.62.3)\n",
            "Requirement already satisfied: numpy>=1.15.0 in /usr/local/lib/python3.7/dist-packages (from spacy) (1.19.5)\n",
            "Requirement already satisfied: catalogue<1.1.0,>=0.0.7 in /usr/local/lib/python3.7/dist-packages (from spacy) (1.0.0)\n",
            "Requirement already satisfied: setuptools in /usr/local/lib/python3.7/dist-packages (from spacy) (57.4.0)\n",
            "Requirement already satisfied: wasabi<1.1.0,>=0.4.0 in /usr/local/lib/python3.7/dist-packages (from spacy) (0.8.2)\n",
            "Requirement already satisfied: importlib-metadata>=0.20 in /usr/local/lib/python3.7/dist-packages (from catalogue<1.1.0,>=0.0.7->spacy) (4.8.1)\n",
            "Requirement already satisfied: certifi>=2017.4.17 in /usr/local/lib/python3.7/dist-packages (from requests<3.0.0,>=2.13.0->spacy) (2021.5.30)\n",
            "Requirement already satisfied: urllib3!=1.25.0,!=1.25.1,<1.26,>=1.21.1 in /usr/local/lib/python3.7/dist-packages (from requests<3.0.0,>=2.13.0->spacy) (1.24.3)\n",
            "Requirement already satisfied: idna<3,>=2.5 in /usr/local/lib/python3.7/dist-packages (from requests<3.0.0,>=2.13.0->spacy) (2.10)\n",
            "Requirement already satisfied: chardet<4,>=3.0.2 in /usr/local/lib/python3.7/dist-packages (from requests<3.0.0,>=2.13.0->spacy) (3.0.4)\n",
            "Requirement already satisfied: typing-extensions>=3.6.4 in /usr/local/lib/python3.7/dist-packages (from importlib-metadata>=0.20->catalogue<1.1.0,>=0.0.7->spacy) (3.7.4.3)\n",
            "Requirement already satisfied: zipp>=0.5 in /usr/local/lib/python3.7/dist-packages (from importlib-metadata>=0.20->catalogue<1.1.0,>=0.0.7->spacy) (3.6.0)\n",
            "\u001b[33mWARNING: Running pip as the 'root' user can result in broken permissions and conflicting behaviour with the system package manager. It is recommended to use a virtual environment instead: https://pip.pypa.io/warnings/venv\u001b[0m\n",
            "Collecting blackstone\n",
            "  Downloading blackstone-0.1.15-py3-none-any.whl (108 kB)\n",
            "     |████████████████████████████████| 108 kB 4.9 MB/s            \n",
            "\u001b[?25hRequirement already satisfied: requests in /usr/local/lib/python3.7/dist-packages (from blackstone) (2.23.0)\n",
            "Requirement already satisfied: numpy in /usr/local/lib/python3.7/dist-packages (from blackstone) (1.19.5)\n",
            "Collecting spacy==2.1.8\n",
            "\u001b[33m  WARNING: Retrying (Retry(total=4, connect=None, read=None, redirect=None, status=None)) after connection broken by 'ReadTimeoutError(\"HTTPSConnectionPool(host='files.pythonhosted.org', port=443): Read timed out. (read timeout=15)\")': /packages/e8/75/3c000560b15248530694b4bf6222357549accf24b9ee5b27a3f0acc8323e/spacy-2.1.8-cp37-cp37m-manylinux1_x86_64.whl\u001b[0m\n",
            "  Downloading spacy-2.1.8-cp37-cp37m-manylinux1_x86_64.whl (30.8 MB)\n",
            "     |████████████████████████████████| 30.8 MB 62 kB/s             \n",
            "\u001b[?25hRequirement already satisfied: pandas in /usr/local/lib/python3.7/dist-packages (from blackstone) (1.1.5)\n",
            "Collecting conllu\n",
            "  Downloading conllu-4.4.1-py2.py3-none-any.whl (15 kB)\n",
            "Collecting blis<0.3.0,>=0.2.2\n",
            "  Downloading blis-0.2.4-cp37-cp37m-manylinux1_x86_64.whl (3.2 MB)\n",
            "     |████████████████████████████████| 3.2 MB 49.2 MB/s            \n",
            "\u001b[?25hRequirement already satisfied: srsly<1.1.0,>=0.0.6 in /usr/local/lib/python3.7/dist-packages (from spacy==2.1.8->blackstone) (1.0.5)\n",
            "Requirement already satisfied: cymem<2.1.0,>=2.0.2 in /usr/local/lib/python3.7/dist-packages (from spacy==2.1.8->blackstone) (2.0.5)\n",
            "Collecting preshed<2.1.0,>=2.0.1\n",
            "  Downloading preshed-2.0.1-cp37-cp37m-manylinux1_x86_64.whl (82 kB)\n",
            "     |████████████████████████████████| 82 kB 400 kB/s             \n",
            "\u001b[?25hCollecting plac<1.0.0,>=0.9.6\n",
            "  Downloading plac-0.9.6-py2.py3-none-any.whl (20 kB)\n",
            "Requirement already satisfied: wasabi<1.1.0,>=0.2.0 in /usr/local/lib/python3.7/dist-packages (from spacy==2.1.8->blackstone) (0.8.2)\n",
            "Requirement already satisfied: murmurhash<1.1.0,>=0.28.0 in /usr/local/lib/python3.7/dist-packages (from spacy==2.1.8->blackstone) (1.0.5)\n",
            "Collecting thinc<7.1.0,>=7.0.8\n",
            "  Downloading thinc-7.0.8-cp37-cp37m-manylinux1_x86_64.whl (2.1 MB)\n",
            "     |████████████████████████████████| 2.1 MB 16.8 MB/s            \n",
            "\u001b[?25hRequirement already satisfied: certifi>=2017.4.17 in /usr/local/lib/python3.7/dist-packages (from requests->blackstone) (2021.5.30)\n",
            "Requirement already satisfied: idna<3,>=2.5 in /usr/local/lib/python3.7/dist-packages (from requests->blackstone) (2.10)\n",
            "Requirement already satisfied: urllib3!=1.25.0,!=1.25.1,<1.26,>=1.21.1 in /usr/local/lib/python3.7/dist-packages (from requests->blackstone) (1.24.3)\n",
            "Requirement already satisfied: chardet<4,>=3.0.2 in /usr/local/lib/python3.7/dist-packages (from requests->blackstone) (3.0.4)\n",
            "Requirement already satisfied: python-dateutil>=2.7.3 in /usr/local/lib/python3.7/dist-packages (from pandas->blackstone) (2.8.2)\n",
            "Requirement already satisfied: pytz>=2017.2 in /usr/local/lib/python3.7/dist-packages (from pandas->blackstone) (2018.9)\n",
            "Requirement already satisfied: six>=1.5 in /usr/local/lib/python3.7/dist-packages (from python-dateutil>=2.7.3->pandas->blackstone) (1.15.0)\n",
            "Requirement already satisfied: tqdm<5.0.0,>=4.10.0 in /usr/local/lib/python3.7/dist-packages (from thinc<7.1.0,>=7.0.8->spacy==2.1.8->blackstone) (4.62.3)\n",
            "Installing collected packages: preshed, plac, blis, thinc, spacy, conllu, blackstone\n",
            "  Attempting uninstall: preshed\n",
            "    Found existing installation: preshed 3.0.5\n",
            "    Uninstalling preshed-3.0.5:\n",
            "      Successfully uninstalled preshed-3.0.5\n",
            "  Attempting uninstall: plac\n",
            "    Found existing installation: plac 1.1.3\n",
            "    Uninstalling plac-1.1.3:\n",
            "      Successfully uninstalled plac-1.1.3\n",
            "  Attempting uninstall: blis\n",
            "    Found existing installation: blis 0.4.1\n",
            "    Uninstalling blis-0.4.1:\n",
            "      Successfully uninstalled blis-0.4.1\n",
            "  Attempting uninstall: thinc\n",
            "    Found existing installation: thinc 7.4.0\n",
            "    Uninstalling thinc-7.4.0:\n",
            "      Successfully uninstalled thinc-7.4.0\n",
            "  Attempting uninstall: spacy\n",
            "    Found existing installation: spacy 2.2.4\n",
            "    Uninstalling spacy-2.2.4:\n",
            "      Successfully uninstalled spacy-2.2.4\n",
            "\u001b[31mERROR: pip's dependency resolver does not currently take into account all the packages that are installed. This behaviour is the source of the following dependency conflicts.\n",
            "en-core-web-sm 2.2.5 requires spacy>=2.2.2, but you have spacy 2.1.8 which is incompatible.\u001b[0m\n",
            "Successfully installed blackstone-0.1.15 blis-0.2.4 conllu-4.4.1 plac-0.9.6 preshed-2.0.1 spacy-2.1.8 thinc-7.0.8\n",
            "\u001b[33mWARNING: Running pip as the 'root' user can result in broken permissions and conflicting behaviour with the system package manager. It is recommended to use a virtual environment instead: https://pip.pypa.io/warnings/venv\u001b[0m\n",
            "Collecting https://blackstone-model.s3-eu-west-1.amazonaws.com/en_blackstone_proto-0.0.1.tar.gz\n",
            "  Downloading https://blackstone-model.s3-eu-west-1.amazonaws.com/en_blackstone_proto-0.0.1.tar.gz (243.3 MB)\n",
            "     |████████████████████████████████| 243.3 MB 38 kB/s              \n",
            "\u001b[?25h  Preparing metadata (setup.py) ... \u001b[?25l\u001b[?25hdone\n",
            "Requirement already satisfied: spacy>=2.1.6 in /usr/local/lib/python3.7/dist-packages (from en-blackstone-proto==0.0.1) (2.1.8)\n",
            "Requirement already satisfied: murmurhash<1.1.0,>=0.28.0 in /usr/local/lib/python3.7/dist-packages (from spacy>=2.1.6->en-blackstone-proto==0.0.1) (1.0.5)\n",
            "Requirement already satisfied: blis<0.3.0,>=0.2.2 in /usr/local/lib/python3.7/dist-packages (from spacy>=2.1.6->en-blackstone-proto==0.0.1) (0.2.4)\n",
            "Requirement already satisfied: cymem<2.1.0,>=2.0.2 in /usr/local/lib/python3.7/dist-packages (from spacy>=2.1.6->en-blackstone-proto==0.0.1) (2.0.5)\n",
            "Requirement already satisfied: preshed<2.1.0,>=2.0.1 in /usr/local/lib/python3.7/dist-packages (from spacy>=2.1.6->en-blackstone-proto==0.0.1) (2.0.1)\n",
            "Requirement already satisfied: wasabi<1.1.0,>=0.2.0 in /usr/local/lib/python3.7/dist-packages (from spacy>=2.1.6->en-blackstone-proto==0.0.1) (0.8.2)\n",
            "Requirement already satisfied: numpy>=1.15.0 in /usr/local/lib/python3.7/dist-packages (from spacy>=2.1.6->en-blackstone-proto==0.0.1) (1.19.5)\n",
            "Requirement already satisfied: requests<3.0.0,>=2.13.0 in /usr/local/lib/python3.7/dist-packages (from spacy>=2.1.6->en-blackstone-proto==0.0.1) (2.23.0)\n",
            "Requirement already satisfied: srsly<1.1.0,>=0.0.6 in /usr/local/lib/python3.7/dist-packages (from spacy>=2.1.6->en-blackstone-proto==0.0.1) (1.0.5)\n",
            "Requirement already satisfied: thinc<7.1.0,>=7.0.8 in /usr/local/lib/python3.7/dist-packages (from spacy>=2.1.6->en-blackstone-proto==0.0.1) (7.0.8)\n",
            "Requirement already satisfied: plac<1.0.0,>=0.9.6 in /usr/local/lib/python3.7/dist-packages (from spacy>=2.1.6->en-blackstone-proto==0.0.1) (0.9.6)\n",
            "Requirement already satisfied: chardet<4,>=3.0.2 in /usr/local/lib/python3.7/dist-packages (from requests<3.0.0,>=2.13.0->spacy>=2.1.6->en-blackstone-proto==0.0.1) (3.0.4)\n",
            "Requirement already satisfied: urllib3!=1.25.0,!=1.25.1,<1.26,>=1.21.1 in /usr/local/lib/python3.7/dist-packages (from requests<3.0.0,>=2.13.0->spacy>=2.1.6->en-blackstone-proto==0.0.1) (1.24.3)\n",
            "Requirement already satisfied: idna<3,>=2.5 in /usr/local/lib/python3.7/dist-packages (from requests<3.0.0,>=2.13.0->spacy>=2.1.6->en-blackstone-proto==0.0.1) (2.10)\n",
            "Requirement already satisfied: certifi>=2017.4.17 in /usr/local/lib/python3.7/dist-packages (from requests<3.0.0,>=2.13.0->spacy>=2.1.6->en-blackstone-proto==0.0.1) (2021.5.30)\n",
            "Requirement already satisfied: tqdm<5.0.0,>=4.10.0 in /usr/local/lib/python3.7/dist-packages (from thinc<7.1.0,>=7.0.8->spacy>=2.1.6->en-blackstone-proto==0.0.1) (4.62.3)\n",
            "Building wheels for collected packages: en-blackstone-proto\n",
            "  Building wheel for en-blackstone-proto (setup.py) ... \u001b[?25l\u001b[?25hdone\n",
            "  Created wheel for en-blackstone-proto: filename=en_blackstone_proto-0.0.1-py3-none-any.whl size=243759403 sha256=ee5adb8c495ef07fe129d20f78396cabdc7f31327963063258ce10cbb34dc43c\n",
            "  Stored in directory: /root/.cache/pip/wheels/d0/42/74/a20fefd54024d07e8ebd2dfb6f3435c70669295db2841a928e\n",
            "Successfully built en-blackstone-proto\n",
            "Installing collected packages: en-blackstone-proto\n",
            "Successfully installed en-blackstone-proto-0.0.1\n",
            "\u001b[33mWARNING: Running pip as the 'root' user can result in broken permissions and conflicting behaviour with the system package manager. It is recommended to use a virtual environment instead: https://pip.pypa.io/warnings/venv\u001b[0m\n",
            "Collecting lexnlp\n",
            "  Downloading lexnlp-2.1.0-py3-none-any.whl (9.9 MB)\n",
            "     |████████████████████████████████| 9.9 MB 198 kB/s            \n",
            "\u001b[?25hCollecting reporters-db==2.0.3\n",
            "  Downloading reporters_db-2.0.3-py2.py3-none-any.whl (72 kB)\n",
            "     |████████████████████████████████| 72 kB 1.4 MB/s             \n",
            "\u001b[?25hCollecting pycountry==20.7.3\n",
            "  Downloading pycountry-20.7.3.tar.gz (10.1 MB)\n",
            "     |████████████████████████████████| 10.1 MB 18.6 MB/s            \n",
            "\u001b[?25h  Preparing metadata (setup.py) ... \u001b[?25l\u001b[?25hdone\n",
            "Collecting joblib==0.14.0\n",
            "  Downloading joblib-0.14.0-py2.py3-none-any.whl (294 kB)\n",
            "     |████████████████████████████████| 294 kB 26.4 MB/s            \n",
            "\u001b[?25hCollecting num2words==0.5.10\n",
            "  Downloading num2words-0.5.10-py3-none-any.whl (101 kB)\n",
            "     |████████████████████████████████| 101 kB 10.6 MB/s           \n",
            "\u001b[?25hCollecting scikit-learn==0.23.1\n",
            "  Downloading scikit_learn-0.23.1-cp37-cp37m-manylinux1_x86_64.whl (6.8 MB)\n",
            "     |████████████████████████████████| 6.8 MB 15.2 MB/s            \n",
            "\u001b[?25hCollecting us==2.0.2\n",
            "  Downloading us-2.0.2.tar.gz (14 kB)\n",
            "  Preparing metadata (setup.py) ... \u001b[?25l\u001b[?25hdone\n",
            "Collecting zahlwort2num==0.2.1\n",
            "  Downloading zahlwort2num-0.2.1-py3-none-any.whl (7.6 kB)\n",
            "Collecting gensim==3.8.3\n",
            "  Downloading gensim-3.8.3-cp37-cp37m-manylinux1_x86_64.whl (24.2 MB)\n",
            "     |████████████████████████████████| 24.2 MB 58.1 MB/s            \n",
            "\u001b[?25hCollecting datefinder-lexpredict==0.6.2.1\n",
            "  Downloading datefinder_lexpredict-0.6.2.1-py2.py3-none-any.whl (8.0 kB)\n",
            "Collecting dateparser==0.7.2\n",
            "  Downloading dateparser-0.7.2-py2.py3-none-any.whl (352 kB)\n",
            "     |████████████████████████████████| 352 kB 53.5 MB/s            \n",
            "\u001b[?25hCollecting nltk==3.5\n",
            "  Downloading nltk-3.5.zip (1.4 MB)\n",
            "     |████████████████████████████████| 1.4 MB 66.9 MB/s            \n",
            "\u001b[?25h  Preparing metadata (setup.py) ... \u001b[?25l\u001b[?25hdone\n",
            "Collecting scipy==1.5.1\n",
            "  Downloading scipy-1.5.1-cp37-cp37m-manylinux1_x86_64.whl (25.9 MB)\n",
            "     |████████████████████████████████| 25.9 MB 1.3 MB/s             \n",
            "\u001b[?25hCollecting numpy==1.19.1\n",
            "  Downloading numpy-1.19.1-cp37-cp37m-manylinux2010_x86_64.whl (14.5 MB)\n",
            "     |████████████████████████████████| 14.5 MB 9.2 kB/s             \n",
            "\u001b[?25hCollecting regex==2020.11.13\n",
            "  Downloading regex-2020.11.13-cp37-cp37m-manylinux2014_x86_64.whl (719 kB)\n",
            "     |████████████████████████████████| 719 kB 65.2 MB/s            \n",
            "\u001b[?25hCollecting pandas==1.1.3\n",
            "  Downloading pandas-1.1.3-cp37-cp37m-manylinux1_x86_64.whl (9.5 MB)\n",
            "     |████████████████████████████████| 9.5 MB 8.4 MB/s            \n",
            "\u001b[?25hCollecting requests==2.24.0\n",
            "  Downloading requests-2.24.0-py2.py3-none-any.whl (61 kB)\n",
            "     |████████████████████████████████| 61 kB 414 kB/s             \n",
            "\u001b[?25hCollecting Unidecode==1.1.1\n",
            "  Downloading Unidecode-1.1.1-py2.py3-none-any.whl (238 kB)\n",
            "     |████████████████████████████████| 238 kB 71.6 MB/s            \n",
            "\u001b[?25hRequirement already satisfied: pytz in /usr/local/lib/python3.7/dist-packages (from datefinder-lexpredict==0.6.2.1->lexnlp) (2018.9)\n",
            "INFO: pip is looking at multiple versions of <Python from Requires-Python> to determine which version is compatible with other requirements. This could take a while.\n",
            "INFO: pip is looking at multiple versions of lexnlp to determine which version is compatible with other requirements. This could take a while.\n",
            "Collecting lexnlp\n",
            "  Downloading lexnlp-2.0.0-py3-none-any.whl (10.0 MB)\n",
            "     |████████████████████████████████| 10.0 MB 56.9 MB/s            \n",
            "\u001b[?25h  Downloading lexnlp-1.8.0-py3-none-any.whl (9.8 MB)\n",
            "     |████████████████████████████████| 9.8 MB 69.1 MB/s            \n",
            "\u001b[?25hCollecting pandas==0.24.2\n",
            "  Downloading pandas-0.24.2-cp37-cp37m-manylinux1_x86_64.whl (10.1 MB)\n",
            "     |████████████████████████████████| 10.1 MB 10.1 MB/s            \n",
            "\u001b[?25hCollecting regex==2020.7.14\n",
            "  Downloading regex-2020.7.14-cp37-cp37m-manylinux2010_x86_64.whl (660 kB)\n",
            "     |████████████████████████████████| 660 kB 56.4 MB/s            \n",
            "\u001b[?25hRequirement already satisfied: python-dateutil>=2.4.2 in /usr/local/lib/python3.7/dist-packages (from datefinder-lexpredict==0.6.2.1->lexnlp) (2.8.2)\n",
            "Requirement already satisfied: tzlocal in /usr/local/lib/python3.7/dist-packages (from dateparser==0.7.2->lexnlp) (1.5.1)\n",
            "Requirement already satisfied: six>=1.5.0 in /usr/local/lib/python3.7/dist-packages (from gensim==3.8.3->lexnlp) (1.15.0)\n",
            "Requirement already satisfied: smart-open>=1.8.1 in /usr/local/lib/python3.7/dist-packages (from gensim==3.8.3->lexnlp) (5.2.1)\n",
            "Requirement already satisfied: click in /usr/local/lib/python3.7/dist-packages (from nltk==3.5->lexnlp) (7.1.2)\n",
            "Requirement already satisfied: tqdm in /usr/local/lib/python3.7/dist-packages (from nltk==3.5->lexnlp) (4.62.3)\n",
            "Requirement already satisfied: docopt>=0.6.2 in /usr/local/lib/python3.7/dist-packages (from num2words==0.5.10->lexnlp) (0.6.2)\n",
            "Requirement already satisfied: urllib3!=1.25.0,!=1.25.1,<1.26,>=1.21.1 in /usr/local/lib/python3.7/dist-packages (from requests==2.24.0->lexnlp) (1.24.3)\n",
            "Requirement already satisfied: idna<3,>=2.5 in /usr/local/lib/python3.7/dist-packages (from requests==2.24.0->lexnlp) (2.10)\n",
            "Requirement already satisfied: chardet<4,>=3.0.2 in /usr/local/lib/python3.7/dist-packages (from requests==2.24.0->lexnlp) (3.0.4)\n",
            "Requirement already satisfied: certifi>=2017.4.17 in /usr/local/lib/python3.7/dist-packages (from requests==2.24.0->lexnlp) (2021.5.30)\n",
            "Collecting threadpoolctl>=2.0.0\n",
            "  Downloading threadpoolctl-3.0.0-py3-none-any.whl (14 kB)\n",
            "Collecting jellyfish==0.6.1\n",
            "  Downloading jellyfish-0.6.1.tar.gz (132 kB)\n",
            "     |████████████████████████████████| 132 kB 56.9 MB/s            \n",
            "\u001b[?25h  Preparing metadata (setup.py) ... \u001b[?25l\u001b[?25hdone\n",
            "Building wheels for collected packages: nltk, pycountry, us, jellyfish\n",
            "  Building wheel for nltk (setup.py) ... \u001b[?25l\u001b[?25hdone\n",
            "  Created wheel for nltk: filename=nltk-3.5-py3-none-any.whl size=1434692 sha256=09f3c5443abdb92057e7aab3be7202b159d617924c008ac792702ea40ec2aa7d\n",
            "  Stored in directory: /root/.cache/pip/wheels/45/6c/46/a1865e7ba706b3817f5d1b2ff7ce8996aabdd0d03d47ba0266\n",
            "  Building wheel for pycountry (setup.py) ... \u001b[?25l\u001b[?25hdone\n",
            "  Created wheel for pycountry: filename=pycountry-20.7.3-py2.py3-none-any.whl size=10746883 sha256=5a39f99c4ed08057d3cde845aa8ea351daa5bb2f8bcc4904ff91683b36f37b61\n",
            "  Stored in directory: /root/.cache/pip/wheels/57/e8/3f/120ccc1ff7541c108bc5d656e2a14c39da0d824653b62284c6\n",
            "  Building wheel for us (setup.py) ... \u001b[?25l\u001b[?25hdone\n",
            "  Created wheel for us: filename=us-2.0.2-py3-none-any.whl size=11942 sha256=9d0d258e0680cbe8e54f49aa53d7bab3fbcd83a4cddf0bd95819ad8297ad48de\n",
            "  Stored in directory: /root/.cache/pip/wheels/ca/6b/11/cda9ea2438f721330a35c9a2c8e34b4aedcd34c89af48a4d00\n",
            "  Building wheel for jellyfish (setup.py) ... \u001b[?25l\u001b[?25hdone\n",
            "  Created wheel for jellyfish: filename=jellyfish-0.6.1-cp37-cp37m-linux_x86_64.whl size=72161 sha256=c90cb197d7bf87806c0b82aa272e538cab9ba6f5d31f4ec09f10f4e0958ec3b8\n",
            "  Stored in directory: /root/.cache/pip/wheels/a1/99/51/7de469e37cd1b3c763c24394e1ebf1baa2d79e094bf346cf80\n",
            "Successfully built nltk pycountry us jellyfish\n",
            "Installing collected packages: numpy, threadpoolctl, scipy, regex, joblib, jellyfish, us, Unidecode, scikit-learn, requests, reporters-db, pycountry, pandas, num2words, nltk, gensim, dateparser, datefinder-lexpredict, lexnlp\n",
            "  Attempting uninstall: numpy\n",
            "    Found existing installation: numpy 1.19.5\n",
            "    Uninstalling numpy-1.19.5:\n",
            "      Successfully uninstalled numpy-1.19.5\n",
            "  Attempting uninstall: scipy\n",
            "    Found existing installation: scipy 1.4.1\n",
            "    Uninstalling scipy-1.4.1:\n",
            "      Successfully uninstalled scipy-1.4.1\n",
            "  Attempting uninstall: regex\n",
            "    Found existing installation: regex 2019.12.20\n",
            "    Uninstalling regex-2019.12.20:\n",
            "      Successfully uninstalled regex-2019.12.20\n",
            "  Attempting uninstall: joblib\n",
            "    Found existing installation: joblib 1.0.1\n",
            "    Uninstalling joblib-1.0.1:\n",
            "      Successfully uninstalled joblib-1.0.1\n",
            "  Attempting uninstall: scikit-learn\n",
            "    Found existing installation: scikit-learn 0.22.2.post1\n",
            "    Uninstalling scikit-learn-0.22.2.post1:\n",
            "      Successfully uninstalled scikit-learn-0.22.2.post1\n",
            "  Attempting uninstall: requests\n",
            "    Found existing installation: requests 2.23.0\n",
            "    Uninstalling requests-2.23.0:\n",
            "      Successfully uninstalled requests-2.23.0\n",
            "  Attempting uninstall: pandas\n",
            "    Found existing installation: pandas 1.1.5\n",
            "    Uninstalling pandas-1.1.5:\n",
            "      Successfully uninstalled pandas-1.1.5\n",
            "  Attempting uninstall: nltk\n",
            "    Found existing installation: nltk 3.2.5\n",
            "    Uninstalling nltk-3.2.5:\n",
            "      Successfully uninstalled nltk-3.2.5\n",
            "  Attempting uninstall: gensim\n",
            "    Found existing installation: gensim 3.6.0\n",
            "    Uninstalling gensim-3.6.0:\n",
            "      Successfully uninstalled gensim-3.6.0\n",
            "\u001b[31mERROR: pip's dependency resolver does not currently take into account all the packages that are installed. This behaviour is the source of the following dependency conflicts.\n",
            "xarray 0.18.2 requires pandas>=1.0, but you have pandas 0.24.2 which is incompatible.\n",
            "tensorflow 2.6.0 requires numpy~=1.19.2, but you have numpy 1.19.1 which is incompatible.\n",
            "plotnine 0.6.0 requires pandas>=0.25.0, but you have pandas 0.24.2 which is incompatible.\n",
            "mizani 0.6.0 requires pandas>=0.25.0, but you have pandas 0.24.2 which is incompatible.\n",
            "google-colab 1.0.0 requires pandas~=1.1.0; python_version >= \"3.0\", but you have pandas 0.24.2 which is incompatible.\n",
            "google-colab 1.0.0 requires requests~=2.23.0, but you have requests 2.24.0 which is incompatible.\n",
            "fbprophet 0.7.1 requires pandas>=1.0.4, but you have pandas 0.24.2 which is incompatible.\n",
            "en-core-web-sm 2.2.5 requires spacy>=2.2.2, but you have spacy 2.1.8 which is incompatible.\n",
            "datascience 0.10.6 requires folium==0.2.1, but you have folium 0.8.3 which is incompatible.\n",
            "albumentations 0.1.12 requires imgaug<0.2.7,>=0.2.5, but you have imgaug 0.2.9 which is incompatible.\u001b[0m\n",
            "Successfully installed Unidecode-1.1.1 datefinder-lexpredict-0.6.2.1 dateparser-0.7.2 gensim-3.8.3 jellyfish-0.6.1 joblib-0.14.0 lexnlp-1.8.0 nltk-3.5 num2words-0.5.10 numpy-1.19.1 pandas-0.24.2 pycountry-20.7.3 regex-2020.7.14 reporters-db-2.0.3 requests-2.24.0 scikit-learn-0.23.1 scipy-1.5.1 threadpoolctl-3.0.0 us-2.0.2\n",
            "\u001b[33mWARNING: Running pip as the 'root' user can result in broken permissions and conflicting behaviour with the system package manager. It is recommended to use a virtual environment instead: https://pip.pypa.io/warnings/venv\u001b[0m\n"
          ]
        },
        {
          "output_type": "display_data",
          "data": {
            "application/vnd.colab-display-data+json": {
              "pip_warning": {
                "packages": [
                  "joblib",
                  "nltk",
                  "numpy",
                  "pandas",
                  "regex",
                  "requests",
                  "scipy",
                  "sklearn"
                ]
              }
            }
          },
          "metadata": {}
        }
      ]
    },
    {
      "cell_type": "code",
      "metadata": {
        "colab": {
          "base_uri": "https://localhost:8080/",
          "height": 856
        },
        "id": "B7Ybq_Jw4DpZ",
        "outputId": "b0b33c73-3aae-487d-e5a1-e4c2b32a18c6"
      },
      "source": [
        "!pip install --upgrade pandas\n",
        "!pip install --upgrade numpy"
      ],
      "execution_count": 44,
      "outputs": [
        {
          "output_type": "stream",
          "name": "stdout",
          "text": [
            "Requirement already satisfied: pandas in /usr/local/lib/python3.7/dist-packages (0.24.2)\n",
            "Collecting pandas\n",
            "  Downloading pandas-1.3.3-cp37-cp37m-manylinux_2_17_x86_64.manylinux2014_x86_64.whl (11.3 MB)\n",
            "     |████████████████████████████████| 11.3 MB 4.3 MB/s            \n",
            "\u001b[?25hRequirement already satisfied: numpy>=1.17.3 in /usr/local/lib/python3.7/dist-packages (from pandas) (1.19.1)\n",
            "Requirement already satisfied: python-dateutil>=2.7.3 in /usr/local/lib/python3.7/dist-packages (from pandas) (2.8.2)\n",
            "Requirement already satisfied: pytz>=2017.3 in /usr/local/lib/python3.7/dist-packages (from pandas) (2018.9)\n",
            "Requirement already satisfied: six>=1.5 in /usr/local/lib/python3.7/dist-packages (from python-dateutil>=2.7.3->pandas) (1.15.0)\n",
            "Installing collected packages: pandas\n",
            "  Attempting uninstall: pandas\n",
            "    Found existing installation: pandas 0.24.2\n",
            "    Uninstalling pandas-0.24.2:\n",
            "      Successfully uninstalled pandas-0.24.2\n",
            "\u001b[31mERROR: pip's dependency resolver does not currently take into account all the packages that are installed. This behaviour is the source of the following dependency conflicts.\n",
            "lexnlp 1.8.0 requires pandas==0.24.2, but you have pandas 1.3.3 which is incompatible.\n",
            "google-colab 1.0.0 requires pandas~=1.1.0; python_version >= \"3.0\", but you have pandas 1.3.3 which is incompatible.\n",
            "google-colab 1.0.0 requires requests~=2.23.0, but you have requests 2.24.0 which is incompatible.\u001b[0m\n",
            "Successfully installed pandas-1.3.3\n",
            "\u001b[33mWARNING: Running pip as the 'root' user can result in broken permissions and conflicting behaviour with the system package manager. It is recommended to use a virtual environment instead: https://pip.pypa.io/warnings/venv\u001b[0m\n"
          ]
        },
        {
          "output_type": "display_data",
          "data": {
            "application/vnd.colab-display-data+json": {
              "pip_warning": {
                "packages": [
                  "pandas"
                ]
              }
            }
          },
          "metadata": {}
        },
        {
          "output_type": "stream",
          "name": "stdout",
          "text": [
            "Requirement already satisfied: numpy in /usr/local/lib/python3.7/dist-packages (1.19.1)\n",
            "Collecting numpy\n",
            "  Downloading numpy-1.21.2-cp37-cp37m-manylinux_2_12_x86_64.manylinux2010_x86_64.whl (15.7 MB)\n",
            "     |████████████████████████████████| 15.7 MB 143 kB/s            \n",
            "\u001b[?25hInstalling collected packages: numpy\n",
            "  Attempting uninstall: numpy\n",
            "    Found existing installation: numpy 1.19.1\n",
            "    Uninstalling numpy-1.19.1:\n",
            "      Successfully uninstalled numpy-1.19.1\n",
            "\u001b[31mERROR: pip's dependency resolver does not currently take into account all the packages that are installed. This behaviour is the source of the following dependency conflicts.\n",
            "tensorflow 2.6.0 requires numpy~=1.19.2, but you have numpy 1.21.2 which is incompatible.\n",
            "lexnlp 1.8.0 requires numpy==1.19.1, but you have numpy 1.21.2 which is incompatible.\n",
            "lexnlp 1.8.0 requires pandas==0.24.2, but you have pandas 1.3.3 which is incompatible.\n",
            "google-colab 1.0.0 requires pandas~=1.1.0; python_version >= \"3.0\", but you have pandas 1.3.3 which is incompatible.\n",
            "google-colab 1.0.0 requires requests~=2.23.0, but you have requests 2.24.0 which is incompatible.\n",
            "en-core-web-sm 2.2.5 requires spacy>=2.2.2, but you have spacy 2.1.8 which is incompatible.\n",
            "datascience 0.10.6 requires folium==0.2.1, but you have folium 0.8.3 which is incompatible.\n",
            "albumentations 0.1.12 requires imgaug<0.2.7,>=0.2.5, but you have imgaug 0.2.9 which is incompatible.\u001b[0m\n",
            "Successfully installed numpy-1.21.2\n",
            "\u001b[33mWARNING: Running pip as the 'root' user can result in broken permissions and conflicting behaviour with the system package manager. It is recommended to use a virtual environment instead: https://pip.pypa.io/warnings/venv\u001b[0m\n"
          ]
        },
        {
          "output_type": "display_data",
          "data": {
            "application/vnd.colab-display-data+json": {
              "pip_warning": {
                "packages": [
                  "numpy"
                ]
              }
            }
          },
          "metadata": {}
        }
      ]
    },
    {
      "cell_type": "code",
      "metadata": {
        "id": "LNUtCqfg4TRK"
      },
      "source": [
        ""
      ],
      "execution_count": null,
      "outputs": []
    },
    {
      "cell_type": "code",
      "metadata": {
        "colab": {
          "base_uri": "https://localhost:8080/"
        },
        "id": "pnc6Q0myzvo-",
        "outputId": "5b51b219-29b9-4867-fc37-79c0ad46b39c"
      },
      "source": [
        "! apt install tesseract-ocr\n",
        "! apt install libtesseract-dev\n",
        "!pip install pytesseract"
      ],
      "execution_count": 13,
      "outputs": [
        {
          "output_type": "stream",
          "name": "stdout",
          "text": [
            "Reading package lists... Done\n",
            "Building dependency tree       \n",
            "Reading state information... Done\n",
            "The following additional packages will be installed:\n",
            "  tesseract-ocr-eng tesseract-ocr-osd\n",
            "The following NEW packages will be installed:\n",
            "  tesseract-ocr tesseract-ocr-eng tesseract-ocr-osd\n",
            "0 upgraded, 3 newly installed, 0 to remove and 37 not upgraded.\n",
            "Need to get 4,795 kB of archives.\n",
            "After this operation, 15.8 MB of additional disk space will be used.\n",
            "Get:1 http://archive.ubuntu.com/ubuntu bionic/universe amd64 tesseract-ocr-eng all 4.00~git24-0e00fe6-1.2 [1,588 kB]\n",
            "Get:2 http://archive.ubuntu.com/ubuntu bionic/universe amd64 tesseract-ocr-osd all 4.00~git24-0e00fe6-1.2 [2,989 kB]\n",
            "Get:3 http://archive.ubuntu.com/ubuntu bionic/universe amd64 tesseract-ocr amd64 4.00~git2288-10f4998a-2 [218 kB]\n",
            "Fetched 4,795 kB in 3s (1,612 kB/s)\n",
            "Selecting previously unselected package tesseract-ocr-eng.\n",
            "(Reading database ... 155047 files and directories currently installed.)\n",
            "Preparing to unpack .../tesseract-ocr-eng_4.00~git24-0e00fe6-1.2_all.deb ...\n",
            "Unpacking tesseract-ocr-eng (4.00~git24-0e00fe6-1.2) ...\n",
            "Selecting previously unselected package tesseract-ocr-osd.\n",
            "Preparing to unpack .../tesseract-ocr-osd_4.00~git24-0e00fe6-1.2_all.deb ...\n",
            "Unpacking tesseract-ocr-osd (4.00~git24-0e00fe6-1.2) ...\n",
            "Selecting previously unselected package tesseract-ocr.\n",
            "Preparing to unpack .../tesseract-ocr_4.00~git2288-10f4998a-2_amd64.deb ...\n",
            "Unpacking tesseract-ocr (4.00~git2288-10f4998a-2) ...\n",
            "Setting up tesseract-ocr-osd (4.00~git24-0e00fe6-1.2) ...\n",
            "Setting up tesseract-ocr-eng (4.00~git24-0e00fe6-1.2) ...\n",
            "Setting up tesseract-ocr (4.00~git2288-10f4998a-2) ...\n",
            "Processing triggers for man-db (2.8.3-2ubuntu0.1) ...\n",
            "Reading package lists... Done\n",
            "Building dependency tree       \n",
            "Reading state information... Done\n",
            "The following additional packages will be installed:\n",
            "  libleptonica-dev\n",
            "The following NEW packages will be installed:\n",
            "  libleptonica-dev libtesseract-dev\n",
            "0 upgraded, 2 newly installed, 0 to remove and 37 not upgraded.\n",
            "Need to get 2,755 kB of archives.\n",
            "After this operation, 13.8 MB of additional disk space will be used.\n",
            "Get:1 http://archive.ubuntu.com/ubuntu bionic/universe amd64 libleptonica-dev amd64 1.75.3-3 [1,308 kB]\n",
            "Get:2 http://archive.ubuntu.com/ubuntu bionic/universe amd64 libtesseract-dev amd64 4.00~git2288-10f4998a-2 [1,447 kB]\n",
            "Fetched 2,755 kB in 3s (991 kB/s)\n",
            "Selecting previously unselected package libleptonica-dev.\n",
            "(Reading database ... 155094 files and directories currently installed.)\n",
            "Preparing to unpack .../libleptonica-dev_1.75.3-3_amd64.deb ...\n",
            "Unpacking libleptonica-dev (1.75.3-3) ...\n",
            "Selecting previously unselected package libtesseract-dev.\n",
            "Preparing to unpack .../libtesseract-dev_4.00~git2288-10f4998a-2_amd64.deb ...\n",
            "Unpacking libtesseract-dev (4.00~git2288-10f4998a-2) ...\n",
            "Setting up libleptonica-dev (1.75.3-3) ...\n",
            "Setting up libtesseract-dev (4.00~git2288-10f4998a-2) ...\n",
            "Requirement already satisfied: pytesseract in /usr/local/lib/python3.7/dist-packages (0.3.8)\n",
            "Requirement already satisfied: Pillow in /usr/local/lib/python3.7/dist-packages (from pytesseract) (7.1.2)\n",
            "\u001b[33mWARNING: Running pip as the 'root' user can result in broken permissions and conflicting behaviour with the system package manager. It is recommended to use a virtual environment instead: https://pip.pypa.io/warnings/venv\u001b[0m\n"
          ]
        }
      ]
    },
    {
      "cell_type": "code",
      "metadata": {
        "colab": {
          "base_uri": "https://localhost:8080/"
        },
        "id": "pEefsqjBzNPR",
        "outputId": "250a9ec5-fe23-49cf-c8f0-1998f54fa4a0"
      },
      "source": [
        "import pytesseract\n",
        "from PIL import Image\n",
        "a = pytesseract.image_to_string(Image.open(\"/outputs/scr1.png\"), lang=\"eng\")\n",
        "print(a)"
      ],
      "execution_count": 13,
      "outputs": [
        {
          "output_type": "stream",
          "name": "stdout",
          "text": [
            "PREFACE\n",
            "\n",
            "Trade Unions have proliferated due to rapid economic development and\n",
            "development in particular. The setting of industrial units involving wide spread use\n",
            "of machinery, changes in working and living environment of workers,\n",
            "concentration of industries in large towns have brought the workers together to\n",
            "maintain and improve their bargaining power and hence their employment\n",
            "conditions. The first organized Trade Unions in India named as the Madras\n",
            "Labour Union was formed as early as 1918. Since then, a large number of Unions\n",
            "came up in almost all the industrial centers of the country. The government of\n",
            "India passed the “Trade Unions Act,1926” to regulate conditions governing the\n",
            "registration of Trade Unions, obligations imposed on a registered Trade Unions\n",
            "and right and liabilities there of. The Rules Framed under the “Trade Unions\n",
            "Act,1926 impose obligation on the registered Trade Unions (Workers &\n",
            "Employers) to submit annual statutory retum in the prescribed format to the\n",
            "Registrar of their respective States/ Union Territories. These State/U.T. Authorities\n",
            "in turn furnish the consolidated data in respect of the entire State/U.T. to the\n",
            "Labour Bureau. The Labour Bureau compiles and disseminates these statistics at\n",
            "All India level.\n",
            "\n",
            " \n",
            "\n",
            "‘The present biennial review presents comprehensive statistics on the\n",
            "working of the Trade Unions Act, 1926 during 2012. It is based on the Annual\n",
            "Returns received from the Registrar of Trade Unions of the respective States/Union\n",
            "Territories.\n",
            "\n",
            " \n",
            "\n",
            " \n",
            "\n",
            "1am thankful to the Registrar of Trade Unions of all the responding State\n",
            "Government/Union Territory without, whose support it would not have been\n",
            "possible to bring out this Report. I also place on record my appreciation for the\n",
            "work done by the team of officers and staff members of Labour Bureau, whose\n",
            "names appear in Annexure IV.\n",
            "\n",
            "Suggestions for further improvement of this publication are welcome.\n",
            "\n",
            "Dalject Singh\n",
            "Director General\n",
            "\n",
            "Chandigarh\n",
            "\n",
            "Dated : 4\" February, 2015\n",
            "\f\n"
          ]
        }
      ]
    },
    {
      "cell_type": "code",
      "metadata": {
        "colab": {
          "base_uri": "https://localhost:8080/"
        },
        "id": "7daZI8MGzW0l",
        "outputId": "84055b48-cd86-4610-ed7b-3ffa5e74d7a7"
      },
      "source": [
        "import re\n",
        "import nltk\n",
        "import numpy as np\n",
        "import pandas as pd\n",
        "from nltk.corpus import stopwords\n",
        "from nltk.cluster.util import cosine_distance\n",
        "from nltk.tokenize import sent_tokenize\n",
        "import networkx as nx\n",
        "nltk.download('stopwords')    \n",
        "nltk.download('punkt')"
      ],
      "execution_count": 4,
      "outputs": [
        {
          "output_type": "stream",
          "name": "stderr",
          "text": [
            "[nltk_data] Downloading package stopwords to /root/nltk_data...\n",
            "[nltk_data]   Package stopwords is already up-to-date!\n",
            "[nltk_data] Downloading package punkt to /root/nltk_data...\n",
            "[nltk_data]   Package punkt is already up-to-date!\n"
          ]
        },
        {
          "output_type": "execute_result",
          "data": {
            "text/plain": [
              "True"
            ]
          },
          "metadata": {},
          "execution_count": 4
        }
      ]
    },
    {
      "cell_type": "code",
      "metadata": {
        "id": "_pQZTh1S0O-S"
      },
      "source": [
        "def cleaner(text):        \n",
        "  sentences =[]        \n",
        "  sentences = sent_tokenize(text)    \n",
        "  for s in range(len(sentences)):\n",
        "    ss = sentences[s]\n",
        "    ss = re.sub(r'/.+?/', '', ss)\n",
        "    ss = re.sub(\"[\\(\\[].*?[\\)\\]]\", \"\", ss)\n",
        "    sentences[s] = ss                      \n",
        "  #print(\"\\n\".join(map(str,sentences)))\n",
        "  #print(\"\\n\\n\\n\")\n",
        "  return sentences\n",
        "\n",
        "\n",
        "def sim_matrix(sentences,stop_words):\n",
        "  similarity_matrix = np.zeros((len(sentences),len(sentences)))\n",
        "  for idx1 in range(len(sentences)):\n",
        "    for idx2 in range(len(sentences)):\n",
        "      if idx1!=idx2:\n",
        "        similarity_matrix[idx1][idx2] = cosfunction(sentences[idx1],sentences[idx2],stop_words)\n",
        "  return similarity_matrix\n",
        "\n",
        "\n",
        "def cosfunction(s1,s2,stopwords=None):    \n",
        "  if stopwords is None:        \n",
        "    stopwords = []        \n",
        "  s1 = [w.lower() for w in s1]    \n",
        "  s2 = [w.lower() for w in s2]\n",
        "        \n",
        "  all_words = list(set(s1 + s2))   \n",
        "     \n",
        "  vector1 = [0] * len(all_words)    \n",
        "  vector2 = [0] * len(all_words)        \n",
        "  for w in s1:        \n",
        "    if not w in stopwords:\n",
        "      vector1[all_words.index(w)]+=1                                                             \n",
        "  for w in s2:        \n",
        "    if not w in stopwords:            \n",
        "      vector2[all_words.index(w)]+=1 \n",
        "               \n",
        "  return 1-cosine_distance(vector1,vector2)\n",
        "\n",
        "def generate_summary(text,top_n):\n",
        "  stop_words = stopwords.words('english')    \n",
        "  summary = []\n",
        "  sentences = cleaner(text)\n",
        "  cos_matrix = sim_matrix(sentences,stop_words)\n",
        "  cos_graph = nx.from_numpy_array(cos_matrix)\n",
        "  scores = nx.pagerank(cos_graph)\n",
        "  ranks = sorted(((scores[i],s) for i,s in enumerate(sentences)),reverse=True)\n",
        "  \n",
        "  for i in range(top_n):\n",
        "    summary.append(ranks[i][1])\n",
        "  return \" \".join(summary),len(sentences)"
      ],
      "execution_count": 6,
      "outputs": []
    },
    {
      "cell_type": "code",
      "metadata": {
        "colab": {
          "base_uri": "https://localhost:8080/",
          "height": 135
        },
        "id": "t79VCW0u0znN",
        "outputId": "2e4d673a-31dc-476c-8a95-bc5ddce6c623"
      },
      "source": [
        "a = a.replace('\\n', \" \")\n",
        "a"
      ],
      "execution_count": 14,
      "outputs": [
        {
          "output_type": "execute_result",
          "data": {
            "application/vnd.google.colaboratory.intrinsic+json": {
              "type": "string"
            },
            "text/plain": [
              "'PREFACE  Trade Unions have proliferated due to rapid economic development and development in particular. The setting of industrial units involving wide spread use of machinery, changes in working and living environment of workers, concentration of industries in large towns have brought the workers together to maintain and improve their bargaining power and hence their employment conditions. The first organized Trade Unions in India named as the Madras Labour Union was formed as early as 1918. Since then, a large number of Unions came up in almost all the industrial centers of the country. The government of India passed the “Trade Unions Act,1926” to regulate conditions governing the registration of Trade Unions, obligations imposed on a registered Trade Unions and right and liabilities there of. The Rules Framed under the “Trade Unions Act,1926 impose obligation on the registered Trade Unions (Workers & Employers) to submit annual statutory retum in the prescribed format to the Registrar of their respective States/ Union Territories. These State/U.T. Authorities in turn furnish the consolidated data in respect of the entire State/U.T. to the Labour Bureau. The Labour Bureau compiles and disseminates these statistics at All India level.     ‘The present biennial review presents comprehensive statistics on the working of the Trade Unions Act, 1926 during 2012. It is based on the Annual Returns received from the Registrar of Trade Unions of the respective States/Union Territories.        1am thankful to the Registrar of Trade Unions of all the responding State Government/Union Territory without, whose support it would not have been possible to bring out this Report. I also place on record my appreciation for the work done by the team of officers and staff members of Labour Bureau, whose names appear in Annexure IV.  Suggestions for further improvement of this publication are welcome.  Dalject Singh Director General  Chandigarh  Dated : 4\" February, 2015 \\x0c'"
            ]
          },
          "metadata": {},
          "execution_count": 14
        }
      ]
    },
    {
      "cell_type": "code",
      "metadata": {
        "colab": {
          "base_uri": "https://localhost:8080/",
          "height": 102
        },
        "id": "7CWvMDrn0Vgu",
        "outputId": "f0a06742-08c0-4b28-c549-18f8b89b2304"
      },
      "source": [
        "g = generate_summary(a,4)[0].strip('\\n')\n",
        "with open(\"/outputs/summary.txt\", \"w\") as text_file:\n",
        "    text_file.write(\"Summary: %s\" % g)\n",
        "g"
      ],
      "execution_count": 39,
      "outputs": [
        {
          "output_type": "execute_result",
          "data": {
            "application/vnd.google.colaboratory.intrinsic+json": {
              "type": "string"
            },
            "text/plain": [
              "'The Rules Framed under the “Trade Unions Act,1926 impose obligation on the registered Trade Unions  to submit annual statutory retum in the prescribed format to the Registrar of their respective States/ Union Territories. Authorities in turn furnish the consolidated data in respect of the entire State/U.T. 1am thankful to the Registrar of Trade Unions of all the responding State Government/Union Territory without, whose support it would not have been possible to bring out this Report. It is based on the Annual Returns received from the Registrar of Trade Unions of the respective States/Union Territories.'"
            ]
          },
          "metadata": {},
          "execution_count": 39
        }
      ]
    },
    {
      "cell_type": "code",
      "metadata": {
        "colab": {
          "base_uri": "https://localhost:8080/"
        },
        "id": "-qcI34CI-wyt",
        "outputId": "f2c71c0a-aa5c-45dd-971c-fae9e33c5b68"
      },
      "source": [
        "bb = a.split('.')\n",
        "bb"
      ],
      "execution_count": 30,
      "outputs": [
        {
          "output_type": "execute_result",
          "data": {
            "text/plain": [
              "['PREFACE  Trade Unions have proliferated due to rapid economic development and development in particular',\n",
              " ' The setting of industrial units involving wide spread use of machinery, changes in working and living environment of workers, concentration of industries in large towns have brought the workers together to maintain and improve their bargaining power and hence their employment conditions',\n",
              " ' The first organized Trade Unions in India named as the Madras Labour Union was formed as early as 1918',\n",
              " ' Since then, a large number of Unions came up in almost all the industrial centers of the country',\n",
              " ' The government of India passed the “Trade Unions Act,1926” to regulate conditions governing the registration of Trade Unions, obligations imposed on a registered Trade Unions and right and liabilities there of',\n",
              " ' The Rules Framed under the “Trade Unions Act,1926 impose obligation on the registered Trade Unions (Workers & Employers) to submit annual statutory retum in the prescribed format to the Registrar of their respective States/ Union Territories',\n",
              " ' These State/U',\n",
              " 'T',\n",
              " ' Authorities in turn furnish the consolidated data in respect of the entire State/U',\n",
              " 'T',\n",
              " ' to the Labour Bureau',\n",
              " ' The Labour Bureau compiles and disseminates these statistics at All India level',\n",
              " '     ‘The present biennial review presents comprehensive statistics on the working of the Trade Unions Act, 1926 during 2012',\n",
              " ' It is based on the Annual Returns received from the Registrar of Trade Unions of the respective States/Union Territories',\n",
              " '        1am thankful to the Registrar of Trade Unions of all the responding State Government/Union Territory without, whose support it would not have been possible to bring out this Report',\n",
              " ' I also place on record my appreciation for the work done by the team of officers and staff members of Labour Bureau, whose names appear in Annexure IV',\n",
              " '  Suggestions for further improvement of this publication are welcome',\n",
              " '  Dalject Singh Director General  Chandigarh  Dated : 4\" February, 2015 \\x0c']"
            ]
          },
          "metadata": {},
          "execution_count": 30
        }
      ]
    },
    {
      "cell_type": "code",
      "metadata": {
        "colab": {
          "base_uri": "https://localhost:8080/"
        },
        "id": "k7OyDqP30XFi",
        "outputId": "225ba031-31a3-4e34-8c86-7700b64e062c"
      },
      "source": [
        "import spacy\n",
        "\n",
        "# Load the model\n",
        "nlp = spacy.load(\"en_blackstone_proto\")\n",
        "from spacy import displacy\n",
        "from blackstone.displacy_palette import ner_displacy_options\n",
        "with open(\"/outputs/terms.txt\", \"w\") as text_file:\n",
        "    text_file.write(\"Important terms: \\n\")\n",
        "for i in bb:\n",
        "    doc = nlp(i)\n",
        "# Call displacy and pass `ner_displacy_options` into the option parameter`\n",
        "    if doc.ents != ():\n",
        "       print(doc.ents[0])\n",
        "       with open(\"/outputs/terms.txt\", \"a\") as text_file:\n",
        "         text_file.write(\"%s \\n\" %doc.ents[0])\n",
        "    else:\n",
        "       pass"
      ],
      "execution_count": 40,
      "outputs": [
        {
          "output_type": "stream",
          "name": "stdout",
          "text": [
            "Rules Framed\n",
            "Trade Unions Act\n",
            "Dalject Singh Director General\n"
          ]
        }
      ]
    },
    {
      "cell_type": "code",
      "metadata": {
        "colab": {
          "base_uri": "https://localhost:8080/"
        },
        "id": "VxGUkhauTE3h",
        "outputId": "f1d8dd0d-ffe6-4200-a3b2-954a7e268ac8"
      },
      "source": [
        "nltk.download('averaged_perceptron_tagger')\n",
        "nltk.download('wordnet')"
      ],
      "execution_count": 55,
      "outputs": [
        {
          "output_type": "stream",
          "name": "stderr",
          "text": [
            "[nltk_data] Downloading package averaged_perceptron_tagger to\n",
            "[nltk_data]     /root/nltk_data...\n",
            "[nltk_data]   Package averaged_perceptron_tagger is already up-to-\n",
            "[nltk_data]       date!\n",
            "[nltk_data] Downloading package wordnet to /root/nltk_data...\n",
            "[nltk_data]   Unzipping corpora/wordnet.zip.\n"
          ]
        },
        {
          "output_type": "execute_result",
          "data": {
            "text/plain": [
              "True"
            ]
          },
          "metadata": {},
          "execution_count": 55
        }
      ]
    },
    {
      "cell_type": "code",
      "metadata": {
        "colab": {
          "base_uri": "https://localhost:8080/"
        },
        "id": "-lGxFbiE2Uuj",
        "outputId": "10542735-f649-4873-f6ca-c79cdfd27b41"
      },
      "source": [
        "from lexnlp.extract.en.acts import get_acts as aa\n",
        "from lexnlp.extract.en.amounts import get_amounts as ab\n",
        "from lexnlp.extract.en.citations import get_citations as ac\n",
        "from lexnlp.extract.en.conditions import get_conditions as ae\n",
        "from lexnlp.extract.en.constraints import get_constraints as af\n",
        "from lexnlp.extract.en.copyright import get_copyright as ag\n",
        "from lexnlp.extract.en.courts import get_courts as ah\n",
        "from lexnlp.extract.en.dates import get_dates as ai\n",
        "from lexnlp.extract.en.definitions import get_definitions as aj\n",
        "from lexnlp.extract.en.distances import get_distances as ak\n",
        "from lexnlp.extract.en.durations import get_durations as al\n",
        "from lexnlp.extract.en.geoentities import get_geoentities as am\n",
        "from lexnlp.extract.en.money import get_money as an\n",
        "from lexnlp.extract.en.percents import get_percents as ao\n",
        "from lexnlp.extract.en.ratios import get_ratios as aq\n",
        "from lexnlp.extract.en.regulations import get_regulations as ar\n",
        "from lexnlp.extract.en.trademarks import get_trademarks as au\n",
        "\n",
        "with open(\"/outputs/insg.txt\", \"w\") as text_file:\n",
        "    text_file.write(\"INSIGHTS: \\n\")\n",
        "\n",
        "for i in bb:\n",
        "    if list(aa(i)) != []:\n",
        "      print(list(aa(i)))\n",
        "      with open(\"/outputs/insg.txt\", \"a\") as text_file:\n",
        "        text_file.write(\"%s\\n\"%str(list(aa(i))))\n",
        "    \n",
        "      with open(\"/outputs/insg.txt\", \"a\") as text_file: \n",
        "        text_file.write(\"\\n\\n\")\n",
        "    elif list(ab(i)) != []:\n",
        "      print(list(ab(i)))\n",
        "      with open(\"/outputs/insg.txt\", \"a\") as text_file:\n",
        "        text_file.write(\"%s\\n\"%str(list(ab(i))))\n",
        "    \n",
        "      with open(\"/outputs/insg.txt\", \"a\") as text_file: \n",
        "        text_file.write(\"\\n\\n\")\n",
        "    elif list(ac(i)) != []:\n",
        "      print(list(ac(i)))\n",
        "      with open(\"/outputs/insg.txt\", \"a\") as text_file:\n",
        "        text_file.write(\"%s\\n\"%str(list(ac(i))))\n",
        "    \n",
        "      with open(\"/outputs/insg.txt\", \"a\") as text_file: \n",
        "        text_file.write(\"\\n\\n\")\n",
        "    elif list(ae(i)) != []:\n",
        "      print(list(ae(i)))\n",
        "      with open(\"/outputs/insg.txt\", \"a\") as text_file:\n",
        "        text_file.write(\"%s\\n\"%str(list(ae(i))))\n",
        "    \n",
        "      with open(\"/outputs/insg.txt\", \"a\") as text_file: \n",
        "        text_file.write(\"\\n\\n\")\n",
        "    elif list(af(i)) != []:\n",
        "      print(list(af(i)))\n",
        "      with open(\"/outputs/insg.txt\", \"a\") as text_file:\n",
        "        text_file.write(\"%s\\n\"%str(list(af(i))))\n",
        "    \n",
        "      with open(\"/outputs/insg.txt\", \"a\") as text_file: \n",
        "        text_file.write(\"\\n\\n\")\n",
        "    elif list(ag(i)) != []:\n",
        "      print(list(ag(i)))\n",
        "      with open(\"/outputs/insg.txt\", \"a\") as text_file:\n",
        "        text_file.write(\"%s\\n\"%str(list(ag(i))))\n",
        "    \n",
        "      with open(\"/outputs/insg.txt\", \"a\") as text_file: \n",
        "        text_file.write(\"\\n\\n\")\n",
        "   \n",
        "    elif list(ai(i)) != []:\n",
        "      print(list(ai(i)))\n",
        "      with open(\"/outputs/insg.txt\", \"a\") as text_file:\n",
        "        text_file.write(\"%s\\n\"%str(list(ai(i))))\n",
        "    \n",
        "      with open(\"/outputs/insg.txt\", \"a\") as text_file: \n",
        "        text_file.write(\"\\n\\n\")\n",
        "    elif list(aj(i)) != []:\n",
        "      print(list(aj(i)))\n",
        "      with open(\"/outputs/insg.txt\", \"a\") as text_file:\n",
        "        text_file.write(\"%s\\n\"%str(list(aj(i))))\n",
        "    \n",
        "      with open(\"/outputs/insg.txt\", \"a\") as text_file: \n",
        "        text_file.write(\"\\n\\n\")\n",
        "    elif list(ak(i)) != []:\n",
        "      print(list(ak(i)))\n",
        "      with open(\"/outputs/insg.txt\", \"a\") as text_file:\n",
        "        text_file.write(\"%s\\n\"%str(list(ak(i))))\n",
        "    \n",
        "      with open(\"/outputs/insg.txt\", \"a\") as text_file: \n",
        "        text_file.write(\"\\n\\n\")\n",
        "    elif list(al(i)) != []:\n",
        "      print(list(al(i)))\n",
        "      with open(\"/outputs/insg.txt\", \"a\") as text_file:\n",
        "        text_file.write(\"%s\\n\"%str(list(al(i))))\n",
        "    \n",
        "      with open(\"/outputs/insg.txt\", \"a\") as text_file: \n",
        "        text_file.write(\"\\n\\n\")\n",
        "    \n",
        "    elif list(an(i)) != []:\n",
        "      print(list(an(i)))\n",
        "      with open(\"/outputs/insg.txt\", \"a\") as text_file:\n",
        "        text_file.write(\"%s\\n\"%str(list(an(i))))\n",
        "    \n",
        "      with open(\"/outputs/insg.txt\", \"a\") as text_file: \n",
        "        text_file.write(\"\\n\\n\")\n",
        "    elif list(ao(i)) != []:\n",
        "      print(list(ao(i)))\n",
        "      with open(\"/outputs/insg.txt\", \"a\") as text_file:\n",
        "        text_file.write(\"%s\\n\"%str(list(ao(i))))\n",
        "    \n",
        "      with open(\"/outputs/insg.txt\", \"a\") as text_file: \n",
        "        text_file.write(\"\\n\\n\")\n",
        "    elif list(aq(i)) != []:\n",
        "      print(list(aq(i)))\n",
        "      with open(\"/outputs/insg.txt\", \"a\") as text_file:\n",
        "        text_file.write(\"%s\\n\"%str(list(aq(i))))\n",
        "    \n",
        "      with open(\"/outputs/insg.txt\", \"a\") as text_file: \n",
        "        text_file.write(\"\\n\\n\")\n",
        "    elif list(ar(i)) != []:\n",
        "      print(list(ar(i)))\n",
        "      with open(\"/outputs/insg.txt\", \"a\") as text_file:\n",
        "        text_file.write(\"%s\\n\"%str(list(ar(i))))\n",
        "    \n",
        "      with open(\"/outputs/insg.txt\", \"a\") as text_file: \n",
        "        text_file.write(\"\\n\\n\")\n",
        "    elif list(au(i)) != []:\n",
        "      print(list(au(i)))\n",
        "      with open(\"/outputs/insg.txt\", \"a\") as text_file:\n",
        "        text_file.write(\"%s\\n\"%str(list(au(i))))\n",
        "    \n",
        "      with open(\"/outputs/insg.txt\", \"a\") as text_file: \n",
        "        text_file.write(\"\\n\\n\")"
      ],
      "execution_count": 56,
      "outputs": [
        {
          "output_type": "stream",
          "name": "stdout",
          "text": [
            "[Decimal('1.0'), Decimal('1918.0')]\n",
            "[{'location_start': 37, 'location_end': 54, 'act_name': 'Trade Unions Act', 'section': '', 'year': '', 'ambiguous': False, 'value': 'Trade Unions Act,'}]\n",
            "[{'location_start': 29, 'location_end': 46, 'act_name': 'Trade Unions Act', 'section': '', 'year': '', 'ambiguous': False, 'value': 'Trade Unions Act,'}]\n",
            "[{'location_start': 90, 'location_end': 108, 'act_name': 'Trade Unions Act', 'section': '', 'year': '', 'ambiguous': False, 'value': 'Trade Unions Act, '}]\n",
            "Warning: parsing empty text\n",
            "Warning: parsing empty text\n",
            "Warning: parsing empty text\n",
            "Warning: parsing empty text\n",
            "[Decimal('4.0'), Decimal('2015.0')]\n",
            "Warning: parsing empty text\n",
            "Warning: parsing empty text\n"
          ]
        }
      ]
    },
    {
      "cell_type": "code",
      "metadata": {
        "id": "EOplVLcy6onD"
      },
      "source": [
        ""
      ],
      "execution_count": null,
      "outputs": []
    }
  ]
}