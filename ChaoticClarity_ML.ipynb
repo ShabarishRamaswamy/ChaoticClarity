{
  "cells": [
    {
      "cell_type": "code",
      "execution_count": 1,
      "metadata": {
        "colab": {
          "base_uri": "https://localhost:8080/"
        },
        "id": "YGNe_Ruix6Ps",
        "outputId": "f71331d5-1b71-4598-becd-f12ef4d0cb29"
      },
      "outputs": [
        {
          "name": "stdout",
          "output_type": "stream",
          "text": [
            "Requirement already satisfied: fitz in /home/shabarish/anaconda3/envs/dev/lib/python3.8/site-packages (0.0.1.dev2)\n",
            "Requirement already satisfied: nibabel in /home/shabarish/anaconda3/envs/dev/lib/python3.8/site-packages (from fitz) (3.2.1)\n",
            "Requirement already satisfied: httplib2 in /home/shabarish/anaconda3/envs/dev/lib/python3.8/site-packages (from fitz) (0.20.1)\n",
            "Requirement already satisfied: numpy in /home/shabarish/anaconda3/envs/dev/lib/python3.8/site-packages (from fitz) (1.19.1)\n",
            "Requirement already satisfied: scipy in /home/shabarish/anaconda3/envs/dev/lib/python3.8/site-packages (from fitz) (1.5.1)\n",
            "Requirement already satisfied: configparser in /home/shabarish/anaconda3/envs/dev/lib/python3.8/site-packages (from fitz) (5.0.2)\n",
            "Requirement already satisfied: nipype in /home/shabarish/anaconda3/envs/dev/lib/python3.8/site-packages (from fitz) (1.7.0)\n",
            "Requirement already satisfied: configobj in /home/shabarish/anaconda3/envs/dev/lib/python3.8/site-packages (from fitz) (5.0.6)\n",
            "Requirement already satisfied: pandas in /home/shabarish/anaconda3/envs/dev/lib/python3.8/site-packages (from fitz) (1.3.4)\n",
            "Requirement already satisfied: pyxnat in /home/shabarish/anaconda3/envs/dev/lib/python3.8/site-packages (from fitz) (1.4)\n",
            "Requirement already satisfied: six in /home/shabarish/anaconda3/envs/dev/lib/python3.8/site-packages (from configobj->fitz) (1.15.0)\n",
            "Requirement already satisfied: pyparsing<3,>=2.4.2 in /home/shabarish/.local/lib/python3.8/site-packages (from httplib2->fitz) (2.4.7)\n",
            "Requirement already satisfied: packaging>=14.3 in /home/shabarish/.local/lib/python3.8/site-packages (from nibabel->fitz) (21.0)\n",
            "Requirement already satisfied: pydot>=1.2.3 in /home/shabarish/anaconda3/envs/dev/lib/python3.8/site-packages (from nipype->fitz) (1.4.2)\n",
            "Requirement already satisfied: simplejson>=3.8.0 in /home/shabarish/anaconda3/envs/dev/lib/python3.8/site-packages (from nipype->fitz) (3.17.5)\n",
            "Requirement already satisfied: python-dateutil>=2.2 in /home/shabarish/anaconda3/envs/dev/lib/python3.8/site-packages (from nipype->fitz) (2.8.2)\n",
            "Requirement already satisfied: traits!=5.0,>=4.6 in /home/shabarish/anaconda3/envs/dev/lib/python3.8/site-packages (from nipype->fitz) (6.3.1)\n",
            "Requirement already satisfied: networkx>=2.0 in /home/shabarish/anaconda3/envs/dev/lib/python3.8/site-packages (from nipype->fitz) (2.6.3)\n",
            "Requirement already satisfied: rdflib>=5.0.0 in /home/shabarish/anaconda3/envs/dev/lib/python3.8/site-packages (from nipype->fitz) (6.0.2)\n",
            "Requirement already satisfied: prov>=1.5.2 in /home/shabarish/anaconda3/envs/dev/lib/python3.8/site-packages (from nipype->fitz) (2.0.0)\n",
            "Requirement already satisfied: click>=6.6.0 in /home/shabarish/anaconda3/envs/dev/lib/python3.8/site-packages (from nipype->fitz) (8.0.3)\n",
            "Requirement already satisfied: etelemetry>=0.2.0 in /home/shabarish/anaconda3/envs/dev/lib/python3.8/site-packages (from nipype->fitz) (0.2.2)\n",
            "Requirement already satisfied: filelock>=3.0.0 in /home/shabarish/anaconda3/envs/dev/lib/python3.8/site-packages (from nipype->fitz) (3.3.1)\n",
            "Requirement already satisfied: pytz>=2017.3 in /home/shabarish/anaconda3/envs/dev/lib/python3.8/site-packages (from pandas->fitz) (2021.1)\n",
            "Requirement already satisfied: lxml>=4.3 in /home/shabarish/.local/lib/python3.8/site-packages (from pyxnat->fitz) (4.6.3)\n",
            "Requirement already satisfied: requests>=2.20 in /home/shabarish/anaconda3/envs/dev/lib/python3.8/site-packages (from pyxnat->fitz) (2.24.0)\n",
            "Requirement already satisfied: future>=0.16 in /home/shabarish/anaconda3/envs/dev/lib/python3.8/site-packages (from pyxnat->fitz) (0.18.2)\n",
            "Requirement already satisfied: pathlib>=1.0 in /home/shabarish/anaconda3/envs/dev/lib/python3.8/site-packages (from pyxnat->fitz) (1.0.1)\n",
            "Requirement already satisfied: ci-info>=0.2 in /home/shabarish/anaconda3/envs/dev/lib/python3.8/site-packages (from etelemetry>=0.2.0->nipype->fitz) (0.2.0)\n",
            "Requirement already satisfied: setuptools in /home/shabarish/anaconda3/envs/dev/lib/python3.8/site-packages (from rdflib>=5.0.0->nipype->fitz) (52.0.0.post20210125)\n",
            "Requirement already satisfied: isodate in /home/shabarish/anaconda3/envs/dev/lib/python3.8/site-packages (from rdflib>=5.0.0->nipype->fitz) (0.6.0)\n",
            "Requirement already satisfied: chardet<4,>=3.0.2 in /home/shabarish/anaconda3/envs/dev/lib/python3.8/site-packages (from requests>=2.20->pyxnat->fitz) (3.0.4)\n",
            "Requirement already satisfied: urllib3!=1.25.0,!=1.25.1,<1.26,>=1.21.1 in /home/shabarish/anaconda3/envs/dev/lib/python3.8/site-packages (from requests>=2.20->pyxnat->fitz) (1.25.11)\n",
            "Requirement already satisfied: certifi>=2017.4.17 in /home/shabarish/anaconda3/envs/dev/lib/python3.8/site-packages (from requests>=2.20->pyxnat->fitz) (2021.5.30)\n",
            "Requirement already satisfied: idna<3,>=2.5 in /home/shabarish/anaconda3/envs/dev/lib/python3.8/site-packages (from requests>=2.20->pyxnat->fitz) (2.10)\n",
            "Requirement already satisfied: PyPDF2 in /home/shabarish/anaconda3/envs/dev/lib/python3.8/site-packages (1.26.0)\n",
            "Requirement already satisfied: Pillow in /home/shabarish/.local/lib/python3.8/site-packages (8.3.1)\n",
            "Requirement already satisfied: pytesseract in /home/shabarish/anaconda3/envs/dev/lib/python3.8/site-packages (0.3.8)\n",
            "Requirement already satisfied: Pillow in /home/shabarish/.local/lib/python3.8/site-packages (from pytesseract) (8.3.1)\n"
          ]
        }
      ],
      "source": [
        "!pip install fitz\n",
        "!pip install PyPDF2\n",
        "!pip install Pillow\n",
        "!pip install pytesseract"
      ]
    },
    {
      "cell_type": "code",
      "execution_count": 2,
      "metadata": {
        "colab": {
          "base_uri": "https://localhost:8080/"
        },
        "id": "uc6id-UuoSUt",
        "outputId": "7f414153-c8f6-440b-a3ef-698a2adc7702"
      },
      "outputs": [
        {
          "name": "stdout",
          "output_type": "stream",
          "text": [
            "Requirement already satisfied: pip in /home/shabarish/anaconda3/envs/dev/lib/python3.8/site-packages (21.3.1)\n",
            "Requirement already satisfied: PyMuPDF in /home/shabarish/anaconda3/envs/dev/lib/python3.8/site-packages (1.19.0)\n"
          ]
        }
      ],
      "source": [
        "!pip install --upgrade pip\n",
        "!pip install -U PyMuPDF"
      ]
    },
    {
      "cell_type": "code",
      "execution_count": 3,
      "metadata": {
        "colab": {
          "base_uri": "https://localhost:8080/",
          "height": 362
        },
        "id": "NflIm_lEyD60",
        "outputId": "fe3ba322-80ad-4d7b-cc18-2fcc2d09dd7f"
      },
      "outputs": [
        {
          "name": "stdout",
          "output_type": "stream",
          "text": [
            "0\n",
            "1\n",
            "2\n",
            "3\n",
            "Done !\n"
          ]
        },
        {
          "name": "stderr",
          "output_type": "stream",
          "text": [
            "Deprecation: 'loadPage' removed from class 'Document' after v1.19.0 - use 'load_page'.\n",
            "Deprecation: 'getPixmap' removed from class 'Page' after v1.19.0 - use 'get_pixmap'.\n",
            "Deprecation: 'writePNG' removed from class 'Pixmap' after v1.19.0 - use 'save'.\n"
          ]
        }
      ],
      "source": [
        "import fitz\n",
        "\n",
        "pdffile = \"./pdfs/1.pdf\"\n",
        "doc = fitz.open(pdffile)\n",
        "\n",
        "for i in range(1000):\n",
        "    try:\n",
        "        print(i)\n",
        "        page = doc.loadPage(i)\n",
        "        pix = page.getPixmap()\n",
        "        output = \"../outputs/outfile\" + str(i) + \".png\"\n",
        "        pix.writePNG(output)\n",
        "    except ValueError:\n",
        "        break\n",
        "print(\"Done !\")"
      ]
    },
    {
      "cell_type": "code",
      "execution_count": 4,
      "metadata": {
        "id": "RI5vXFQMyX4r"
      },
      "outputs": [
        {
          "name": "stdout",
          "output_type": "stream",
          "text": [
            "\n",
            "\n",
            "\n",
            "\n",
            "\n",
            "\n",
            "\n",
            "\n",
            "\n",
            "\n",
            "\n",
            "\n",
            "\n",
            "\n",
            "\n",
            "\n",
            "\n",
            "\n",
            "\n",
            "\n",
            "\n",
            "\n",
            "\n",
            "\n",
            "\n",
            "\n",
            "\n",
            "\n",
            "\n",
            "\n",
            "\n",
            "\n",
            "\n",
            "\n",
            "\n",
            "\n",
            "\n",
            "\n",
            "\n",
            "\n",
            "\n",
            "\n",
            "\n",
            "\n",
            "\n",
            "\n",
            "\n",
            "\n",
            "\n",
            "\n",
            "\n",
            "\n",
            "\n",
            "\n",
            "\n",
            "\n",
            "\n",
            "\n",
            "\n",
            "\n",
            "\n",
            "\n",
            "\n",
            "\n",
            "\n",
            "\n",
            "\n",
            "\n",
            "\n",
            "\n",
            "\n",
            "\n",
            "\n",
            "\n",
            "\n",
            "\n",
            "\n",
            "\n",
            "\n",
            "\n",
            "\n",
            "\n",
            "\n",
            "\n",
            "\n",
            "\n",
            "\n",
            "\n",
            "\n",
            "\n",
            "\n",
            "\n",
            "\n",
            "\n",
            "\n",
            "\n",
            "\n",
            "\n",
            "\n",
            "\n",
            "\n",
            "\n",
            "\n",
            "\n",
            "\n",
            "\n",
            "\n",
            "\n",
            "\n",
            "\n",
            "\n",
            "\n",
            "\n",
            "\n",
            "\n",
            "\n",
            "\n",
            "\n",
            "\n",
            "\n",
            "\n",
            "\n",
            "\n",
            "\n",
            "\n",
            "\n",
            "\n",
            "\n",
            "\n",
            "\n",
            "\n",
            "\n"
          ]
        }
      ],
      "source": [
        "import PyPDF2\n",
        "FILE_PATH = './pdfs/TU.pdf'\n",
        "\n",
        "with open(FILE_PATH, mode='rb') as f:\n",
        "    reader = PyPDF2.PdfFileReader(f)\n",
        "    page = reader.getPage(10)\n",
        "    print(page.extractText())"
      ]
    },
    {
      "cell_type": "code",
      "execution_count": 5,
      "metadata": {
        "colab": {
          "base_uri": "https://localhost:8080/",
          "height": 1000
        },
        "id": "HvnH6LxX18-z",
        "outputId": "2cdcf5e5-71ba-42c0-e478-3c43013b78a4"
      },
      "outputs": [
        {
          "name": "stdout",
          "output_type": "stream",
          "text": [
            "Requirement already satisfied: spacy in /home/shabarish/anaconda3/envs/py36/lib/python3.6/site-packages (2.1.8)\n",
            "Requirement already satisfied: numpy>=1.15.0 in /home/shabarish/anaconda3/envs/py36/lib/python3.6/site-packages (from spacy) (1.19.1)\n",
            "Requirement already satisfied: plac<1.0.0,>=0.9.6 in /home/shabarish/anaconda3/envs/py36/lib/python3.6/site-packages (from spacy) (0.9.6)\n",
            "Requirement already satisfied: blis<0.3.0,>=0.2.2 in /home/shabarish/anaconda3/envs/py36/lib/python3.6/site-packages (from spacy) (0.2.4)\n",
            "Requirement already satisfied: requests<3.0.0,>=2.13.0 in /home/shabarish/anaconda3/envs/py36/lib/python3.6/site-packages (from spacy) (2.24.0)\n",
            "Requirement already satisfied: wasabi<1.1.0,>=0.2.0 in /home/shabarish/anaconda3/envs/py36/lib/python3.6/site-packages (from spacy) (0.8.2)\n",
            "Requirement already satisfied: preshed<2.1.0,>=2.0.1 in /home/shabarish/anaconda3/envs/py36/lib/python3.6/site-packages (from spacy) (2.0.1)\n",
            "Requirement already satisfied: srsly<1.1.0,>=0.0.6 in /home/shabarish/anaconda3/envs/py36/lib/python3.6/site-packages (from spacy) (1.0.5)\n",
            "Requirement already satisfied: thinc<7.1.0,>=7.0.8 in /home/shabarish/anaconda3/envs/py36/lib/python3.6/site-packages (from spacy) (7.0.8)\n",
            "Requirement already satisfied: cymem<2.1.0,>=2.0.2 in /home/shabarish/anaconda3/envs/py36/lib/python3.6/site-packages (from spacy) (2.0.6)\n",
            "Requirement already satisfied: murmurhash<1.1.0,>=0.28.0 in /home/shabarish/anaconda3/envs/py36/lib/python3.6/site-packages (from spacy) (1.0.6)\n",
            "Requirement already satisfied: chardet<4,>=3.0.2 in /home/shabarish/anaconda3/envs/py36/lib/python3.6/site-packages (from requests<3.0.0,>=2.13.0->spacy) (3.0.4)\n",
            "Requirement already satisfied: idna<3,>=2.5 in /home/shabarish/anaconda3/envs/py36/lib/python3.6/site-packages (from requests<3.0.0,>=2.13.0->spacy) (2.10)\n",
            "Collecting certifi>=2017.4.17\n",
            "  Downloading certifi-2021.10.8-py2.py3-none-any.whl (149 kB)\n",
            "\u001b[K     |████████████████████████████████| 149 kB 6.9 MB/s \n",
            "\u001b[?25hRequirement already satisfied: urllib3!=1.25.0,!=1.25.1,<1.26,>=1.21.1 in /home/shabarish/anaconda3/envs/py36/lib/python3.6/site-packages (from requests<3.0.0,>=2.13.0->spacy) (1.25.11)\n",
            "Requirement already satisfied: tqdm<5.0.0,>=4.10.0 in /home/shabarish/anaconda3/envs/py36/lib/python3.6/site-packages (from thinc<7.1.0,>=7.0.8->spacy) (4.62.3)\n",
            "Installing collected packages: certifi\n",
            "  Attempting uninstall: certifi\n",
            "    Found existing installation: certifi 2016.9.26\n",
            "\u001b[31mERROR: Cannot uninstall 'certifi'. It is a distutils installed project and thus we cannot accurately determine which files belong to it which would lead to only a partial uninstall.\u001b[0m\n",
            "Requirement already satisfied: blackstone in /home/shabarish/anaconda3/envs/py36/lib/python3.6/site-packages (0.1.15)\n",
            "Requirement already satisfied: conllu in /home/shabarish/anaconda3/envs/py36/lib/python3.6/site-packages (from blackstone) (4.4.1)\n",
            "Requirement already satisfied: pandas in /home/shabarish/anaconda3/envs/py36/lib/python3.6/site-packages (from blackstone) (0.24.2)\n",
            "Requirement already satisfied: spacy==2.1.8 in /home/shabarish/anaconda3/envs/py36/lib/python3.6/site-packages (from blackstone) (2.1.8)\n",
            "Requirement already satisfied: numpy in /home/shabarish/anaconda3/envs/py36/lib/python3.6/site-packages (from blackstone) (1.19.1)\n",
            "Requirement already satisfied: requests in /home/shabarish/anaconda3/envs/py36/lib/python3.6/site-packages (from blackstone) (2.24.0)\n",
            "Requirement already satisfied: preshed<2.1.0,>=2.0.1 in /home/shabarish/anaconda3/envs/py36/lib/python3.6/site-packages (from spacy==2.1.8->blackstone) (2.0.1)\n",
            "Requirement already satisfied: plac<1.0.0,>=0.9.6 in /home/shabarish/anaconda3/envs/py36/lib/python3.6/site-packages (from spacy==2.1.8->blackstone) (0.9.6)\n",
            "Requirement already satisfied: blis<0.3.0,>=0.2.2 in /home/shabarish/anaconda3/envs/py36/lib/python3.6/site-packages (from spacy==2.1.8->blackstone) (0.2.4)\n",
            "Requirement already satisfied: srsly<1.1.0,>=0.0.6 in /home/shabarish/anaconda3/envs/py36/lib/python3.6/site-packages (from spacy==2.1.8->blackstone) (1.0.5)\n",
            "Requirement already satisfied: thinc<7.1.0,>=7.0.8 in /home/shabarish/anaconda3/envs/py36/lib/python3.6/site-packages (from spacy==2.1.8->blackstone) (7.0.8)\n",
            "Requirement already satisfied: murmurhash<1.1.0,>=0.28.0 in /home/shabarish/anaconda3/envs/py36/lib/python3.6/site-packages (from spacy==2.1.8->blackstone) (1.0.6)\n",
            "Requirement already satisfied: wasabi<1.1.0,>=0.2.0 in /home/shabarish/anaconda3/envs/py36/lib/python3.6/site-packages (from spacy==2.1.8->blackstone) (0.8.2)\n",
            "Requirement already satisfied: cymem<2.1.0,>=2.0.2 in /home/shabarish/anaconda3/envs/py36/lib/python3.6/site-packages (from spacy==2.1.8->blackstone) (2.0.6)\n",
            "Requirement already satisfied: chardet<4,>=3.0.2 in /home/shabarish/anaconda3/envs/py36/lib/python3.6/site-packages (from requests->blackstone) (3.0.4)\n",
            "Requirement already satisfied: urllib3!=1.25.0,!=1.25.1,<1.26,>=1.21.1 in /home/shabarish/anaconda3/envs/py36/lib/python3.6/site-packages (from requests->blackstone) (1.25.11)\n",
            "Collecting certifi>=2017.4.17\n",
            "  Using cached certifi-2021.10.8-py2.py3-none-any.whl (149 kB)\n",
            "Requirement already satisfied: idna<3,>=2.5 in /home/shabarish/anaconda3/envs/py36/lib/python3.6/site-packages (from requests->blackstone) (2.10)\n",
            "Requirement already satisfied: tqdm<5.0.0,>=4.10.0 in /home/shabarish/anaconda3/envs/py36/lib/python3.6/site-packages (from thinc<7.1.0,>=7.0.8->spacy==2.1.8->blackstone) (4.62.3)\n",
            "Requirement already satisfied: python-dateutil>=2.5.0 in /home/shabarish/anaconda3/envs/py36/lib/python3.6/site-packages (from pandas->blackstone) (2.8.2)\n",
            "Requirement already satisfied: pytz>=2011k in /home/shabarish/anaconda3/envs/py36/lib/python3.6/site-packages (from pandas->blackstone) (2021.3)\n",
            "Requirement already satisfied: six>=1.5 in /home/shabarish/anaconda3/envs/py36/lib/python3.6/site-packages (from python-dateutil>=2.5.0->pandas->blackstone) (1.15.0)\n",
            "Installing collected packages: certifi\n",
            "  Attempting uninstall: certifi\n",
            "    Found existing installation: certifi 2016.9.26\n",
            "\u001b[31mERROR: Cannot uninstall 'certifi'. It is a distutils installed project and thus we cannot accurately determine which files belong to it which would lead to only a partial uninstall.\u001b[0m\n",
            "Collecting https://blackstone-model.s3-eu-west-1.amazonaws.com/en_blackstone_proto-0.0.1.tar.gz\n",
            "^C\n",
            "Requirement already satisfied: lexnlp in /home/shabarish/anaconda3/envs/py36/lib/python3.6/site-packages (1.8.0)\n",
            "Requirement already satisfied: nltk==3.5 in /home/shabarish/anaconda3/envs/py36/lib/python3.6/site-packages (from lexnlp) (3.5)\n",
            "Requirement already satisfied: dateparser==0.7.2 in /home/shabarish/anaconda3/envs/py36/lib/python3.6/site-packages (from lexnlp) (0.7.2)\n",
            "Requirement already satisfied: gensim==3.8.3 in /home/shabarish/anaconda3/envs/py36/lib/python3.6/site-packages (from lexnlp) (3.8.3)\n",
            "Requirement already satisfied: numpy==1.19.1 in /home/shabarish/anaconda3/envs/py36/lib/python3.6/site-packages (from lexnlp) (1.19.1)\n",
            "Requirement already satisfied: joblib==0.14.0 in /home/shabarish/anaconda3/envs/py36/lib/python3.6/site-packages (from lexnlp) (0.14.0)\n",
            "Requirement already satisfied: regex==2020.7.14 in /home/shabarish/anaconda3/envs/py36/lib/python3.6/site-packages (from lexnlp) (2020.7.14)\n",
            "Requirement already satisfied: requests==2.24.0 in /home/shabarish/anaconda3/envs/py36/lib/python3.6/site-packages (from lexnlp) (2.24.0)\n",
            "Requirement already satisfied: pycountry==20.7.3 in /home/shabarish/anaconda3/envs/py36/lib/python3.6/site-packages (from lexnlp) (20.7.3)\n",
            "Requirement already satisfied: num2words==0.5.10 in /home/shabarish/anaconda3/envs/py36/lib/python3.6/site-packages (from lexnlp) (0.5.10)\n",
            "Requirement already satisfied: scipy==1.5.1 in /home/shabarish/anaconda3/envs/py36/lib/python3.6/site-packages (from lexnlp) (1.5.1)\n",
            "Requirement already satisfied: Unidecode==1.1.1 in /home/shabarish/anaconda3/envs/py36/lib/python3.6/site-packages (from lexnlp) (1.1.1)\n",
            "Requirement already satisfied: us==2.0.2 in /home/shabarish/anaconda3/envs/py36/lib/python3.6/site-packages (from lexnlp) (2.0.2)\n",
            "Requirement already satisfied: scikit-learn==0.23.1 in /home/shabarish/anaconda3/envs/py36/lib/python3.6/site-packages (from lexnlp) (0.23.1)\n",
            "Requirement already satisfied: reporters-db==2.0.3 in /home/shabarish/anaconda3/envs/py36/lib/python3.6/site-packages (from lexnlp) (2.0.3)\n",
            "Requirement already satisfied: pandas==0.24.2 in /home/shabarish/anaconda3/envs/py36/lib/python3.6/site-packages (from lexnlp) (0.24.2)\n",
            "Requirement already satisfied: datefinder-lexpredict==0.6.2.1 in /home/shabarish/anaconda3/envs/py36/lib/python3.6/site-packages (from lexnlp) (0.6.2.1)\n",
            "Requirement already satisfied: python-dateutil>=2.4.2 in /home/shabarish/anaconda3/envs/py36/lib/python3.6/site-packages (from datefinder-lexpredict==0.6.2.1->lexnlp) (2.8.2)\n",
            "Requirement already satisfied: pytz in /home/shabarish/anaconda3/envs/py36/lib/python3.6/site-packages (from datefinder-lexpredict==0.6.2.1->lexnlp) (2021.3)\n",
            "Requirement already satisfied: tzlocal in /home/shabarish/anaconda3/envs/py36/lib/python3.6/site-packages (from dateparser==0.7.2->lexnlp) (4.0.1)\n",
            "Requirement already satisfied: smart-open>=1.8.1 in /home/shabarish/anaconda3/envs/py36/lib/python3.6/site-packages (from gensim==3.8.3->lexnlp) (5.2.1)\n",
            "Requirement already satisfied: six>=1.5.0 in /home/shabarish/anaconda3/envs/py36/lib/python3.6/site-packages (from gensim==3.8.3->lexnlp) (1.15.0)\n",
            "Requirement already satisfied: click in /home/shabarish/anaconda3/envs/py36/lib/python3.6/site-packages (from nltk==3.5->lexnlp) (8.0.3)\n",
            "Requirement already satisfied: tqdm in /home/shabarish/anaconda3/envs/py36/lib/python3.6/site-packages (from nltk==3.5->lexnlp) (4.62.3)\n",
            "Requirement already satisfied: docopt>=0.6.2 in /home/shabarish/anaconda3/envs/py36/lib/python3.6/site-packages (from num2words==0.5.10->lexnlp) (0.6.2)\n",
            "Requirement already satisfied: idna<3,>=2.5 in /home/shabarish/anaconda3/envs/py36/lib/python3.6/site-packages (from requests==2.24.0->lexnlp) (2.10)\n",
            "Requirement already satisfied: urllib3!=1.25.0,!=1.25.1,<1.26,>=1.21.1 in /home/shabarish/anaconda3/envs/py36/lib/python3.6/site-packages (from requests==2.24.0->lexnlp) (1.25.11)\n",
            "Requirement already satisfied: chardet<4,>=3.0.2 in /home/shabarish/anaconda3/envs/py36/lib/python3.6/site-packages (from requests==2.24.0->lexnlp) (3.0.4)\n",
            "Collecting certifi>=2017.4.17\n",
            "  Using cached certifi-2021.10.8-py2.py3-none-any.whl (149 kB)\n",
            "Requirement already satisfied: threadpoolctl>=2.0.0 in /home/shabarish/anaconda3/envs/py36/lib/python3.6/site-packages (from scikit-learn==0.23.1->lexnlp) (3.0.0)\n",
            "Requirement already satisfied: jellyfish==0.6.1 in /home/shabarish/anaconda3/envs/py36/lib/python3.6/site-packages (from us==2.0.2->lexnlp) (0.6.1)\n",
            "Requirement already satisfied: importlib-metadata in /home/shabarish/anaconda3/envs/py36/lib/python3.6/site-packages (from click->nltk==3.5->lexnlp) (4.8.1)\n",
            "Requirement already satisfied: typing-extensions>=3.6.4 in /home/shabarish/anaconda3/envs/py36/lib/python3.6/site-packages (from importlib-metadata->click->nltk==3.5->lexnlp) (3.10.0.2)\n",
            "Requirement already satisfied: zipp>=0.5 in /home/shabarish/anaconda3/envs/py36/lib/python3.6/site-packages (from importlib-metadata->click->nltk==3.5->lexnlp) (3.6.0)\n",
            "Requirement already satisfied: backports.zoneinfo in /home/shabarish/anaconda3/envs/py36/lib/python3.6/site-packages (from tzlocal->dateparser==0.7.2->lexnlp) (0.2.1)\n",
            "Requirement already satisfied: pytz-deprecation-shim in /home/shabarish/anaconda3/envs/py36/lib/python3.6/site-packages (from tzlocal->dateparser==0.7.2->lexnlp) (0.1.0.post0)\n",
            "Requirement already satisfied: importlib-resources in /home/shabarish/anaconda3/envs/py36/lib/python3.6/site-packages (from backports.zoneinfo->tzlocal->dateparser==0.7.2->lexnlp) (5.3.0)\n",
            "Requirement already satisfied: tzdata in /home/shabarish/anaconda3/envs/py36/lib/python3.6/site-packages (from pytz-deprecation-shim->tzlocal->dateparser==0.7.2->lexnlp) (2021.4)\n",
            "Installing collected packages: certifi\n",
            "  Attempting uninstall: certifi\n",
            "    Found existing installation: certifi 2016.9.26\n",
            "\u001b[31mERROR: Cannot uninstall 'certifi'. It is a distutils installed project and thus we cannot accurately determine which files belong to it which would lead to only a partial uninstall.\u001b[0m\n"
          ]
        }
      ],
      "source": [
        "!pip install spacy\n",
        "!pip install blackstone\n",
        "!pip install https://blackstone-model.s3-eu-west-1.amazonaws.com/en_blackstone_proto-0.0.1.tar.gz\n",
        "!pip install lexnlp"
      ]
    },
    {
      "cell_type": "code",
      "execution_count": 8,
      "metadata": {
        "colab": {
          "base_uri": "https://localhost:8080/",
          "height": 856
        },
        "id": "B7Ybq_Jw4DpZ",
        "outputId": "028aa7b3-036a-4c90-c51a-48ab8b7ff133"
      },
      "outputs": [
        {
          "name": "stdout",
          "output_type": "stream",
          "text": [
            "Requirement already satisfied: pandas in /home/shabarish/anaconda3/envs/dev/lib/python3.8/site-packages (1.3.4)\n",
            "Requirement already satisfied: pytz>=2017.3 in /home/shabarish/anaconda3/envs/dev/lib/python3.8/site-packages (from pandas) (2021.1)\n",
            "Requirement already satisfied: python-dateutil>=2.7.3 in /home/shabarish/anaconda3/envs/dev/lib/python3.8/site-packages (from pandas) (2.8.2)\n",
            "Requirement already satisfied: numpy>=1.17.3 in /home/shabarish/anaconda3/envs/dev/lib/python3.8/site-packages (from pandas) (1.19.1)\n",
            "Requirement already satisfied: six>=1.5 in /home/shabarish/anaconda3/envs/dev/lib/python3.8/site-packages (from python-dateutil>=2.7.3->pandas) (1.15.0)\n",
            "Requirement already satisfied: numpy in /home/shabarish/anaconda3/envs/dev/lib/python3.8/site-packages (1.19.1)\n",
            "Collecting numpy\n",
            "  Using cached numpy-1.21.3-cp38-cp38-manylinux_2_12_x86_64.manylinux2010_x86_64.whl (15.7 MB)\n",
            "Installing collected packages: numpy\n",
            "  Attempting uninstall: numpy\n",
            "    Found existing installation: numpy 1.19.1\n",
            "    Uninstalling numpy-1.19.1:\n",
            "      Successfully uninstalled numpy-1.19.1\n",
            "\u001b[31mERROR: pip's dependency resolver does not currently take into account all the packages that are installed. This behaviour is the source of the following dependency conflicts.\n",
            "tensorflow 2.5.0 requires numpy~=1.19.2, but you have numpy 1.21.3 which is incompatible.\u001b[0m\n",
            "Successfully installed numpy-1.21.3\n"
          ]
        }
      ],
      "source": [
        "!pip install --upgrade pandas\n",
        "!pip install --upgrade numpy"
      ]
    },
    {
      "cell_type": "code",
      "execution_count": 9,
      "metadata": {
        "colab": {
          "base_uri": "https://localhost:8080/"
        },
        "id": "pnc6Q0myzvo-",
        "outputId": "0eb22bf6-3be6-4172-c378-60ac9612d06a"
      },
      "outputs": [
        {
          "name": "stdout",
          "output_type": "stream",
          "text": [
            "\u001b[1;31mE: \u001b[0mCould not open lock file /var/lib/dpkg/lock-frontend - open (13: Permission denied)\u001b[0m\n",
            "\u001b[1;31mE: \u001b[0mUnable to acquire the dpkg frontend lock (/var/lib/dpkg/lock-frontend), are you root?\u001b[0m\n",
            "\u001b[1;31mE: \u001b[0mCould not open lock file /var/lib/dpkg/lock-frontend - open (13: Permission denied)\u001b[0m\n",
            "\u001b[1;31mE: \u001b[0mUnable to acquire the dpkg frontend lock (/var/lib/dpkg/lock-frontend), are you root?\u001b[0m\n",
            "Requirement already satisfied: pytesseract in /home/shabarish/anaconda3/envs/dev/lib/python3.8/site-packages (0.3.8)\n",
            "Requirement already satisfied: Pillow in /home/shabarish/.local/lib/python3.8/site-packages (from pytesseract) (8.3.1)\n"
          ]
        }
      ],
      "source": [
        "! apt install tesseract-ocr\n",
        "! apt install libtesseract-dev\n",
        "!pip install pytesseract"
      ]
    },
    {
      "cell_type": "code",
      "execution_count": 6,
      "metadata": {
        "colab": {
          "base_uri": "https://localhost:8080/"
        },
        "id": "pEefsqjBzNPR",
        "outputId": "6468fa59-da6e-498a-d2a7-c62fd133387e"
      },
      "outputs": [
        {
          "name": "stdout",
          "output_type": "stream",
          "text": [
            "PREFACE\n",
            "\n",
            "Trade Unions have proliferated due to rapid economic development and\n",
            "development in particular. The setting of industrial units involving wide spread use\n",
            "of machinery, changes in working and living environment of workers,\n",
            "concentration of industries in large towns have brought the workers together to\n",
            "maintain and improve their bargaining power and hence their employment\n",
            "conditions. The first organized Trade Unions in India named as the Madras\n",
            "Labour Union was formed as early as 1918. Since then, a large number of Unions\n",
            "came up in almost all the industrial centers of the country. The government of\n",
            "India passed the “Trade Unions Act,1926” to regulate conditions governing the\n",
            "registration of Trade Unions, obligations imposed on a registered Trade Unions\n",
            "and right and liabilities there of. The Rules Framed under the “Trade Unions\n",
            "Act,1926 impose obligation on the registered Trade Unions (Workers &\n",
            "Employers) to submit annual statutory retum in the prescribed format to the\n",
            "Registrar of their respective States/ Union Territories. These State/U.T. Authorities\n",
            "in turn furnish the consolidated data in respect of the entire State/U.T. to the\n",
            "Labour Bureau. The Labour Bureau compiles and disseminates these statistics at\n",
            "All India level.\n",
            "\n",
            " \n",
            "\n",
            "‘The present biennial review presents comprehensive statistics on the\n",
            "working of the Trade Unions Act, 1926 during 2012. It is based on the Annual\n",
            "Returns received from the Registrar of Trade Unions of the respective States/Union\n",
            "Territories.\n",
            "\n",
            " \n",
            "\n",
            " \n",
            "\n",
            "1am thankful to the Registrar of Trade Unions of all the responding State\n",
            "Government/Union Territory without, whose support it would not have been\n",
            "possible to bring out this Report. I also place on record my appreciation for the\n",
            "work done by the team of officers and staff members of Labour Bureau, whose\n",
            "names appear in Annexure IV.\n",
            "\n",
            "Suggestions for further improvement of this publication are welcome.\n",
            "\n",
            "Dalject Singh\n",
            "Director General\n",
            "\n",
            "Chandigarh\n",
            "\n",
            "Dated : 4\" February, 2015\n",
            "\f\n"
          ]
        }
      ],
      "source": [
        "import pytesseract\n",
        "from PIL import Image\n",
        "a = pytesseract.image_to_string(Image.open(\"../outputs/scr1.png\"), lang=\"eng\")\n",
        "print(a)"
      ]
    },
    {
      "cell_type": "code",
      "execution_count": 7,
      "metadata": {
        "colab": {
          "base_uri": "https://localhost:8080/"
        },
        "id": "7daZI8MGzW0l",
        "outputId": "7f38fd18-1400-407d-c04f-1b0157395eff"
      },
      "outputs": [
        {
          "name": "stderr",
          "output_type": "stream",
          "text": [
            "[nltk_data] Downloading package stopwords to\n",
            "[nltk_data]     /home/shabarish/nltk_data...\n",
            "[nltk_data]   Package stopwords is already up-to-date!\n",
            "[nltk_data] Downloading package punkt to /home/shabarish/nltk_data...\n",
            "[nltk_data]   Package punkt is already up-to-date!\n"
          ]
        },
        {
          "data": {
            "text/plain": [
              "True"
            ]
          },
          "execution_count": 7,
          "metadata": {},
          "output_type": "execute_result"
        }
      ],
      "source": [
        "import re\n",
        "import nltk\n",
        "import numpy as np\n",
        "import pandas as pd\n",
        "from nltk.corpus import stopwords\n",
        "from nltk.cluster.util import cosine_distance\n",
        "from nltk.tokenize import sent_tokenize\n",
        "import networkx as nx\n",
        "nltk.download('stopwords')    \n",
        "nltk.download('punkt')"
      ]
    },
    {
      "cell_type": "code",
      "execution_count": 8,
      "metadata": {
        "id": "_pQZTh1S0O-S"
      },
      "outputs": [],
      "source": [
        "def cleaner(text):        \n",
        "  sentences =[]        \n",
        "  sentences = sent_tokenize(text)    \n",
        "  for s in range(len(sentences)):\n",
        "    ss = sentences[s]\n",
        "    ss = re.sub(r'/.+?/', '', ss)\n",
        "    ss = re.sub(\"[\\(\\[].*?[\\)\\]]\", \"\", ss)\n",
        "    sentences[s] = ss                      \n",
        "  #print(\"\\n\".join(map(str,sentences)))\n",
        "  #print(\"\\n\\n\\n\")\n",
        "  return sentences\n",
        "\n",
        "\n",
        "def sim_matrix(sentences,stop_words):\n",
        "  similarity_matrix = np.zeros((len(sentences),len(sentences)))\n",
        "  for idx1 in range(len(sentences)):\n",
        "    for idx2 in range(len(sentences)):\n",
        "      if idx1!=idx2:\n",
        "        similarity_matrix[idx1][idx2] = cosfunction(sentences[idx1],sentences[idx2],stop_words)\n",
        "  return similarity_matrix\n",
        "\n",
        "\n",
        "def cosfunction(s1,s2,stopwords=None):    \n",
        "  if stopwords is None:        \n",
        "    stopwords = []        \n",
        "  s1 = [w.lower() for w in s1]    \n",
        "  s2 = [w.lower() for w in s2]\n",
        "        \n",
        "  all_words = list(set(s1 + s2))   \n",
        "     \n",
        "  vector1 = [0] * len(all_words)    \n",
        "  vector2 = [0] * len(all_words)        \n",
        "  for w in s1:        \n",
        "    if not w in stopwords:\n",
        "      vector1[all_words.index(w)]+=1                                                             \n",
        "  for w in s2:        \n",
        "    if not w in stopwords:            \n",
        "      vector2[all_words.index(w)]+=1 \n",
        "               \n",
        "  return 1-cosine_distance(vector1,vector2)\n",
        "\n",
        "def generate_summary(text,top_n):\n",
        "  stop_words = stopwords.words('english')    \n",
        "  summary = []\n",
        "  sentences = cleaner(text)\n",
        "  cos_matrix = sim_matrix(sentences,stop_words)\n",
        "  cos_graph = nx.from_numpy_array(cos_matrix)\n",
        "  scores = nx.pagerank(cos_graph)\n",
        "  ranks = sorted(((scores[i],s) for i,s in enumerate(sentences)),reverse=True)\n",
        "  \n",
        "  for i in range(top_n):\n",
        "    summary.append(ranks[i][1])\n",
        "  return \" \".join(summary),len(sentences)"
      ]
    },
    {
      "cell_type": "code",
      "execution_count": 9,
      "metadata": {
        "colab": {
          "base_uri": "https://localhost:8080/",
          "height": 135
        },
        "id": "t79VCW0u0znN",
        "outputId": "7fd060a2-98fc-4d6f-f02f-b1d49c723d41"
      },
      "outputs": [
        {
          "data": {
            "text/plain": [
              "'PREFACE  Trade Unions have proliferated due to rapid economic development and development in particular. The setting of industrial units involving wide spread use of machinery, changes in working and living environment of workers, concentration of industries in large towns have brought the workers together to maintain and improve their bargaining power and hence their employment conditions. The first organized Trade Unions in India named as the Madras Labour Union was formed as early as 1918. Since then, a large number of Unions came up in almost all the industrial centers of the country. The government of India passed the “Trade Unions Act,1926” to regulate conditions governing the registration of Trade Unions, obligations imposed on a registered Trade Unions and right and liabilities there of. The Rules Framed under the “Trade Unions Act,1926 impose obligation on the registered Trade Unions (Workers & Employers) to submit annual statutory retum in the prescribed format to the Registrar of their respective States/ Union Territories. These State/U.T. Authorities in turn furnish the consolidated data in respect of the entire State/U.T. to the Labour Bureau. The Labour Bureau compiles and disseminates these statistics at All India level.     ‘The present biennial review presents comprehensive statistics on the working of the Trade Unions Act, 1926 during 2012. It is based on the Annual Returns received from the Registrar of Trade Unions of the respective States/Union Territories.        1am thankful to the Registrar of Trade Unions of all the responding State Government/Union Territory without, whose support it would not have been possible to bring out this Report. I also place on record my appreciation for the work done by the team of officers and staff members of Labour Bureau, whose names appear in Annexure IV.  Suggestions for further improvement of this publication are welcome.  Dalject Singh Director General  Chandigarh  Dated : 4\" February, 2015 \\x0c'"
            ]
          },
          "execution_count": 9,
          "metadata": {},
          "output_type": "execute_result"
        }
      ],
      "source": [
        "a = a.replace('\\n', \" \")\n",
        "a"
      ]
    },
    {
      "cell_type": "code",
      "execution_count": 10,
      "metadata": {
        "colab": {
          "base_uri": "https://localhost:8080/",
          "height": 102
        },
        "id": "7CWvMDrn0Vgu",
        "outputId": "669fa874-5732-48ae-e6d6-3d828c8c1490"
      },
      "outputs": [
        {
          "data": {
            "text/plain": [
              "'The Rules Framed under the “Trade Unions Act,1926 impose obligation on the registered Trade Unions  to submit annual statutory retum in the prescribed format to the Registrar of their respective States/ Union Territories. Authorities in turn furnish the consolidated data in respect of the entire State/U.T. 1am thankful to the Registrar of Trade Unions of all the responding State Government/Union Territory without, whose support it would not have been possible to bring out this Report. It is based on the Annual Returns received from the Registrar of Trade Unions of the respective States/Union Territories.'"
            ]
          },
          "execution_count": 10,
          "metadata": {},
          "output_type": "execute_result"
        }
      ],
      "source": [
        "g = generate_summary(a,4)[0].strip('\\n')\n",
        "with open(\"../outputs/summary.txt\", \"w\") as text_file:\n",
        "    text_file.write(\"Summary: %s\" % g)\n",
        "g"
      ]
    },
    {
      "cell_type": "code",
      "execution_count": 11,
      "metadata": {
        "colab": {
          "base_uri": "https://localhost:8080/"
        },
        "id": "-qcI34CI-wyt",
        "outputId": "24324c93-ac05-40da-e81a-a804d9c531d6"
      },
      "outputs": [
        {
          "data": {
            "text/plain": [
              "['PREFACE  Trade Unions have proliferated due to rapid economic development and development in particular',\n",
              " ' The setting of industrial units involving wide spread use of machinery, changes in working and living environment of workers, concentration of industries in large towns have brought the workers together to maintain and improve their bargaining power and hence their employment conditions',\n",
              " ' The first organized Trade Unions in India named as the Madras Labour Union was formed as early as 1918',\n",
              " ' Since then, a large number of Unions came up in almost all the industrial centers of the country',\n",
              " ' The government of India passed the “Trade Unions Act,1926” to regulate conditions governing the registration of Trade Unions, obligations imposed on a registered Trade Unions and right and liabilities there of',\n",
              " ' The Rules Framed under the “Trade Unions Act,1926 impose obligation on the registered Trade Unions (Workers & Employers) to submit annual statutory retum in the prescribed format to the Registrar of their respective States/ Union Territories',\n",
              " ' These State/U',\n",
              " 'T',\n",
              " ' Authorities in turn furnish the consolidated data in respect of the entire State/U',\n",
              " 'T',\n",
              " ' to the Labour Bureau',\n",
              " ' The Labour Bureau compiles and disseminates these statistics at All India level',\n",
              " '     ‘The present biennial review presents comprehensive statistics on the working of the Trade Unions Act, 1926 during 2012',\n",
              " ' It is based on the Annual Returns received from the Registrar of Trade Unions of the respective States/Union Territories',\n",
              " '        1am thankful to the Registrar of Trade Unions of all the responding State Government/Union Territory without, whose support it would not have been possible to bring out this Report',\n",
              " ' I also place on record my appreciation for the work done by the team of officers and staff members of Labour Bureau, whose names appear in Annexure IV',\n",
              " '  Suggestions for further improvement of this publication are welcome',\n",
              " '  Dalject Singh Director General  Chandigarh  Dated : 4\" February, 2015 \\x0c']"
            ]
          },
          "execution_count": 11,
          "metadata": {},
          "output_type": "execute_result"
        }
      ],
      "source": [
        "bb = a.split('.')\n",
        "bb"
      ]
    },
    {
      "cell_type": "code",
      "execution_count": 12,
      "metadata": {
        "colab": {
          "base_uri": "https://localhost:8080/"
        },
        "id": "k7OyDqP30XFi",
        "outputId": "37925e5b-2f61-4c8d-c03c-fd2b83a7cd2f"
      },
      "outputs": [
        {
          "name": "stdout",
          "output_type": "stream",
          "text": [
            "Rules Framed\n",
            "Trade Unions Act\n",
            "Dalject Singh Director General\n"
          ]
        }
      ],
      "source": [
        "import spacy\n",
        "\n",
        "# Load the model\n",
        "nlp = spacy.load(\"en_blackstone_proto\")\n",
        "from spacy import displacy\n",
        "from blackstone.displacy_palette import ner_displacy_options\n",
        "with open(\"../outputs/terms.txt\", \"w\") as text_file:\n",
        "    text_file.write(\"Important terms: \\n\")\n",
        "for i in bb:\n",
        "    doc = nlp(i)\n",
        "# Call displacy and pass `ner_displacy_options` into the option parameter`\n",
        "    if doc.ents != ():\n",
        "       print(doc.ents[0])\n",
        "       with open(\"../outputs/terms.txt\", \"a\") as text_file:\n",
        "         text_file.write(\"%s \\n\" %doc.ents[0])\n",
        "    else:\n",
        "       pass"
      ]
    },
    {
      "cell_type": "code",
      "execution_count": 13,
      "metadata": {
        "colab": {
          "base_uri": "https://localhost:8080/"
        },
        "id": "VxGUkhauTE3h",
        "outputId": "4210f8c4-10e5-4490-b98b-f1b78fe1f51e"
      },
      "outputs": [
        {
          "name": "stderr",
          "output_type": "stream",
          "text": [
            "[nltk_data] Downloading package averaged_perceptron_tagger to\n",
            "[nltk_data]     /home/shabarish/nltk_data...\n",
            "[nltk_data]   Package averaged_perceptron_tagger is already up-to-\n",
            "[nltk_data]       date!\n",
            "[nltk_data] Downloading package wordnet to\n",
            "[nltk_data]     /home/shabarish/nltk_data...\n",
            "[nltk_data]   Package wordnet is already up-to-date!\n"
          ]
        },
        {
          "data": {
            "text/plain": [
              "True"
            ]
          },
          "execution_count": 13,
          "metadata": {},
          "output_type": "execute_result"
        }
      ],
      "source": [
        "nltk.download('averaged_perceptron_tagger')\n",
        "nltk.download('wordnet')"
      ]
    },
    {
      "cell_type": "code",
      "execution_count": 16,
      "metadata": {
        "colab": {
          "base_uri": "https://localhost:8080/"
        },
        "id": "-lGxFbiE2Uuj",
        "outputId": "0f6b309e-7be5-4945-db27-70db24ba4059"
      },
      "outputs": [
        {
          "name": "stdout",
          "output_type": "stream",
          "text": [
            "[Decimal('1.0'), Decimal('1918.0')]\n",
            "[{'location_start': 37, 'location_end': 54, 'act_name': 'Trade Unions Act', 'section': '', 'year': '', 'ambiguous': False, 'value': 'Trade Unions Act,'}]\n",
            "[{'location_start': 29, 'location_end': 46, 'act_name': 'Trade Unions Act', 'section': '', 'year': '', 'ambiguous': False, 'value': 'Trade Unions Act,'}]\n",
            "[{'location_start': 90, 'location_end': 108, 'act_name': 'Trade Unions Act', 'section': '', 'year': '', 'ambiguous': False, 'value': 'Trade Unions Act, '}]\n",
            "Warning: parsing empty text\n",
            "Warning: parsing empty text\n",
            "Warning: parsing empty text\n",
            "Warning: parsing empty text\n",
            "[Decimal('4.0'), Decimal('2015.0')]\n",
            "Warning: parsing empty text\n",
            "Warning: parsing empty text\n"
          ]
        }
      ],
      "source": [
        "from lexnlp.extract.en.acts import get_acts as aa\n",
        "from lexnlp.extract.en.amounts import get_amounts as ab\n",
        "from lexnlp.extract.en.citations import get_citations as ac\n",
        "from lexnlp.extract.en.conditions import get_conditions as ae\n",
        "from lexnlp.extract.en.constraints import get_constraints as af\n",
        "from lexnlp.extract.en.copyright import get_copyright as ag\n",
        "from lexnlp.extract.en.courts import get_courts as ah\n",
        "from lexnlp.extract.en.dates import get_dates as ai\n",
        "from lexnlp.extract.en.definitions import get_definitions as aj\n",
        "from lexnlp.extract.en.distances import get_distances as ak\n",
        "from lexnlp.extract.en.durations import get_durations as al\n",
        "from lexnlp.extract.en.geoentities import get_geoentities as am\n",
        "from lexnlp.extract.en.money import get_money as an\n",
        "from lexnlp.extract.en.percents import get_percents as ao\n",
        "from lexnlp.extract.en.ratios import get_ratios as aq\n",
        "from lexnlp.extract.en.regulations import get_regulations as ar\n",
        "from lexnlp.extract.en.trademarks import get_trademarks as au\n",
        "\n",
        "with open(\"./outputs/insg.txt\", \"w\") as text_file:\n",
        "    text_file.write(\"INSIGHTS: \\n\")\n",
        "\n",
        "for i in bb:\n",
        "    if list(aa(i)) != []:\n",
        "      print(list(aa(i)))\n",
        "      with open(\"./outputs/insg.txt\", \"a\") as text_file:\n",
        "        text_file.write(\"%s\\n\"%str(list(aa(i))))\n",
        "    \n",
        "      with open(\"./outputs/insg.txt\", \"a\") as text_file: \n",
        "        text_file.write(\"\\n\\n\")\n",
        "    elif list(ab(i)) != []:\n",
        "      print(list(ab(i)))\n",
        "      with open(\"./outputs/insg.txt\", \"a\") as text_file:\n",
        "        text_file.write(\"%s\\n\"%str(list(ab(i))))\n",
        "    \n",
        "      with open(\"./outputs/insg.txt\", \"a\") as text_file: \n",
        "        text_file.write(\"\\n\\n\")\n",
        "    elif list(ac(i)) != []:\n",
        "      print(list(ac(i)))\n",
        "      with open(\"./outputs/insg.txt\", \"a\") as text_file:\n",
        "        text_file.write(\"%s\\n\"%str(list(ac(i))))\n",
        "    \n",
        "      with open(\"./outputs/insg.txt\", \"a\") as text_file: \n",
        "        text_file.write(\"\\n\\n\")\n",
        "    elif list(ae(i)) != []:\n",
        "      print(list(ae(i)))\n",
        "      with open(\"./outputs/insg.txt\", \"a\") as text_file:\n",
        "        text_file.write(\"%s\\n\"%str(list(ae(i))))\n",
        "    \n",
        "      with open(\"./outputs/insg.txt\", \"a\") as text_file: \n",
        "        text_file.write(\"\\n\\n\")\n",
        "    elif list(af(i)) != []:\n",
        "      print(list(af(i)))\n",
        "      with open(\"./outputs/insg.txt\", \"a\") as text_file:\n",
        "        text_file.write(\"%s\\n\"%str(list(af(i))))\n",
        "    \n",
        "      with open(\"./outputs/insg.txt\", \"a\") as text_file: \n",
        "        text_file.write(\"\\n\\n\")\n",
        "    elif list(ag(i)) != []:\n",
        "      print(list(ag(i)))\n",
        "      with open(\"./outputs/insg.txt\", \"a\") as text_file:\n",
        "        text_file.write(\"%s\\n\"%str(list(ag(i))))\n",
        "    \n",
        "      with open(\"./outputs/insg.txt\", \"a\") as text_file: \n",
        "        text_file.write(\"\\n\\n\")\n",
        "   \n",
        "    elif list(ai(i)) != []:\n",
        "      print(list(ai(i)))\n",
        "      with open(\"./outputs/insg.txt\", \"a\") as text_file:\n",
        "        text_file.write(\"%s\\n\"%str(list(ai(i))))\n",
        "    \n",
        "      with open(\"./outputs/insg.txt\", \"a\") as text_file: \n",
        "        text_file.write(\"\\n\\n\")\n",
        "    elif list(aj(i)) != []:\n",
        "      print(list(aj(i)))\n",
        "      with open(\"./outputs/insg.txt\", \"a\") as text_file:\n",
        "        text_file.write(\"%s\\n\"%str(list(aj(i))))\n",
        "    \n",
        "      with open(\"./outputs/insg.txt\", \"a\") as text_file: \n",
        "        text_file.write(\"\\n\\n\")\n",
        "    elif list(ak(i)) != []:\n",
        "      print(list(ak(i)))\n",
        "      with open(\"./outputs/insg.txt\", \"a\") as text_file:\n",
        "        text_file.write(\"%s\\n\"%str(list(ak(i))))\n",
        "    \n",
        "      with open(\"./outputs/insg.txt\", \"a\") as text_file: \n",
        "        text_file.write(\"\\n\\n\")\n",
        "    elif list(al(i)) != []:\n",
        "      print(list(al(i)))\n",
        "      with open(\"./outputs/insg.txt\", \"a\") as text_file:\n",
        "        text_file.write(\"%s\\n\"%str(list(al(i))))\n",
        "    \n",
        "      with open(\"./outputs/insg.txt\", \"a\") as text_file: \n",
        "        text_file.write(\"\\n\\n\")\n",
        "    \n",
        "    elif list(an(i)) != []:\n",
        "      print(list(an(i)))\n",
        "      with open(\"./outputs/insg.txt\", \"a\") as text_file:\n",
        "        text_file.write(\"%s\\n\"%str(list(an(i))))\n",
        "    \n",
        "      with open(\"./outputs/insg.txt\", \"a\") as text_file: \n",
        "        text_file.write(\"\\n\\n\")\n",
        "    elif list(ao(i)) != []:\n",
        "      print(list(ao(i)))\n",
        "      with open(\"./outputs/insg.txt\", \"a\") as text_file:\n",
        "        text_file.write(\"%s\\n\"%str(list(ao(i))))\n",
        "    \n",
        "      with open(\"./outputs/insg.txt\", \"a\") as text_file: \n",
        "        text_file.write(\"\\n\\n\")\n",
        "    elif list(aq(i)) != []:\n",
        "      print(list(aq(i)))\n",
        "      with open(\"./outputs/insg.txt\", \"a\") as text_file:\n",
        "        text_file.write(\"%s\\n\"%str(list(aq(i))))\n",
        "    \n",
        "      with open(\"./outputs/insg.txt\", \"a\") as text_file: \n",
        "        text_file.write(\"\\n\\n\")\n",
        "    elif list(ar(i)) != []:\n",
        "      print(list(ar(i)))\n",
        "      with open(\"./outputs/insg.txt\", \"a\") as text_file:\n",
        "        text_file.write(\"%s\\n\"%str(list(ar(i))))\n",
        "    \n",
        "      with open(\"./outputs/insg.txt\", \"a\") as text_file: \n",
        "        text_file.write(\"\\n\\n\")\n",
        "    elif list(au(i)) != []:\n",
        "      print(list(au(i)))\n",
        "      with open(\"./outputs/insg.txt\", \"a\") as text_file:\n",
        "        text_file.write(\"%s\\n\"%str(list(au(i))))\n",
        "    \n",
        "      with open(\"./outputs/insg.txt\", \"a\") as text_file: \n",
        "        text_file.write(\"\\n\\n\")"
      ]
    },
    {
      "cell_type": "code",
      "execution_count": 17,
      "metadata": {
        "colab": {
          "base_uri": "https://localhost:8080/",
          "height": 135
        },
        "id": "EOplVLcy6onD",
        "outputId": "988f3329-5114-41ba-c0bc-a562b2072aad"
      },
      "outputs": [
        {
          "data": {
            "text/plain": [
              "'PREFACE  Trade Unions have proliferated due to rapid economic development and development in particular The setting of industrial units involving wide spread use of machinery changes in working and living environment of workers concentration of industries in large towns have brought the workers together to maintain and improve their bargaining power and hence their employment conditions The first organized Trade Unions in India named as the Madras Labour Union was formed as early as 1918 Since then a large number of Unions came up in almost all the industrial centers of the country The government of India passed the Trade Unions Act1926 to regulate conditions governing the registration of Trade Unions obligations imposed on a registered Trade Unions and right and liabilities there of The Rules Framed under the Trade Unions Act1926 impose obligation on the registered Trade Unions Workers  Employers to submit annual statutory retum in the prescribed format to the Registrar of their respective States Union Territories These StateUT Authorities in turn furnish the consolidated data in respect of the entire StateUT to the Labour Bureau The Labour Bureau compiles and disseminates these statistics at All India level     The present biennial review presents comprehensive statistics on the working of the Trade Unions Act 1926 during 2012 It is based on the Annual Returns received from the Registrar of Trade Unions of the respective StatesUnion Territories        1am thankful to the Registrar of Trade Unions of all the responding State GovernmentUnion Territory without whose support it would not have been possible to bring out this Report I also place on record my appreciation for the work done by the team of officers and staff members of Labour Bureau whose names appear in Annexure IV  Suggestions for further improvement of this publication are welcome  Dalject Singh Director General  Chandigarh  Dated  4 February 2015 '"
            ]
          },
          "execution_count": 17,
          "metadata": {},
          "output_type": "execute_result"
        }
      ],
      "source": [
        "test = a\n",
        "test = ''.join(filter( lambda x: x in '0123456789abcdefghijklmnopqrstuvwxyzABCDEFGHIJKLMNOPQRSTUVWXYZ ', test ))\n",
        "test\n"
      ]
    },
    {
      "cell_type": "code",
      "execution_count": 18,
      "metadata": {
        "colab": {
          "base_uri": "https://localhost:8080/"
        },
        "id": "GMqEmfzNrPd4",
        "outputId": "d9df0c5e-3366-42ab-cadb-e415f0006cb1"
      },
      "outputs": [
        {
          "name": "stderr",
          "output_type": "stream",
          "text": [
            "[nltk_data] Downloading package stopwords to\n",
            "[nltk_data]     /home/shabarish/nltk_data...\n",
            "[nltk_data]   Package stopwords is already up-to-date!\n"
          ]
        }
      ],
      "source": [
        "from nltk.corpus import stopwords\n",
        "nltk.download('stopwords')\n",
        "from nltk.tokenize import word_tokenize\n",
        "\n",
        "text_tokens = word_tokenize(test)\n",
        "\n",
        "tokens_without_sw = [word for word in text_tokens if not word in stopwords.words()]\n",
        "\n",
        "#test = \" \".join(map(str,tokens_without_sw))\n",
        "test = tokens_without_sw"
      ]
    },
    {
      "cell_type": "code",
      "execution_count": 19,
      "metadata": {
        "colab": {
          "base_uri": "https://localhost:8080/"
        },
        "id": "OjsOawEEreq0",
        "outputId": "21c21262-6ba3-4e51-fc57-7633ded137fd"
      },
      "outputs": [
        {
          "data": {
            "text/plain": [
              "[('PREFACE', 'NNP'),\n",
              " ('Trade', 'NNP'),\n",
              " ('Unions', 'NNP'),\n",
              " ('proliferated', 'VBD'),\n",
              " ('due', 'JJ'),\n",
              " ('rapid', 'JJ'),\n",
              " ('economic', 'JJ'),\n",
              " ('development', 'NN'),\n",
              " ('development', 'NN'),\n",
              " ('particular', 'IN'),\n",
              " ('The', 'DT'),\n",
              " ('setting', 'VBG'),\n",
              " ('industrial', 'JJ'),\n",
              " ('units', 'NNS'),\n",
              " ('involving', 'VBG'),\n",
              " ('wide', 'JJ'),\n",
              " ('spread', 'NN'),\n",
              " ('use', 'NN'),\n",
              " ('machinery', 'NN'),\n",
              " ('changes', 'NNS'),\n",
              " ('working', 'VBG'),\n",
              " ('living', 'NN'),\n",
              " ('environment', 'NN'),\n",
              " ('workers', 'NNS'),\n",
              " ('concentration', 'NN'),\n",
              " ('industries', 'NNS'),\n",
              " ('large', 'JJ'),\n",
              " ('towns', 'NNS'),\n",
              " ('brought', 'VBD'),\n",
              " ('workers', 'NNS'),\n",
              " ('together', 'RB'),\n",
              " ('maintain', 'VBP'),\n",
              " ('improve', 'VB'),\n",
              " ('bargaining', 'VBG'),\n",
              " ('power', 'NN'),\n",
              " ('hence', 'NN'),\n",
              " ('employment', 'NN'),\n",
              " ('conditions', 'NNS'),\n",
              " ('The', 'DT'),\n",
              " ('first', 'JJ'),\n",
              " ('organized', 'VBN'),\n",
              " ('Trade', 'NNP'),\n",
              " ('Unions', 'NNP'),\n",
              " ('India', 'NNP'),\n",
              " ('named', 'VBD'),\n",
              " ('Madras', 'NNP'),\n",
              " ('Labour', 'NNP'),\n",
              " ('Union', 'NNP'),\n",
              " ('formed', 'VBD'),\n",
              " ('early', 'JJ'),\n",
              " ('1918', 'CD'),\n",
              " ('Since', 'IN'),\n",
              " ('large', 'JJ'),\n",
              " ('number', 'NN'),\n",
              " ('Unions', 'NNS'),\n",
              " ('came', 'VBD'),\n",
              " ('almost', 'RB'),\n",
              " ('industrial', 'JJ'),\n",
              " ('centers', 'NNS'),\n",
              " ('country', 'NN'),\n",
              " ('The', 'DT'),\n",
              " ('government', 'NN'),\n",
              " ('India', 'NNP'),\n",
              " ('passed', 'VBD'),\n",
              " ('Trade', 'NNP'),\n",
              " ('Unions', 'NNP'),\n",
              " ('Act1926', 'NNP'),\n",
              " ('regulate', 'VB'),\n",
              " ('conditions', 'NNS'),\n",
              " ('governing', 'VBG'),\n",
              " ('registration', 'NN'),\n",
              " ('Trade', 'NNP'),\n",
              " ('Unions', 'NNP'),\n",
              " ('obligations', 'NNS'),\n",
              " ('imposed', 'VBN'),\n",
              " ('registered', 'JJ'),\n",
              " ('Trade', 'NNP'),\n",
              " ('Unions', 'NNP'),\n",
              " ('right', 'NN'),\n",
              " ('liabilities', 'VBZ'),\n",
              " ('The', 'DT'),\n",
              " ('Rules', 'NNP'),\n",
              " ('Framed', 'NNP'),\n",
              " ('Trade', 'NNP'),\n",
              " ('Unions', 'NNP'),\n",
              " ('Act1926', 'NNP'),\n",
              " ('impose', 'JJ'),\n",
              " ('obligation', 'NN'),\n",
              " ('registered', 'VBD'),\n",
              " ('Trade', 'NNP'),\n",
              " ('Unions', 'NNP'),\n",
              " ('Workers', 'NNP'),\n",
              " ('Employers', 'NNP'),\n",
              " ('submit', 'VBP'),\n",
              " ('annual', 'JJ'),\n",
              " ('statutory', 'JJ'),\n",
              " ('retum', 'NN'),\n",
              " ('prescribed', 'VBD'),\n",
              " ('format', 'JJ'),\n",
              " ('Registrar', 'NNP'),\n",
              " ('respective', 'NN'),\n",
              " ('States', 'NNPS'),\n",
              " ('Union', 'NNP'),\n",
              " ('Territories', 'NNP'),\n",
              " ('These', 'DT'),\n",
              " ('StateUT', 'NNP'),\n",
              " ('Authorities', 'NNPS'),\n",
              " ('turn', 'VBP'),\n",
              " ('furnish', 'JJ'),\n",
              " ('consolidated', 'VBN'),\n",
              " ('data', 'NNS'),\n",
              " ('respect', 'NN'),\n",
              " ('entire', 'JJ'),\n",
              " ('StateUT', 'NNP'),\n",
              " ('Labour', 'NNP'),\n",
              " ('Bureau', 'NNP'),\n",
              " ('The', 'DT'),\n",
              " ('Labour', 'NNP'),\n",
              " ('Bureau', 'NNP'),\n",
              " ('compiles', 'VBZ'),\n",
              " ('disseminates', 'NNS'),\n",
              " ('statistics', 'NNS'),\n",
              " ('All', 'DT'),\n",
              " ('India', 'NNP'),\n",
              " ('level', 'VBD'),\n",
              " ('The', 'DT'),\n",
              " ('present', 'JJ'),\n",
              " ('biennial', 'JJ'),\n",
              " ('review', 'NN'),\n",
              " ('presents', 'NNS'),\n",
              " ('comprehensive', 'JJ'),\n",
              " ('statistics', 'NNS'),\n",
              " ('working', 'VBG'),\n",
              " ('Trade', 'NNP'),\n",
              " ('Unions', 'NNP'),\n",
              " ('Act', 'NNP'),\n",
              " ('1926', 'CD'),\n",
              " ('2012', 'CD'),\n",
              " ('It', 'PRP'),\n",
              " ('based', 'VBN'),\n",
              " ('Annual', 'NNP'),\n",
              " ('Returns', 'NNP'),\n",
              " ('received', 'VBD'),\n",
              " ('Registrar', 'NNP'),\n",
              " ('Trade', 'NNP'),\n",
              " ('Unions', 'NNP'),\n",
              " ('respective', 'JJ'),\n",
              " ('StatesUnion', 'NNP'),\n",
              " ('Territories', 'NNP'),\n",
              " ('1am', 'CD'),\n",
              " ('thankful', 'JJ'),\n",
              " ('Registrar', 'NNP'),\n",
              " ('Trade', 'NNP'),\n",
              " ('Unions', 'NNP'),\n",
              " ('responding', 'VBG'),\n",
              " ('State', 'NNP'),\n",
              " ('GovernmentUnion', 'NNP'),\n",
              " ('Territory', 'NNP'),\n",
              " ('without', 'IN'),\n",
              " ('whose', 'WP$'),\n",
              " ('support', 'NN'),\n",
              " ('would', 'MD'),\n",
              " ('possible', 'JJ'),\n",
              " ('bring', 'VB'),\n",
              " ('Report', 'NNP'),\n",
              " ('I', 'PRP'),\n",
              " ('place', 'VBP'),\n",
              " ('record', 'JJ'),\n",
              " ('appreciation', 'NN'),\n",
              " ('work', 'NN'),\n",
              " ('done', 'VBN'),\n",
              " ('team', 'NN'),\n",
              " ('officers', 'NNS'),\n",
              " ('staff', 'NN'),\n",
              " ('members', 'NNS'),\n",
              " ('Labour', 'NNP'),\n",
              " ('Bureau', 'NNP'),\n",
              " ('whose', 'WP$'),\n",
              " ('names', 'NNS'),\n",
              " ('appear', 'VBP'),\n",
              " ('Annexure', 'NNP'),\n",
              " ('IV', 'NNP'),\n",
              " ('Suggestions', 'NNP'),\n",
              " ('improvement', 'NN'),\n",
              " ('publication', 'NN'),\n",
              " ('welcome', 'JJ'),\n",
              " ('Dalject', 'NNP'),\n",
              " ('Singh', 'NNP'),\n",
              " ('Director', 'NNP'),\n",
              " ('General', 'NNP'),\n",
              " ('Chandigarh', 'NNP'),\n",
              " ('Dated', 'VBD'),\n",
              " ('4', 'CD'),\n",
              " ('February', 'NNP'),\n",
              " ('2015', 'CD')]"
            ]
          },
          "execution_count": 19,
          "metadata": {},
          "output_type": "execute_result"
        }
      ],
      "source": [
        "tt = [i for i in test if i != '']\n",
        "tagged = nltk.pos_tag(tt)\n",
        "tagged"
      ]
    },
    {
      "cell_type": "code",
      "execution_count": 20,
      "metadata": {
        "colab": {
          "base_uri": "https://localhost:8080/"
        },
        "id": "-4hEyPl3s8_6",
        "outputId": "77efd285-8cb9-4673-a5d4-9e89a1def791"
      },
      "outputs": [
        {
          "data": {
            "text/plain": [
              "['Unions',\n",
              " 'Trade',\n",
              " 'Labour',\n",
              " 'Bureau',\n",
              " 'India',\n",
              " 'Registrar',\n",
              " 'Territories',\n",
              " 'Union',\n",
              " 'workers',\n",
              " 'StateUT',\n",
              " 'statistics',\n",
              " 'Act1926',\n",
              " 'conditions',\n",
              " 'imposed',\n",
              " 'turn',\n",
              " 'Workers',\n",
              " 'Returns',\n",
              " 'units',\n",
              " '1am',\n",
              " 'bring']"
            ]
          },
          "execution_count": 20,
          "metadata": {},
          "output_type": "execute_result"
        }
      ],
      "source": [
        "from collections import Counter\n",
        "\n",
        "f = []\n",
        "for i in tagged:\n",
        "  if i[1] == 'NN' or i[1] == 'VBD' or i[1] == 'VBG' or i[1] == 'DT' or i[1] == 'JJ' or i[1] == 'RB' or i[1] == 'PRP' or i[1] == 'IN' or i[1]==\"WP$\" or i[1]==\"VBZ\":\n",
        "    continue\n",
        "  else:\n",
        "    f.append(i[0])\n",
        "unique_words = set(f)\n",
        "fcount = {}\n",
        "for words in unique_words :\n",
        "        fcount[words] = f.count(words)\n",
        "\n",
        "c=Counter(fcount)\n",
        "y = c.most_common()\n",
        "yy = [i[0] for i in y[:20]]\n",
        "yy"
      ]
    },
    {
      "cell_type": "code",
      "execution_count": 21,
      "metadata": {
        "colab": {
          "base_uri": "https://localhost:8080/"
        },
        "id": "QzvjXGB4xEn1",
        "outputId": "745b0474-c459-40cf-f016-8d2d40727429"
      },
      "outputs": [
        {
          "name": "stdout",
          "output_type": "stream",
          "text": [
            "Collecting wordcloud\n",
            "  Downloading wordcloud-1.8.1-cp36-cp36m-manylinux1_x86_64.whl (366 kB)\n",
            "\u001b[K     |████████████████████████████████| 366 kB 6.6 MB/s \n",
            "\u001b[?25hRequirement already satisfied: numpy>=1.6.1 in /home/shabarish/anaconda3/envs/py36/lib/python3.6/site-packages (from wordcloud) (1.19.1)\n",
            "Requirement already satisfied: pillow in /home/shabarish/anaconda3/envs/py36/lib/python3.6/site-packages (from wordcloud) (8.4.0)\n",
            "Collecting matplotlib\n",
            "  Downloading matplotlib-3.3.4-cp36-cp36m-manylinux1_x86_64.whl (11.5 MB)\n",
            "\u001b[K     |████████████████████████████████| 11.5 MB 114 kB/s \n",
            "\u001b[?25hCollecting kiwisolver>=1.0.1\n",
            "  Downloading kiwisolver-1.3.1-cp36-cp36m-manylinux1_x86_64.whl (1.1 MB)\n",
            "\u001b[K     |████████████████████████████████| 1.1 MB 12.0 MB/s \n",
            "\u001b[?25hRequirement already satisfied: pyparsing!=2.0.4,!=2.1.2,!=2.1.6,>=2.0.3 in /home/shabarish/anaconda3/envs/py36/lib/python3.6/site-packages (from matplotlib->wordcloud) (2.4.7)\n",
            "Collecting cycler>=0.10\n",
            "  Using cached cycler-0.10.0-py2.py3-none-any.whl (6.5 kB)\n",
            "Requirement already satisfied: python-dateutil>=2.1 in /home/shabarish/anaconda3/envs/py36/lib/python3.6/site-packages (from matplotlib->wordcloud) (2.8.2)\n",
            "Requirement already satisfied: six in /home/shabarish/anaconda3/envs/py36/lib/python3.6/site-packages (from cycler>=0.10->matplotlib->wordcloud) (1.15.0)\n",
            "Installing collected packages: kiwisolver, cycler, matplotlib, wordcloud\n",
            "Successfully installed cycler-0.10.0 kiwisolver-1.3.1 matplotlib-3.3.4 wordcloud-1.8.1\n"
          ]
        }
      ],
      "source": [
        "!pip install wordcloud"
      ]
    },
    {
      "cell_type": "code",
      "execution_count": 23,
      "metadata": {
        "colab": {
          "base_uri": "https://localhost:8080/",
          "height": 215
        },
        "id": "N4FlTYj-wHG6",
        "outputId": "fabdc84f-6003-4cb4-e7ff-395e451b670d"
      },
      "outputs": [
        {
          "data": {
            "image/png": "[encoded data removed]",
            "text/plain": [
              "<Figure size 432x288 with 1 Axes>"
            ]
          },
          "metadata": {
            "needs_background": "light"
          },
          "output_type": "display_data"
        },
        {
          "data": {
            "text/plain": [
              "<Figure size 432x288 with 0 Axes>"
            ]
          },
          "metadata": {},
          "output_type": "display_data"
        }
      ],
      "source": [
        "import matplotlib.pyplot as plt\n",
        "from wordcloud import WordCloud\n",
        "word_cloud = WordCloud(collocations = False, background_color = 'black', colormap='RdYlGn').generate(\" \".join(map(str,yy)))\n",
        "plt.imshow(word_cloud, interpolation='bilinear')\n",
        "plt.axis(\"off\")\n",
        "plt.show()\n",
        "plt.savefig('./outputs/cloud.png')\n"
      ]
    },
    {
      "cell_type": "code",
      "execution_count": 24,
      "metadata": {
        "colab": {
          "base_uri": "https://localhost:8080/"
        },
        "id": "4Uwnz4HgzJE9",
        "outputId": "50d20ebb-f4e1-4b4e-973f-eacf96b74997"
      },
      "outputs": [],
      "source": [
        "# try:\n",
        "#     from googlesearch import search\n",
        "# except ImportError:\n",
        "#     print(\"No module named 'google' found\")\n",
        "# with open(\"../outputs/links.txt\", \"w\") as text_file:\n",
        "#         text_file.write(\"LINKS:\\n\")\n",
        "# # to search\n",
        "# query = \" \".join(map(str,yy[:5]))\n",
        "# print(\"Query - results for: \", query)\n",
        "# for j in search(query, tld=\"co.in\", num=10, stop=10, pause=2):\n",
        "#     print(j)\n",
        "#     with open(\"../outputs/links.txt\", \"a\") as text_file:\n",
        "#         text_file.write(\"%s\\n\"%str(j))"
      ]
    },
    {
      "cell_type": "code",
      "execution_count": 30,
      "metadata": {
        "id": "b5-A-uCOzkPR"
      },
      "outputs": [
        {
          "data": {
            "text/plain": [
              "[{'link': 'http://labourbureau.gov.in/TU%202k2%20Chapter%201.htm',\n",
              "  'text': 'The first organised Trade Union in India named as the Madras Labour Union was formed in the year 1918. Since then a large number of unions sprang up in almost\\xa0...'},\n",
              " {'link': 'http://labourbureau.gov.in/TU%202k2%20contents.htm',\n",
              "  'text': \"5. Federations of Workers' Trade Unions. 14-16. 6. Central Organisations and their membership. 16.\"},\n",
              " {'link': 'http://labourbureau.gov.in/TU%202k2%20Chapter%202.htm',\n",
              "  'text': \"TRADE UNIONS IN INDIA 2002. CHAPTER-II. 2. Growth of Trade Unions. 2.1 Growth of Trade Unions (Workers' & Employers' Combined)\"},\n",
              " {'link': 'http://labourbureaunew.gov.in/Index.aspx/showdetail.aspx?pr_id=Y8XU9Y3T2FY%3D',\n",
              "  'text': 'Labour Bureau Ministry of Labour and Employment, Government of India ... Publications/Reports >> Current Publications >> Trade Unions in India Reports.'},\n",
              " {'link': 'http://mospi.nic.in/sites/default/files/Statistical_year_book_india_chapters/Trade_Union.pdf',\n",
              "  'text': 'The first organized Trade Union in India named as the Madras. Labour Union ... Such a table published in Trade Unions in India 2010, Labor Bureau, is given.'},\n",
              " {'link': 'http://mospi.nic.in/sites/default/files/Statistical_year_book_india_chapters/ch41.pdf',\n",
              "  'text': 'authorized to set up separate political funds. Growth of Trade Union( Workers & Employers Combined ). Source : Trade Unions in India 2012 , Labour Bureau\\xa0...'},\n",
              " {'link': 'https://en.wikipedia.org/wiki/Trade_unions_in_India',\n",
              "  'text': 'Statistics on Trade Unions are collected annually by the Labour Bureau of the Ministry of Labour, Government of India. As per the latest data, released for\\xa0...'},\n",
              " {'link': 'https://www.ilo.org/newdelhi/WCMS_194927/lang--en/index.htm',\n",
              "  'text': 'The International Labour Organization (ILO) is the only tripartite UN agency ... Centre of India Trade Unions (CITU); All India United Trade Union Centre\\xa0...'},\n",
              " {'link': 'https://labour.gov.in/',\n",
              "  'text': 'The Ministry of Labour & Employment is one of the oldest and important Ministries of the Government of India.'},\n",
              " {'link': 'https://thewire.in/labour/the-makeover-of-indias-labour-bureau-requires-more-than-a-new-logo',\n",
              "  'text': \"29-Aug-2020 — At the launch event, India's labour minister emphasised the “importance” of ... from employers and trade unions under various labour laws.\"}]"
            ]
          },
          "execution_count": 30,
          "metadata": {},
          "output_type": "execute_result"
        }
      ],
      "source": [
        "import requests\n",
        "import urllib\n",
        "import pandas as pd\n",
        "from requests_html import HTML\n",
        "from requests_html import HTMLSession\n",
        "def get_source(url):\n",
        "      try:\n",
        "        session = HTMLSession()\n",
        "        response = session.get(url)\n",
        "        return response\n",
        "\n",
        "      except requests.exceptions.RequestException as e:\n",
        "        print(e)\n",
        "def scrape_google(query):\n",
        "\n",
        "    query = urllib.parse.quote_plus(query)\n",
        "    response = get_source(\"https://www.google.co.uk/search?q=\" + query)\n",
        "\n",
        "    links = list(response.html.absolute_links)\n",
        "    google_domains = ('https://www.google.', \n",
        "                      'https://google.', \n",
        "                      'https://webcache.googleusercontent.', \n",
        "                      'http://webcache.googleusercontent.', \n",
        "                      'https://policies.google.',\n",
        "                      'https://support.google.',\n",
        "                      'https://maps.google.')\n",
        "\n",
        "    for url in links[:]:\n",
        "        if url.startswith(google_domains):\n",
        "            links.remove(url)\n",
        "\n",
        "    return links\n",
        "def get_results(query):\n",
        "    \n",
        "    query = urllib.parse.quote_plus(query)\n",
        "    response = get_source(\"https://www.google.co.uk/search?q=\" + query)\n",
        "    \n",
        "    return response\n",
        "def parse_results(response):\n",
        "    \n",
        "    css_identifier_result = \".tF2Cxc\"\n",
        "    css_identifier_title = \"h3\"\n",
        "    css_identifier_link = \".yuRUbf a\"\n",
        "    css_identifier_text = \".IsZvec\"\n",
        "    \n",
        "    results = response.html.find(css_identifier_result)\n",
        "\n",
        "    output = []\n",
        "    \n",
        "    for result in results:\n",
        "\n",
        "        item = {\n",
        "            'link': result.find(css_identifier_link, first=True).attrs['href'],\n",
        "            'text': result.find(css_identifier_text, first=True).text\n",
        "        }\n",
        "        \n",
        "        output.append(item)\n",
        "        \n",
        "    return output\n",
        "def google_search(query):\n",
        "    response = get_results(query)\n",
        "    return parse_results(response)\n",
        "\n",
        "query = \" \".join(map(str,yy[:5]))\n",
        "results = google_search(query)\n",
        "results"
      ]
    }
  ],
  "metadata": {
    "colab": {
      "collapsed_sections": [],
      "name": "ChaoticClarity_ML.ipynb",
      "provenance": []
    },
    "interpreter": {
      "hash": "73965710b066ced831752303aa81c0cd112822c6d7ac95483aa2eb1ffbc1c39e"
    },
    "kernelspec": {
      "display_name": "Python 3.6.13 64-bit ('py36': conda)",
      "name": "python3"
    },
    "language_info": {
      "codemirror_mode": {
        "name": "ipython",
        "version": 3
      },
      "file_extension": ".py",
      "mimetype": "text/x-python",
      "name": "python",
      "nbconvert_exporter": "python",
      "pygments_lexer": "ipython3",
      "version": "3.6.13"
    }
  },
  "nbformat": 4,
  "nbformat_minor": 0
}
